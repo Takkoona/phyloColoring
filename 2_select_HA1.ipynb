{
 "cells": [
  {
   "cell_type": "code",
   "execution_count": 1,
   "id": "cac005a1",
   "metadata": {},
   "outputs": [],
   "source": [
    "import os\n",
    "\n",
    "from Bio import AlignIO\n",
    "from Bio.Align import MultipleSeqAlignment\n",
    "\n",
    "DATA_DIR = os.path.join(\"Data\", \"H3N2_HA1_Smith2004\")\n",
    "REFERENCE_INDEX = 0"
   ]
  },
  {
   "cell_type": "code",
   "execution_count": 2,
   "id": "f9a9bcda",
   "metadata": {},
   "outputs": [],
   "source": [
    "seqs = AlignIO.read(os.path.join(DATA_DIR, \"aligned.fasta\"), \"fasta\")"
   ]
  },
  {
   "cell_type": "code",
   "execution_count": 3,
   "id": "ccc18d8b",
   "metadata": {},
   "outputs": [
    {
     "name": "stdout",
     "output_type": "stream",
     "text": [
      "345 -\n"
     ]
    }
   ],
   "source": [
    "prev_gap_index = -1\n",
    "prev_aa_index = -1\n",
    "start_index = None\n",
    "end_index = None\n",
    "\n",
    "reference_indexes = []\n",
    "\n",
    "for index, aa in enumerate(seqs[REFERENCE_INDEX]):\n",
    "    if aa == \"-\":\n",
    "        if index != prev_gap_index + 1:\n",
    "            print(index, aa)\n",
    "            reference_indexes.append((start_index, end_index))\n",
    "        prev_gap_index = index\n",
    "    else:\n",
    "        if index != prev_aa_index + 1:\n",
    "            start_index = index\n",
    "        end_index = index + 1\n",
    "        prev_aa_index = index"
   ]
  },
  {
   "cell_type": "code",
   "execution_count": 4,
   "id": "6e08cded",
   "metadata": {},
   "outputs": [],
   "source": [
    "non_gap_seqs = None\n",
    "\n",
    "for start_index, end_index in reference_indexes:\n",
    "    if non_gap_seqs:\n",
    "        non_gap_seqs += seqs[:, start_index:end_index]\n",
    "    else:\n",
    "        non_gap_seqs = seqs[:, start_index:end_index]"
   ]
  },
  {
   "cell_type": "code",
   "execution_count": 5,
   "id": "b02e72b1",
   "metadata": {},
   "outputs": [],
   "source": [
    "outSeqs = []\n",
    "\n",
    "for n, record in enumerate(non_gap_seqs):\n",
    "    if n != REFERENCE_INDEX:\n",
    "        outSeqs.append(record)\n",
    "        \n",
    "outSeqs = MultipleSeqAlignment(outSeqs)"
   ]
  },
  {
   "cell_type": "code",
   "execution_count": 6,
   "id": "d694a261",
   "metadata": {},
   "outputs": [
    {
     "data": {
      "text/plain": [
       "1"
      ]
     },
     "execution_count": 6,
     "metadata": {},
     "output_type": "execute_result"
    }
   ],
   "source": [
    "AlignIO.write(outSeqs, os.path.join(DATA_DIR, \"HA1_aligned.fasta\"), \"fasta\")"
   ]
  },
  {
   "cell_type": "code",
   "execution_count": 7,
   "id": "433f9622",
   "metadata": {},
   "outputs": [],
   "source": [
    "import json"
   ]
  },
  {
   "cell_type": "code",
   "execution_count": 8,
   "id": "f9801f17",
   "metadata": {},
   "outputs": [],
   "source": [
    "with open(os.path.join(DATA_DIR, \"metadata.json\")) as f:\n",
    "    metadata = json.load(f)"
   ]
  },
  {
   "cell_type": "code",
   "execution_count": 9,
   "id": "cf9e3797",
   "metadata": {},
   "outputs": [],
   "source": [
    "EN72 = []\n",
    "VI75 = []\n",
    "\n",
    "for record in outSeqs:\n",
    "    if metadata[record.id] == \"EN72\":\n",
    "        EN72.append(record)\n",
    "    elif metadata[record.id] == \"VI75\":\n",
    "        VI75.append(record)\n",
    "\n",
    "EN72 = MultipleSeqAlignment(EN72)\n",
    "VI75 = MultipleSeqAlignment(VI75)"
   ]
  },
  {
   "cell_type": "code",
   "execution_count": 10,
   "id": "02219178",
   "metadata": {},
   "outputs": [
    {
     "name": "stdout",
     "output_type": "stream",
     "text": [
      "Alignment with 9 rows and 329 columns\n",
      "QDLPGNDNSTATLCLGHHAVPNGTLVKTITNDQIEVTNATELVQ...QTR AY661045.1\n",
      "QDLPGNDNSTATLCLGHHAVPNGTLVKTITNDQIEVTNATELVQ...QTR AY661013.1\n",
      "QDLPGNDNSTATLCLGHHAVPNGTLVKTITNDQIEVTNATELVQ...QTR AY661012.1\n",
      "QDLPGNDNSTATLCLGHHAVPNGTLVKTITNDQIEVTNATELVQ...QTR AY661011.1\n",
      "QDLPGNDNSTATLCLGHHAVPNGTLVKTITNDQIEVTNATELVQ...QTR AY661010.1\n",
      "QDLPGNDNSTATLCLGHHAVPNGTLVKTITNDQIEVTNATELVQ...QTR AY661009.1\n",
      "QDLPGNDNSTATLCLGHHAVPNGTLVKTITNDQIEVTNATELVQ...QTR AY661008.1\n",
      "QDLPGNDNSTATLCLGHHAVPNGTLVKTITNDQIEVTNATELVQ...QTR AY661006.1\n",
      "QDLPGNDNSTATLCLGHHAVPNGTLVKTITNDQIEVTNATELVQ...QTR EF626609.1\n"
     ]
    }
   ],
   "source": [
    "print(VI75)"
   ]
  },
  {
   "cell_type": "code",
   "execution_count": 11,
   "id": "b8979a37",
   "metadata": {},
   "outputs": [
    {
     "name": "stdout",
     "output_type": "stream",
     "text": [
      "Alignment with 15 rows and 329 columns\n",
      "QDFPRNDNSTATLCLGHHAVPNGTLVKTITNDQIEVTNATELVQ...QTR AY661043.1\n",
      "QDLPGNDNSTATLCLGHHAVPNGTLVKTITNDQIEVTNATELVQ...QTR AY661042.1\n",
      "QDFPGNDNSTATLCLGHHAVPNGTLVKTITNDQIEVTNATELVQ...QTR AY661041.1\n",
      "QDLPGNDNSTATLCLGHHAVPNGTLVKTITNDQIEVTNATELVQ...QTR AY661028.1\n",
      "QDLPGNDNSTATLCLGHHAVPNGTLVKTITNDQIEVTNATELVQ...QTR AY661027.1\n",
      "QNFPGNDNSTATLCLGHHAVPNGTLVKTITNDQIEVTNATELVQ...QTR AY661018.1\n",
      "QDLPGNDNSTATLCLGHHAVPNGTLVKTITNDQIEVTNATELVQ...QTR AY661017.1\n",
      "QDLPGNDNSTATLCLGHHAVPNGTLVKTITNDQIEVTNATELVQ...QTR AY661005.1\n",
      "QDFPGNDNSTATLCLGHHAVPNGTLVKTITNDQIEVTNATELVQ...QTR AY661004.1\n",
      "QDFPGNDNSTATLCLGHHAVPNGTLVKTITNDQIEVTNATELVQ...QTR AY661003.1\n",
      "QDFPGNDNSTATLCLGHHAVPNGTLVKTITNDQIEVTNATELVQ...QTR AY661002.1\n",
      "QDFPGNDNSTATLCLGHHAVPNGTLVKTITNDQIEVTNATELVQ...QTR AY661001.1\n",
      "QDFPGNDNSTATLCLGHHAVPNGTLVKTITNDQIEVTNATELVQ...QTR AY661000.1\n",
      "QDFPGNDNSTATLCLGHHAVPNGTLVKTITNDQIEVTNATELVQ...QTR AF092062.1\n",
      "QDLPGNDNSTATLCLGHHAVPNGTLVKTITNDQIEVTNATELVQ...QTR AF201875.1\n"
     ]
    }
   ],
   "source": [
    "print(EN72)"
   ]
  }
 ],
 "metadata": {
  "kernelspec": {
   "display_name": "Python 3",
   "language": "python",
   "name": "python3"
  },
  "language_info": {
   "codemirror_mode": {
    "name": "ipython",
    "version": 3
   },
   "file_extension": ".py",
   "mimetype": "text/x-python",
   "name": "python",
   "nbconvert_exporter": "python",
   "pygments_lexer": "ipython3",
   "version": "3.7.3"
  }
 },
 "nbformat": 4,
 "nbformat_minor": 5
}
