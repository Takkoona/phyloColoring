{
 "cells": [
  {
   "cell_type": "markdown",
   "metadata": {},
   "source": [
    "## Note\n",
    "The `H3N2 HA` and `H1N1 HA` sequences of `Human` host flu virus were downloaded from https://www.fludb.org/. Copy the sequence file to the destination folder under `Trees`. Will possibly have quality check on the sequences."
   ]
  },
  {
   "cell_type": "code",
   "execution_count": 1,
   "metadata": {},
   "outputs": [],
   "source": [
    "import os\n",
    "import re\n",
    "import shutil\n",
    "from collections import defaultdict, Counter\n",
    "\n",
    "import pandas as pd\n",
    "from Bio import SeqIO\n",
    "from Bio.Seq import Seq\n",
    "\n",
    "SEQUENCES_DIR = \"Sequences\"\n",
    "METADATA_DIR = \"Metadata\"\n",
    "TREES_DIR = \"Trees\"\n",
    "\n",
    "H1N1_HA_NAME = \"H1N1_HA\"\n",
    "H3N2_HA_NAME = \"H3N2_HA\"\n",
    "H3N2_HA1_PRE2003_NAME = \"H3N2_HA1_pre2003\"\n",
    "SARS_COV_2_CDS_NAME = \"SARS_CoV_2_cds\"\n",
    "ZIKV_POLYPROTEIN_NAME = \"ZIKV_polyprotein\"\n",
    "\n",
    "GROUPING = \"Spatiotemporal\"\n",
    "\n",
    "H1N1_HA_YEAR = 2009\n",
    "H3N2_HA_YEAR = 2009\n",
    "\n",
    "MAX_AMBIGUITY = 1\n",
    "HA_STANDARD_LEN = 566\n",
    "AMBIGUITY = r\"B|J|Z\"\n",
    "\n",
    "H1N1_HA_EXCLUDE = [\n",
    "    \"CY075897\",\n",
    "    \"JX875001\",\n",
    "    \"JQ348837\",\n",
    "    \"KU720432\",\n",
    "    \"KU720436\",\n",
    "    \"KU720435\",\n",
    "    \"KY930507\",\n",
    "    \"CY079544\",\n",
    "    \"KF057112\",\n",
    "    \"HQ908440\",\n",
    "    \"MH211234\",\n",
    "    \"MH211235\",\n",
    "#     \"MK615191\",\n",
    "    \"MK615591\",\n",
    "]\n",
    "\n",
    "H1N1_HA_EXCLUDE_SEASON = [\"USA_Unknown_14-15\"]\n",
    "\n",
    "# H3N2_HA_EXCLUDE = [\n",
    "#     \"KY273064\",\n",
    "#     \"KY273063\",\n",
    "#     \"KY273058\",\n",
    "#     \"KY273060\",\n",
    "#     \"KY273057\",\n",
    "#     \"KU289634\",\n",
    "#     \"MH201523\",\n",
    "#     \"KP335956\",\n",
    "#     \"KF805696\",\n",
    "#     \"KP335932\",\n",
    "#     \"KP335938\",\n",
    "#     \"KP335934\",\n",
    "#     \"MK239073\",\n",
    "#     \"MK117070\",\n",
    "#     \"KJ955515\",\n",
    "#     \"KP765772\",\n",
    "#     \"KJ623709\",\n",
    "#     \"GU937743\",\n",
    "#     \"KF805640\",\n",
    "#     \"KF805656\",\n",
    "#     \"KF805688\",\n",
    "#     \"KU182657\",\n",
    "#     \"MF993038\",\n",
    "#     \"KU182655\",\n",
    "#     \"MG856267\",\n",
    "#     \"MN571199\",\n",
    "#     \"CY189823\"\n",
    "# ]"
   ]
  },
  {
   "cell_type": "code",
   "execution_count": 2,
   "metadata": {},
   "outputs": [],
   "source": [
    "if not os.path.exists(TREES_DIR):\n",
    "    os.mkdir(TREES_DIR)"
   ]
  },
  {
   "cell_type": "markdown",
   "metadata": {},
   "source": [
    "### 1. H1N1\n",
    "\n",
    "Remove the sequence with ambiguious sites. Group sequences by year."
   ]
  },
  {
   "cell_type": "code",
   "execution_count": 3,
   "metadata": {},
   "outputs": [],
   "source": [
    "meta = pd.read_csv(\n",
    "    os.path.join(METADATA_DIR, H1N1_HA_NAME + \".tsv\"),\n",
    "    sep=\"\\t\",\n",
    "    index_col=\"Sequence Accession\",\n",
    "    na_values=[\"-N/A-\", \"Unknown\"],\n",
    "    true_values=[\"Yes\"],\n",
    "    false_values=[\"No\"]\n",
    ")"
   ]
  },
  {
   "cell_type": "code",
   "execution_count": 4,
   "metadata": {},
   "outputs": [
    {
     "name": "stdout",
     "output_type": "stream",
     "text": [
      "19685\n"
     ]
    }
   ],
   "source": [
    "nQualified = 0\n",
    "seqs = defaultdict(list)\n",
    "\n",
    "for record in SeqIO.parse(os.path.join(SEQUENCES_DIR, H1N1_HA_NAME + \".fasta\"), \"fasta\"):\n",
    "    record.seq = Seq(re.sub(AMBIGUITY, 'X', str(record.seq)))\n",
    "    info = dict(i.split(':') for i in record.id.split('|'))\n",
    "    time, country, state, season = meta.loc[\n",
    "        info[\"gb\"],\n",
    "        [\"Collection Date\", \"Country\", \"State/Province\", \"Flu Season\"]\n",
    "    ]\n",
    "    time = time[-4:] if pd.notna(time) else 0\n",
    "    country = country.replace(' ', '_') if pd.notna(country) else \"Unknown\"\n",
    "    state = state.replace(' ', '_') if pd.notna(state) else \"Unknown\"\n",
    "    season = season.replace(' ', '_') if pd.notna(season) else \"Unknown\"\n",
    "    seasonInfo = '_'.join([country, state, season])\n",
    "    if (\n",
    "        Counter(str(record.seq))['X'] < MAX_AMBIGUITY\n",
    "        and len(record.seq) == HA_STANDARD_LEN\n",
    "        and int(time) >= H1N1_HA_YEAR\n",
    "        and info[\"gb\"] not in H1N1_HA_EXCLUDE\n",
    "        and seasonInfo not in H1N1_HA_EXCLUDE_SEASON\n",
    "    ):\n",
    "        nQualified += 1\n",
    "        record.id = info[\"gb\"]\n",
    "        record.description = \"\"\n",
    "        seqs[\"{}\".format(time)].append(record)\n",
    "    \n",
    "groupingDir = os.path.join(TREES_DIR, H1N1_HA_NAME, GROUPING)\n",
    "    \n",
    "if os.path.exists(groupingDir):\n",
    "    shutil.rmtree(groupingDir)\n",
    "os.makedirs(groupingDir)\n",
    "\n",
    "for st, records in seqs.items():\n",
    "    outDir = os.path.join(groupingDir, st)\n",
    "    if not os.path.exists(outDir):\n",
    "        os.mkdir(outDir)\n",
    "    SeqIO.write(records, os.path.join(outDir, \"sequences.fasta\"), \"fasta\")\n",
    "print(nQualified)"
   ]
  },
  {
   "cell_type": "markdown",
   "metadata": {},
   "source": [
    "### 2. H3N2\n",
    "\n",
    "Remove the sequence with ambiguious sites. Group sequences by year and country."
   ]
  },
  {
   "cell_type": "code",
   "execution_count": 10,
   "metadata": {},
   "outputs": [],
   "source": [
    "meta = pd.read_csv(\n",
    "    os.path.join(METADATA_DIR, H3N2_HA_NAME + \".tsv\"),\n",
    "    sep=\"\\t\",\n",
    "    na_values=[\"-N/A-\", \"Unknown\"],\n",
    "    true_values=[\"Yes\"],\n",
    "    false_values=[\"No\"]\n",
    ")\n",
    "meta = meta.drop_duplicates()\n",
    "meta = meta.set_index(\"Sequence Accession\")"
   ]
  },
  {
   "cell_type": "code",
   "execution_count": 13,
   "metadata": {},
   "outputs": [
    {
     "name": "stdout",
     "output_type": "stream",
     "text": [
      "23288\n"
     ]
    }
   ],
   "source": [
    "nQualified = 0\n",
    "seqs = defaultdict(list)\n",
    "\n",
    "for record in SeqIO.parse(os.path.join(SEQUENCES_DIR, H3N2_HA_NAME + \".fasta\"), \"fasta\"):\n",
    "    record.seq = Seq(re.sub(AMBIGUITY, 'X', str(record.seq)))\n",
    "    info = dict(i.split(':') for i in record.id.split('|'))\n",
    "    time = meta.loc[info[\"gb\"], \"Collection Date\"]\n",
    "    time = time[-4:] if pd.notna(time) else 0\n",
    "#     country = meta.loc[info[\"gb\"], \"Country\"]\n",
    "#     country = country.replace(' ', '_') if pd.notna(country) else \"Unknown\"\n",
    "    if (\n",
    "        Counter(str(record.seq))['X'] < MAX_AMBIGUITY\n",
    "        and len(record.seq) == HA_STANDARD_LEN\n",
    "        and int(time) >= H3N2_HA_YEAR\n",
    "    ):\n",
    "        nQualified += 1\n",
    "        record.id = info[\"gb\"]\n",
    "        record.description = \"\"\n",
    "        seqs[\"{}\".format(time)].append(record)\n",
    "\n",
    "groupingDir = os.path.join(TREES_DIR, H3N2_HA_NAME, GROUPING)\n",
    "    \n",
    "if os.path.exists(groupingDir):\n",
    "    shutil.rmtree(groupingDir)\n",
    "os.makedirs(groupingDir)\n",
    "    \n",
    "for st, records in seqs.items():\n",
    "    outDir = os.path.join(groupingDir, st)\n",
    "    if not os.path.exists(outDir):\n",
    "        os.mkdir(outDir)\n",
    "    SeqIO.write(records, os.path.join(outDir, \"sequences.fasta\"), \"fasta\")\n",
    "print(nQualified)"
   ]
  },
  {
   "cell_type": "markdown",
   "metadata": {},
   "source": [
    "### 3. Others\n",
    "\n",
    "Including `ZIKV`, `H3N2_HA1` and `SARS-CoV-2`."
   ]
  },
  {
   "cell_type": "code",
   "execution_count": 7,
   "metadata": {},
   "outputs": [
    {
     "data": {
      "text/plain": [
       "'Trees\\\\H3N2_HA1_pre2003\\\\sequences.fasta'"
      ]
     },
     "execution_count": 7,
     "metadata": {},
     "output_type": "execute_result"
    }
   ],
   "source": [
    "outDir = os.path.join(TREES_DIR, H3N2_HA1_PRE2003_NAME)\n",
    "\n",
    "if not os.path.exists(outDir):\n",
    "    os.mkdir(outDir)\n",
    "\n",
    "shutil.copyfile(\n",
    "    os.path.join(SEQUENCES_DIR, H3N2_HA1_PRE2003_NAME + \".fasta\"),\n",
    "    os.path.join(outDir, \"sequences.fasta\")\n",
    ")"
   ]
  },
  {
   "cell_type": "code",
   "execution_count": 8,
   "metadata": {},
   "outputs": [
    {
     "data": {
      "text/plain": [
       "'Trees\\\\SARS_CoV_2_cds\\\\sequences.fasta'"
      ]
     },
     "execution_count": 8,
     "metadata": {},
     "output_type": "execute_result"
    }
   ],
   "source": [
    "outDir = os.path.join(TREES_DIR, SARS_COV_2_CDS_NAME)\n",
    "    \n",
    "if not os.path.exists(outDir):\n",
    "    os.mkdir(outDir)\n",
    "\n",
    "shutil.copyfile(\n",
    "    os.path.join(SEQUENCES_DIR, SARS_COV_2_CDS_NAME + \".fasta\"),\n",
    "    os.path.join(outDir, \"sequences.fasta\")\n",
    ")"
   ]
  },
  {
   "cell_type": "code",
   "execution_count": 9,
   "metadata": {},
   "outputs": [
    {
     "data": {
      "text/plain": [
       "'Trees\\\\ZIKV_polyprotein\\\\sequences.fasta'"
      ]
     },
     "execution_count": 9,
     "metadata": {},
     "output_type": "execute_result"
    }
   ],
   "source": [
    "outDir = os.path.join(TREES_DIR, ZIKV_POLYPROTEIN_NAME)\n",
    "    \n",
    "if not os.path.exists(outDir):\n",
    "    os.mkdir(outDir)\n",
    "\n",
    "shutil.copyfile(\n",
    "    os.path.join(SEQUENCES_DIR, ZIKV_POLYPROTEIN_NAME + \".fasta\"),\n",
    "    os.path.join(outDir, \"sequences.fasta\")\n",
    ")"
   ]
  }
 ],
 "metadata": {
  "kernelspec": {
   "display_name": "Python 3",
   "language": "python",
   "name": "python3"
  },
  "language_info": {
   "codemirror_mode": {
    "name": "ipython",
    "version": 3
   },
   "file_extension": ".py",
   "mimetype": "text/x-python",
   "name": "python",
   "nbconvert_exporter": "python",
   "pygments_lexer": "ipython3",
   "version": "3.5.3"
  }
 },
 "nbformat": 4,
 "nbformat_minor": 2
}
