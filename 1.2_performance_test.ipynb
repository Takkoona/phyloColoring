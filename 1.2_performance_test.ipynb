{
 "cells": [
  {
   "cell_type": "markdown",
   "metadata": {},
   "source": [
    "## Note\n",
    "\n",
    "Run `test_minEffectiveSize.R` and `test_similarity.R` in `Validation` folder before the notebook."
   ]
  },
  {
   "cell_type": "code",
   "execution_count": 1,
   "metadata": {},
   "outputs": [],
   "source": [
    "library(ape)\n",
    "library(sitePath)\n",
    "library(ggplot2)\n",
    "\n",
    "VALIDATION_DIR <- \"Validation\"\n",
    "PLOTS_DIR <- \"Plots\""
   ]
  },
  {
   "cell_type": "code",
   "execution_count": 2,
   "metadata": {},
   "outputs": [],
   "source": [
    "tree <- read.tree(file.path(\"Trees\", \"H1N1_HA\", \"RAxML_bestTree.PROTGAMMAGTR\"))\n",
    "tree <- drop.tip(tree, \"MK615591\")\n",
    "tree <- addMSA(tree, msaPath = file.path(\"Trees\", \"H1N1_HA\", \"aligned.fasta\"), msaFormat = \"fasta\")\n",
    "nTip <- Ntip(tree)"
   ]
  },
  {
   "cell_type": "code",
   "execution_count": 3,
   "metadata": {},
   "outputs": [],
   "source": [
    "paths <- lineagePath(tree, similarity = 0.01)"
   ]
  },
  {
   "cell_type": "code",
   "execution_count": 4,
   "metadata": {},
   "outputs": [],
   "source": [
    "mutations <- fixationSites(lineagePath(tree))\n",
    "align <- attr(attr(mutations, \"paths\"), \"align\")"
   ]
  },
  {
   "cell_type": "code",
   "execution_count": 5,
   "metadata": {},
   "outputs": [],
   "source": [
    "fixationSites <- readLines(file.path(VALIDATION_DIR, \"sites.txt\"))\n",
    "fixationSites <- as.integer(fixationSites)\n",
    "\n",
    "loci <- which(vapply(\n",
    "    X = seq_along(attr(mutations, \"reference\")),\n",
    "    FUN = function(s) {\n",
    "        length(unique(substr(align, s, s))) > 1\n",
    "    },\n",
    "    FUN.VALUE = logical(1)\n",
    "))\n",
    "\n",
    "siteCategory <- data.frame(\n",
    "    \"site\" = integer(),\n",
    "    \"category\" = character(),\n",
    "    \"fixationSite\" = logical()\n",
    ")\n",
    "siteCategory <- rbind(\n",
    "    siteCategory,\n",
    "    data.frame(\n",
    "        \"site\" = fixationSites,\n",
    "        \"category\" = rep(\"fixed\", length(fixationSites)),\n",
    "        \"fixationSite\" = rep(TRUE, length(fixationSites))\n",
    "    )\n",
    ")\n",
    "\n",
    "conservedSites <- setdiff(loci, fixationSites)\n",
    "siteCategory <- rbind(\n",
    "    siteCategory,\n",
    "    data.frame(\n",
    "        \"site\" = conservedSites,\n",
    "        \"category\" = rep(\"conserved\", length(conservedSites)),\n",
    "        \"fixationSite\" = rep(FALSE, length(conservedSites))\n",
    "    )\n",
    ")\n",
    "siteCategory <- siteCategory[order(siteCategory[[\"site\"]]), ]\n",
    "row.names(siteCategory) <- NULL\n",
    "\n",
    "nPositive <- sum(siteCategory[[\"fixationSite\"]] == TRUE)\n",
    "nNegative <- sum(siteCategory[[\"fixationSite\"]] == FALSE)"
   ]
  },
  {
   "cell_type": "markdown",
   "metadata": {},
   "source": [
    "### 1. similarity\n",
    "\n",
    "Test the `similarity` parameter in `fixationSites` function."
   ]
  },
  {
   "cell_type": "code",
   "execution_count": 13,
   "metadata": {},
   "outputs": [],
   "source": [
    "testParam <- \"similarity\"\n",
    "res <- readRDS(file.path(VALIDATION_DIR, paste0(testParam, \".rds\")))"
   ]
  },
  {
   "cell_type": "code",
   "execution_count": 14,
   "metadata": {},
   "outputs": [],
   "source": [
    "predResult <- data.frame(\n",
    "    \"similarity\" = double(),\n",
    "    \"minEffectiveSize\" = integer(),\n",
    "    \"rate\" = double(),\n",
    "    \"category\" = character()\n",
    ")\n",
    "\n",
    "for (similarity in names(res)) {\n",
    "    for (minEffectiveSize in names(res[[similarity]])) {\n",
    "        mutations <- res[[similarity]][[minEffectiveSize]]\n",
    "        assessTable <- siteCategory\n",
    "        sites <- as.integer(names(mutations))\n",
    "        assessTable[[\"predFixed\"]] <- assessTable[[\"site\"]] %in% sites\n",
    "        x <- assessTable[[\"fixationSite\"]] + assessTable[[\"predFixed\"]]\n",
    "        senstivity <- length(which(x == 2)) / nPositive\n",
    "        specificity <- length(which(x == 0)) / nNegative\n",
    "        \n",
    "#         percentage <- as.integer(minEffectiveSize) / nTip\n",
    "        predResult <- rbind(\n",
    "            predResult,\n",
    "            data.frame(\n",
    "                \"similarity\" = as.double(c(similarity, similarity)),\n",
    "                \"minEffectiveSize\" = as.integer(c(minEffectiveSize, minEffectiveSize)),\n",
    "                \"rate\" = c(senstivity, specificity),\n",
    "                \"category\" = c(\"Senstivity\", \"Specificity\")\n",
    "            )\n",
    "        )\n",
    "    }\n",
    "}\n",
    "\n",
    "predResult <- predResult[which(predResult$minEffectiveSize == 30), ]"
   ]
  },
  {
   "cell_type": "code",
   "execution_count": 15,
   "metadata": {},
   "outputs": [
    {
     "data": {
      "image/png": "[encoded data removed]",
      "text/plain": [
       "plot without title"
      ]
     },
     "metadata": {
      "image/png": {
       "height": 420,
       "width": 420
      },
      "text/plain": {
       "height": 420,
       "width": 420
      }
     },
     "output_type": "display_data"
    }
   ],
   "source": [
    "p <- ggplot(predResult, aes(similarity, rate)) +\n",
    "    geom_point(aes(color = factor(category))) + ylim(0, 1) + \n",
    "    theme(axis.text.x = element_text(angle = 90, hjust = 1))\n",
    "p\n",
    "\n",
    "ggsave(\n",
    "    filename = file.path(PLOTS_DIR, paste0(testParam, \".pdf\")),\n",
    "    plot = p,\n",
    "    device = \"pdf\",\n",
    "    width = 3.25, height = 2\n",
    ")"
   ]
  },
  {
   "cell_type": "markdown",
   "metadata": {},
   "source": [
    "### 2. minEffectiveSize\n",
    "\n",
    "Test the `minEffectiveSize` parameter in `fixationSites` function."
   ]
  },
  {
   "cell_type": "code",
   "execution_count": 9,
   "metadata": {},
   "outputs": [],
   "source": [
    "testParam <- \"minEffectiveSize\"\n",
    "\n",
    "res <- readRDS(file.path(VALIDATION_DIR, paste0(testParam, \".rds\")))"
   ]
  },
  {
   "cell_type": "code",
   "execution_count": 10,
   "metadata": {},
   "outputs": [],
   "source": [
    "predResult <- data.frame(\n",
    "    \"similarity\" = double(),\n",
    "    \"minEffectiveSize\" = integer(),\n",
    "    \"rate\" = double(),\n",
    "    \"category\" = character()\n",
    ")\n",
    "\n",
    "for (similarity in names(res)) {\n",
    "    for (minEffectiveSize in names(res[[similarity]])) {\n",
    "        mutations <- res[[similarity]][[minEffectiveSize]]\n",
    "        assessTable <- siteCategory\n",
    "        sites <- as.integer(names(mutations))\n",
    "        assessTable[[\"predFixed\"]] <- assessTable[[\"site\"]] %in% sites\n",
    "        x <- assessTable[[\"fixationSite\"]] + assessTable[[\"predFixed\"]]\n",
    "        senstivity <- length(which(x == 2)) / nPositive\n",
    "        specificity <- length(which(x == 0)) / nNegative\n",
    "        \n",
    "        percentage <- as.integer(minEffectiveSize) / nTip\n",
    "        predResult <- rbind(\n",
    "            predResult,\n",
    "            data.frame(\n",
    "                \"similarity\" = as.double(c(similarity, similarity)),\n",
    "                \"minEffectiveSize\" = c(percentage, percentage),\n",
    "                \"rate\" = c(senstivity, specificity),\n",
    "                \"category\" = c(\"Senstivity\", \"Specificity\")\n",
    "            )\n",
    "        )\n",
    "    }\n",
    "}\n",
    "predResult <- predResult[which(predResult$similarity == 0.001), ]"
   ]
  },
  {
   "cell_type": "code",
   "execution_count": 12,
   "metadata": {},
   "outputs": [
    {
     "data": {
      "image/png": "[encoded data removed]",
      "text/plain": [
       "plot without title"
      ]
     },
     "metadata": {
      "image/png": {
       "height": 420,
       "width": 420
      },
      "text/plain": {
       "height": 420,
       "width": 420
      }
     },
     "output_type": "display_data"
    }
   ],
   "source": [
    "p <- ggplot(predResult, aes(minEffectiveSize, rate)) +\n",
    "    geom_point(aes(color = factor(category))) + ylim(0, 1) + \n",
    "    theme(axis.text.x = element_text(angle = 90, hjust = 1))\n",
    "p\n",
    "\n",
    "ggsave(\n",
    "    filename = file.path(PLOTS_DIR, paste0(testParam, \".pdf\")),\n",
    "    plot = p,\n",
    "    device = \"pdf\",\n",
    "    width = 3.25, height = 2\n",
    ")"
   ]
  }
 ],
 "metadata": {
  "kernelspec": {
   "display_name": "R",
   "language": "R",
   "name": "ir"
  },
  "language_info": {
   "codemirror_mode": "r",
   "file_extension": ".r",
   "mimetype": "text/x-r-source",
   "name": "R",
   "pygments_lexer": "r",
   "version": "4.0.0"
  }
 },
 "nbformat": 4,
 "nbformat_minor": 2
}
