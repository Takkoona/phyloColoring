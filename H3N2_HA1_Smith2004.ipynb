{
 "cells": [
  {
   "cell_type": "markdown",
   "id": "2e834eb4",
   "metadata": {},
   "source": [
    "# Data collection\n",
    "\n",
    "Collecting sequence data and clustering from Smith et al. 2004 paper"
   ]
  },
  {
   "cell_type": "code",
   "execution_count": 1,
   "id": "d2f6083c",
   "metadata": {},
   "outputs": [],
   "source": [
    "import os\n",
    "import re\n",
    "import json\n",
    "from collections import defaultdict\n",
    "\n",
    "from Bio import Entrez, SeqIO\n",
    "from Bio.Seq import Seq\n",
    "from Bio.SeqRecord import SeqRecord\n",
    "\n",
    "DATA_DIR = os.path.join(\"Data\", \"H3N2_HA1_Smith2004\")\n",
    "PMID = \"15218094\"\n",
    "ADDITIONAL = (\n",
    "    \"AF008665\", \"AF008697\", \"AF008711\",\n",
    "    \"AF008725\", \"AF008755\", \"AF008769\",\n",
    "    \"AF008828\", \"AF008867\", \"AF008886\",\n",
    "    \"AF008888\", \"AF008903\", \"AF008905\",\n",
    "    \"AF092062\", \"AF131997\", \"AF180570\",\n",
    "    \"AF180602\", \"AF180643\", \"AF201874\",\n",
    "    \"AF368444\", \"AF368446\", \"D21173\",\n",
    "    \"D49961\", \"ISDN38157\", \"ISDNCDA001\",\n",
    "    \"ISDNENG72\", \"ISDNHK71\", \"ISDNTX77\",\n",
    "    \"ISDNVIC75\",\n",
    "#     \"M16739\",\n",
    "    \"U08858\", \"Z46405\", \"Z46408\", \"Z46413\", \"Z46414\",\n",
    "    # Manually add missing records\n",
    "    \"CY112289\", \"AF201875\", \"V01086\",\n",
    "    \"CY120992\", \"KM821316\", \"KM821317\",\n",
    "    \"KM821324\",\n",
    "#     \"CY113525\"\n",
    ")\n",
    "\n",
    "REGION_NAMES = {\n",
    "    \"Akita\": 'AK',\n",
    "    \"Amsterdam\": 'AM',\n",
    "    \"Atlanta\": 'AT',\n",
    "    \"Auckland\": 'AU',\n",
    "    \"Beijing\": 'BE',\n",
    "    \"Bilthoven\": 'BI',\n",
    "    \"Brisbane\": 'BR',\n",
    "    \"Canberra\": 'CA',\n",
    "    \"Christchurch\": 'CC',\n",
    "    \"Caen\": 'CE',\n",
    "    \"Colorado\": 'CO',\n",
    "    \"England\": 'EN',\n",
    "    \"Enschede\": 'ES',\n",
    "    \"Finland\": 'FI',\n",
    "    \"Fujian\": 'FU',\n",
    "    \"Guangdong\": 'GD',\n",
    "    \"Geneva\": 'GE',\n",
    "    \"Guildford\": 'GF',\n",
    "    \"Guizhou\": 'GU',\n",
    "    \"Hong Kong\": 'HK',\n",
    "    \"Houston\": 'HO',\n",
    "    \"Johanesburg\": 'JO',\n",
    "    \"Johannesburg\": \"JO\",\n",
    "    \"Leningrad\": 'LE',\n",
    "    \"Lyon\": 'LY',\n",
    "    \"Madrid\": 'MA',\n",
    "    \"Memphis\": 'ME',\n",
    "    \"Moscow\": 'MW',\n",
    "    \"Nanchang\": 'NA',\n",
    "    \"Nice\": 'NE',\n",
    "    \"Nijmegen\": 'NI',\n",
    "    \"Netherlands\": 'NL',\n",
    "    \"Oslo\": 'OS',\n",
    "#     \"Madrid\": 'OV', # Not really\n",
    "    \"Paris\": 'PA',\n",
    "    \"Port Chalmers\": 'PC',\n",
    "    \"Phillipines\": 'PH',\n",
    "    \"Philippines\": 'PH',\n",
    "    \"Panama\": 'PM',\n",
    "    \"Rotterdam\": 'RD',\n",
    "    \"South Austalia\": 'SA',\n",
    "    \"South Australia\": 'SA',\n",
    "    \"Shandong\": 'SD',\n",
    "    \"Sendai\": 'SE',\n",
    "    \"Seoul\": \"SU\",\n",
    "    \"Shiga\": 'SG',\n",
    "    \"Shanghai\": 'SH',\n",
    "    \"Sichuan\": 'SI',\n",
    "    \"Scotland\": 'SL',\n",
    "    \"Singapore\": 'SP',\n",
    "    \"Stockholm\": 'ST',\n",
    "#     \"Suita\": 'SU',\n",
    "    \"Sydney\": 'SY',\n",
    "    \"Texas\": 'TE',\n",
    "    \"Tilburg\": 'TI',\n",
    "    \"Umea\": 'UM',\n",
    "    \"Victoria\": 'VI',\n",
    "    \"Wellington\": 'WE',\n",
    "    \"Wuhan\": 'WU',\n",
    "    \"Yamagata\": 'YA'\n",
    "}"
   ]
  },
  {
   "cell_type": "code",
   "execution_count": 2,
   "id": "c5dc6523",
   "metadata": {},
   "outputs": [],
   "source": [
    "# Internet access to NCBI entrez service is required\n",
    "Entrez.email = \"chengyang.ji12@alumni.xjtlu.edu.cn\"\n",
    "\n",
    "(res,) = Entrez.read(Entrez.elink(linkname=\"pubmed_nuccore\", id=PMID, idtype=\"acc\"))\n",
    "(res,) = res[\"LinkSetDb\"]\n",
    "\n",
    "IdList = [*[acc[\"Id\"] for acc in res[\"Link\"]], *ADDITIONAL]\n",
    "\n",
    "handle = Entrez.efetch(db=\"nuccore\", id=IdList, rettype=\"gb\", retmode=\"text\")\n",
    "records = [record for record in SeqIO.parse(handle, \"gb\")]"
   ]
  },
  {
   "cell_type": "code",
   "execution_count": 3,
   "id": "0d57184a",
   "metadata": {
    "scrolled": false
   },
   "outputs": [
    {
     "data": {
      "text/plain": [
       "255"
      ]
     },
     "execution_count": 3,
     "metadata": {},
     "output_type": "execute_result"
    }
   ],
   "source": [
    "outSeqs = []\n",
    "seqname2ac = defaultdict(set)\n",
    "\n",
    "for record in records:\n",
    "    organism = None\n",
    "    organism2 = None\n",
    "    seq = None\n",
    "    for feature in record.features:\n",
    "        if feature.type == \"source\":\n",
    "            # Get the organism name\n",
    "            (organism,) = feature.qualifiers[\"organism\"]\n",
    "            m = re.search(r\"/[A-Za-z ]+/[A-Za-z0-9]+/[0-9]+\", organism)\n",
    "            organism = m.group(0)\n",
    "            _, region, name, year = organism.split(\"/\")\n",
    "            m = re.search(r\"[0-9]+\", name)\n",
    "            name = m.group(0)\n",
    "            # The renamed organism for mapping cluster name\n",
    "            organism = (REGION_NAMES[region], name, year[-2:])\n",
    "            organism2 = organism\n",
    "            # Get the isolate/strain name of the virus\n",
    "            if \"strain\" in feature.qualifiers:\n",
    "                (strain,) = feature.qualifiers[\"strain\"]\n",
    "            elif \"isolate\" in feature.qualifiers:\n",
    "                (strain,) = feature.qualifiers[\"isolate\"]\n",
    "            # Correct the year if possible\n",
    "            year2 = strain.split(\"/\")[-1]\n",
    "            if year2:\n",
    "                year2 = year2.split('(')[0].strip()\n",
    "                organism2 = (REGION_NAMES[region], name, year2[-2:])\n",
    "        if feature.type == \"CDS\":\n",
    "            (seq,) = feature.qualifiers[\"translation\"]\n",
    "    # Map the renamed organism with accession id\n",
    "    seqname2ac[organism].add(record.id)\n",
    "    seqname2ac[organism2].add(record.id)\n",
    "    outSeqs.append(SeqRecord(seq=Seq(seq), id=record.id, description=\"\"))\n",
    "    \n",
    "SeqIO.write(outSeqs, os.path.join(DATA_DIR, \"sequences.fasta\"), \"fasta\")"
   ]
  },
  {
   "cell_type": "code",
   "execution_count": 4,
   "id": "771f55a7",
   "metadata": {},
   "outputs": [],
   "source": [
    "clusters = {}\n",
    "\n",
    "with open(os.path.join(DATA_DIR, \"metadata_copied.txt\")) as f:\n",
    "    for row in f:\n",
    "        row = row.split(\" \")\n",
    "        seqname = row[1].split(\"/\")\n",
    "        m = re.search(r\"[0-9]+\", seqname[1])\n",
    "        seqname[1] = m.group(0)\n",
    "        if seqname[0] == \"OV\":\n",
    "            seqname[0] = \"MA\"\n",
    "        seqname = tuple(seqname)\n",
    "        for ac in seqname2ac[seqname]:\n",
    "            clusters[ac] = row[0]\n",
    "\n",
    "with open(os.path.join(DATA_DIR, \"metadata.json\"), \"w\") as f:\n",
    "    json.dump(clusters, f)"
   ]
  },
  {
   "cell_type": "code",
   "execution_count": 5,
   "id": "e8829bfc",
   "metadata": {},
   "outputs": [
    {
     "data": {
      "text/plain": [
       "True"
      ]
     },
     "execution_count": 5,
     "metadata": {},
     "output_type": "execute_result"
    }
   ],
   "source": [
    "all(record.id in clusters for record in records)"
   ]
  }
 ],
 "metadata": {
  "kernelspec": {
   "display_name": "Python 3",
   "language": "python",
   "name": "python3"
  },
  "language_info": {
   "codemirror_mode": {
    "name": "ipython",
    "version": 3
   },
   "file_extension": ".py",
   "mimetype": "text/x-python",
   "name": "python",
   "nbconvert_exporter": "python",
   "pygments_lexer": "ipython3",
   "version": "3.7.3"
  }
 },
 "nbformat": 4,
 "nbformat_minor": 5
}
