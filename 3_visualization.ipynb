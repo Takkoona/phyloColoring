{
 "cells": [
  {
   "cell_type": "code",
   "execution_count": 1,
   "metadata": {},
   "outputs": [
    {
     "name": "stderr",
     "output_type": "stream",
     "text": [
      "Warning message:\n",
      "\"package 'sitePath' was built under R version 3.6.3\"\n"
     ]
    }
   ],
   "source": [
    "library(ape)\n",
    "library(sitePath)"
   ]
  },
  {
   "cell_type": "code",
   "execution_count": 2,
   "metadata": {},
   "outputs": [],
   "source": [
    "# data(h3n2_align)\n",
    "# data(h3n2_tree)\n",
    "\n",
    "# tree <- addMSA(h3n2_tree, alignment = h3n2_align)\n",
    "# paths <- lineagePath(tree, similarity = 0.023)\n",
    "# plot(paths)"
   ]
  },
  {
   "cell_type": "code",
   "execution_count": 3,
   "metadata": {},
   "outputs": [
    {
     "data": {
      "image/png": "[encoded data removed]",
      "text/plain": [
       "plot without title"
      ]
     },
     "metadata": {
      "image/png": {
       "height": 420,
       "width": 420
      },
      "text/plain": {
       "height": 420,
       "width": 420
      }
     },
     "output_type": "display_data"
    }
   ],
   "source": [
    "tree <- read.tree(file.path(\"Trees\", \"SARS_CoV_2_cds\", \"RAxML_bestTree.GTRGAMMA\"))\n",
    "tree <- addMSA(tree, msaPath = file.path(\"Trees\", \"SARS_CoV_2_cds\", \"aligned.fasta\"), msaFormat = \"fasta\")\n",
    "\n",
    "paths <- lineagePath(tree, similarity = 0.03)\n",
    "plot(paths)"
   ]
  },
  {
   "cell_type": "code",
   "execution_count": 4,
   "metadata": {},
   "outputs": [],
   "source": [
    "fixationlineages <- function (paths,\n",
    "                              minEffectiveSize = NULL,\n",
    "                              searchDepth = 1,\n",
    "                              method = c(\"compare\", \"insert\", \"delete\"),\n",
    "                              ...) {\n",
    "    tree <- attr(paths, \"tree\")\n",
    "    nTips <- length(tree[[\"tip.label\"]])\n",
    "    align <- attr(paths, \"align\")\n",
    "    # Generate the site mapping from reference\n",
    "    reference <- attr(paths, \"reference\")\n",
    "    # Decide which miniminzing strategy\n",
    "    minimizeEntropy <- switch(\n",
    "        match.arg(method),\n",
    "        \"compare\" = sitePath:::minEntropyByComparing,\n",
    "        \"insert\" = sitePath:::minEntropyByInserting,\n",
    "        \"delete\" = sitePath:::minEntropyByDeleting\n",
    "    )\n",
    "    # Get the 'minEffectiveSize' for each fixation\n",
    "    if (is.null(minEffectiveSize)) {\n",
    "        minEffectiveSize <- nTips / length(unique(unlist(paths)))\n",
    "    } else if (!is.numeric(minEffectiveSize)) {\n",
    "        stop(\"\\\"minEffectiveSize\\\" only accepts numeric\")\n",
    "    }\n",
    "    minEffectiveSize <- ceiling(minEffectiveSize)\n",
    "    # Get the 'searchDepth' for heuristic search\n",
    "    if (searchDepth < 1) {\n",
    "        stop(\"\\\"searchDepth\\\" should be at least 1\")\n",
    "    } else {\n",
    "        searchDepth <- ceiling(searchDepth)\n",
    "    }\n",
    "    divNodes <- sitePath:::divergentNode(paths)\n",
    "    nodeAlign <- sitePath:::.tipSeqsAlongPathNodes(\n",
    "        paths = paths,\n",
    "        divNodes = divNodes,\n",
    "        tree = tree,\n",
    "        align = align\n",
    "    )\n",
    "    res <- sitePath:::.findFixationSite(\n",
    "        paths = paths,\n",
    "        tree = tree,\n",
    "        align = align,\n",
    "        nodeAlign = nodeAlign,\n",
    "        divNodes = divNodes,\n",
    "        reference = reference,\n",
    "        minimizeEntropy = minimizeEntropy,\n",
    "        minEffectiveSize = minEffectiveSize,\n",
    "        searchDepth = searchDepth\n",
    "    )\n",
    "    attr(res, \"paths\") <- paths\n",
    "    attr(res, \"reference\") <- reference\n",
    "    class(res) <- \"fixationSites\"\n",
    "    return(res)\n",
    "}"
   ]
  },
  {
   "cell_type": "code",
   "execution_count": 5,
   "metadata": {},
   "outputs": [],
   "source": [
    "mutations <- fixationlineages(paths, method = \"insert\")"
   ]
  },
  {
   "cell_type": "code",
   "execution_count": 6,
   "metadata": {},
   "outputs": [],
   "source": [
    "groupByPath <- lapply(paths, function (p) {\n",
    "    terminalTips <- sitePath:::.childrenTips(tree, p[length(p)])\n",
    "    # Group fixation results by path rather than site\n",
    "    group <- list()\n",
    "    for (sp in mutations) {\n",
    "        site <- attr(sp, \"site\")\n",
    "        for (mp in sp) {\n",
    "            tips <- mp[[length(mp)]]\n",
    "            # Filter if not belong to the path\n",
    "            if (all(terminalTips %in% tips)) {\n",
    "                toAdd <- lapply(mp, function (tips) {\n",
    "                    siteChar <- attr(tips, \"AA\")\n",
    "                    attributes(tips) <- NULL\n",
    "                    attr(tips, \"site\") <- siteChar\n",
    "                    names(attr(tips, \"site\")) <- site\n",
    "                    tips\n",
    "                })\n",
    "                group <- c(group, list(toAdd))\n",
    "            }\n",
    "        }\n",
    "    }\n",
    "    # Group tips according to fixation points\n",
    "    res <- group[[1]]\n",
    "    for (p in group[-1]) {\n",
    "        for (tips in p) {\n",
    "            site <- attr(tips, \"site\")\n",
    "            # Update grouping for each tips by growing a new list\n",
    "            newGrouping <- list()\n",
    "            for (i in seq_along(res)) {\n",
    "                gp <- res[[i]]\n",
    "                common <- sort(intersect(tips, gp))\n",
    "                if (length(common) == 0) {\n",
    "                    newGrouping <- res[1:i]\n",
    "                } else if (identical(sort(gp), sort(tips))) {\n",
    "                    attr(gp, \"site\") <- c(attr(gp, \"site\"), site)\n",
    "                    if (i + 1 <= length(res)) {\n",
    "                        trailing <- res[(i + 1):length(res)]\n",
    "                    } else {\n",
    "                        trailing <- list()\n",
    "                    }\n",
    "                    newGrouping <- c(newGrouping, list(gp), trailing)\n",
    "                    break\n",
    "                } else {\n",
    "                    if (identical(sort(gp), common)) {\n",
    "                        # The new coming tips includes the current group\n",
    "                        # The extra tips stay for the next loop\n",
    "                        tips <- setdiff(tips, gp)\n",
    "                        # Update the SNP site info for the current group\n",
    "                        attr(gp, \"site\") <- c(attr(gp, \"site\"), site)\n",
    "                        newGrouping <- c(newGrouping, list(gp))\n",
    "                    } else if (identical(sort(tips), common)) {\n",
    "                        # The new coming tips are included in the group (they are used up at this point)\n",
    "                        separate <- setdiff(gp, tips)\n",
    "                        attributes(separate) <- attributes(gp)\n",
    "                        attr(tips, \"site\") <- c(attr(gp, \"site\"), site)\n",
    "                        if (i + 1 <= length(res)) {\n",
    "                            trailing <- res[(i + 1):length(res)]\n",
    "                        } else {\n",
    "                            trailing <- list()\n",
    "                        }\n",
    "                        newGrouping <- c(newGrouping, list(tips), list(separate), trailing)\n",
    "                        # Go for the next new coming tips\n",
    "                        break\n",
    "                    } else {\n",
    "                        stop(\"Something's not right\")\n",
    "                    }\n",
    "                }\n",
    "            }\n",
    "            # The new coming tips are used up and update the grouping\n",
    "            res <- newGrouping\n",
    "        }\n",
    "    }\n",
    "    return(res)\n",
    "})"
   ]
  },
  {
   "cell_type": "code",
   "execution_count": 7,
   "metadata": {},
   "outputs": [],
   "source": [
    "groupingSNP <- lapply(groupByPath, function (gp) {\n",
    "    # Prep for growing the tree\n",
    "    # Define the first node and the first tip cluster\n",
    "    newParentNode <- length(gp) + 1L # Keep track of the newly added internal nodes\n",
    "    tipNode <- 1L\n",
    "    currentTips <- gp[[tipNode]]\n",
    "    attr(currentTips, \"snpSites\") <- character()\n",
    "    tipClusters <- list(currentTips) # The existing tips in the tree\n",
    "    refSites <- attr(currentTips, \"site\")\n",
    "    \n",
    "    # Define the first edge of the tree\n",
    "    parentNodes <- newParentNode\n",
    "    childrenNodes <- tipNode\n",
    "    edgeSNPs <- list(character())\n",
    "    # A list to record the fixation sites of the parent nodes\n",
    "    parentNodesSites <- list()\n",
    "    parentNodesSites[[as.character(newParentNode)]] <- refSites\n",
    "    \n",
    "    # Grow the tree\n",
    "    for (tipNode in seq_along(gp)[-1]) {\n",
    "        currentTips <- gp[[tipNode]]\n",
    "        currentSites <- attr(currentTips, \"site\")\n",
    "        # Attach the tip near the most related tips\n",
    "        # Assume the reference tips are the most related (least number of SNP)\n",
    "        mostRelatedTipNode <- 1L\n",
    "        leastSNPnum <- sum(refSites != currentSites)\n",
    "        # Loop through the rest existing tip clusters\n",
    "        for (otherTipNode in seq_along(tipClusters)[-1]) {\n",
    "            otherSites <- attr(tipClusters[[otherTipNode]], \"site\")\n",
    "            snpNum <- sum(otherSites != currentSites)\n",
    "            if (snpNum < leastSNPnum) {\n",
    "                mostRelatedTipNode <- otherTipNode\n",
    "                leastSNPnum <- snpNum\n",
    "            }\n",
    "        }\n",
    "        # Find the direct tree edge to the most related tips\n",
    "        edgeIndex <- which(childrenNodes == mostRelatedTipNode)\n",
    "        parentNode <- parentNodes[edgeIndex]\n",
    "        # Tree growing differs according to the SNP against parent node and edge SNP\n",
    "        parentSites <- parentNodesSites[[as.character(parentNode)]]\n",
    "        snpSites <- as.character(na.omit(vapply(\n",
    "            X = names(parentSites),\n",
    "            FUN = function (site) {\n",
    "                ref <- parentSites[site]\n",
    "                snp <- currentSites[site]\n",
    "                if (ref == snp) {\n",
    "                    return(NA_character_)\n",
    "                }\n",
    "                return(paste0(ref, site, snp))\n",
    "            },\n",
    "            FUN.VALUE = character(1)\n",
    "        )))\n",
    "        edgeSNP <- edgeSNPs[[edgeIndex]]\n",
    "        sharedWithEdgeSNP <- intersect(snpSites, edgeSNP)\n",
    "        # A new internal node is needed when no SNP overlap \n",
    "        if (length(sharedWithEdgeSNP) != 0) {\n",
    "            newParentNode <- newParentNode + 1L\n",
    "            # Insert the new internal node to the target edge\n",
    "            parentNodes[edgeIndex] <- newParentNode\n",
    "            parentNodes <- c(parentNodes, parentNode)\n",
    "            childrenNodes <- c(childrenNodes, newParentNode)\n",
    "            edgeSNPs <- c(edgeSNPs, list(sharedWithEdgeSNP))\n",
    "            # Update the SNP of the directly linked edge to the most related tips\n",
    "            edgeSNPs[[edgeIndex]] <- setdiff(edgeSNP, sharedWithEdgeSNP)\n",
    "            # Calculate the site for the new internal node\n",
    "#             siteToChange <- as.character(regmatches(sharedWithEdgeSNP, regexpr('[0-9]+', sharedWithEdgeSNP)))\n",
    "            siteToChange <- substr(sharedWithEdgeSNP, 2, nchar(sharedWithEdgeSNP) - 1)\n",
    "            parentSites[siteToChange] <- substr(sharedWithEdgeSNP, nchar(sharedWithEdgeSNP), nchar(sharedWithEdgeSNP))\n",
    "            parentNodesSites[[as.character(newParentNode)]] <- parentSites\n",
    "            # Update the parent node and edge SNP for the current tip node\n",
    "            parentNode <- newParentNode\n",
    "            snpSites <- setdiff(snpSites, sharedWithEdgeSNP)\n",
    "        }\n",
    "        # Add edge\n",
    "        parentNodes <- c(parentNodes, parentNode)\n",
    "        childrenNodes <- c(childrenNodes, tipNode)\n",
    "        # Add edge SNP\n",
    "        edgeSNPs <- c(edgeSNPs, list(snpSites))\n",
    "        # Add the current tips\n",
    "        tipClusters <- c(tipClusters, list(currentTips))\n",
    "    }\n",
    "    res <- list(\n",
    "        \"edge\" = cbind(parentNodes, childrenNodes),\n",
    "        \"edge.length\" = lengths(edgeSNPs) + 0.05,\n",
    "        \"Nnode\" = length(unique(parentNodes)),\n",
    "        \"tip.label\" = as.character(lengths(gp))\n",
    "    )\n",
    "    attr(res, \"tipClusters\") <- tipClusters\n",
    "    attr(res, \"edgeSNPs\") <- edgeSNPs\n",
    "    class(res) <- \"phylo\"\n",
    "    return(res)\n",
    "})"
   ]
  },
  {
   "cell_type": "code",
   "execution_count": 8,
   "metadata": {},
   "outputs": [
    {
     "data": {
      "image/png": "[encoded data removed]",
      "text/plain": [
       "plot without title"
      ]
     },
     "metadata": {
      "image/png": {
       "height": 420,
       "width": 420
      },
      "text/plain": {
       "height": 420,
       "width": 420
      }
     },
     "output_type": "display_data"
    },
    {
     "data": {
      "image/png": "[encoded data removed]",
      "text/plain": [
       "plot without title"
      ]
     },
     "metadata": {
      "image/png": {
       "height": 420,
       "width": 420
      },
      "text/plain": {
       "height": 420,
       "width": 420
      }
     },
     "output_type": "display_data"
    },
    {
     "data": {
      "image/png": "[encoded data removed]",
      "text/plain": [
       "plot without title"
      ]
     },
     "metadata": {
      "image/png": {
       "height": 420,
       "width": 420
      },
      "text/plain": {
       "height": 420,
       "width": 420
      }
     },
     "output_type": "display_data"
    }
   ],
   "source": [
    "for (i in seq_along(paths)) {\n",
    "    plot.phylo(groupingSNP[[i]])\n",
    "    edgelabels(vapply(attr(groupingSNP[[i]], \"edgeSNPs\"), paste, collapse = \", \", FUN.VALUE = character(1)))\n",
    "}"
   ]
  },
  {
   "cell_type": "code",
   "execution_count": 9,
   "metadata": {},
   "outputs": [],
   "source": [
    "grouping <- list(groupByPath[[1]])\n",
    "\n",
    "for (gpIndex in seq_along(groupByPath)[-1]) {\n",
    "    gp <- groupByPath[[gpIndex]]\n",
    "    toMergeIndex <- NULL\n",
    "    divergedIndex <- 0L\n",
    "    # Loop through to find the most related group\n",
    "    for (i in seq_along(grouping)) {\n",
    "        allTips <- unlist(grouping[[i]])\n",
    "        for (j in seq_along(gp)[-1]) {\n",
    "            if (all(!gp[[j]] %in% allTips)) {\n",
    "                m <- i\n",
    "                d <- j\n",
    "                break\n",
    "            }\n",
    "        }\n",
    "        if (d > divergedIndex) {\n",
    "            toMergeIndex <- m\n",
    "            divergedIndex <- d\n",
    "        }\n",
    "    }\n",
    "    # Find the tips before diverged\n",
    "    sharedTips <- gp[[divergedIndex - 1]]\n",
    "    refSites <- attr(sharedTips, \"site\")\n",
    "    # The non-shared part\n",
    "    divergedTips <- setdiff(sharedTips, allTips)\n",
    "    attr(divergedTips, \"site\") <- refSites\n",
    "    # Drop the overlapped part\n",
    "    grouping[[gpIndex]] <- c(list(divergedTips), gp[divergedIndex:length(gp)])\n",
    "    # Find the most related group\n",
    "    toMerge <- grouping[[toMergeIndex]]\n",
    "    # To determine where to add the new (truncated) group\n",
    "    for (i in seq_along(toMerge)) {\n",
    "        gpTips <- unlist(gp)\n",
    "        if (all(!toMerge[[i]] %in% gpTips)) {\n",
    "            # Find the tips before diverged\n",
    "            sharedTips <- toMerge[[i - 1]]\n",
    "            sites <- attr(sharedTips, \"site\")\n",
    "            # The non-shared part\n",
    "            divergedTips <- setdiff(sharedTips, gpTips)\n",
    "            attr(divergedTips, \"site\") <- sites\n",
    "            # The shared part\n",
    "            sharedTips <- setdiff(sharedTips, divergedTips)\n",
    "            attr(sharedTips, \"site\") <- sites\n",
    "            attr(sharedTips, \"toMerge\") <- gpIndex\n",
    "            attr(sharedTips, \"toMergeRefSites\") <- refSites\n",
    "            # Reform\n",
    "            if (i == 2) {\n",
    "                preTips <- list()\n",
    "            } else {\n",
    "                preTips <- toMerge[1:(i - 2)]\n",
    "            }\n",
    "            grouping[[toMergeIndex]] <- c(\n",
    "                preTips,\n",
    "                list(sharedTips),\n",
    "                list(divergedTips),\n",
    "                toMerge[i:length(toMerge)]\n",
    "            )\n",
    "            break\n",
    "        }\n",
    "    }\n",
    "}"
   ]
  },
  {
   "cell_type": "code",
   "execution_count": 10,
   "metadata": {},
   "outputs": [],
   "source": [
    "# The existing tips in the tree\n",
    "tipClusters <- list()\n",
    "# The edges and its SNP of the tree\n",
    "parentNodes <- integer()\n",
    "childrenNodes <- integer()\n",
    "edgeSNPs <- list()\n",
    "\n",
    "# Keep track of the newly added internal node\n",
    "newParentNode <- length(unlist(grouping, recursive = FALSE)) + 1L\n",
    "parentNode <- newParentNode\n",
    "# Keep track of the newly added tip node\n",
    "tipNode <- 0L\n",
    "# A list to record the fixation sites of the parent nodes\n",
    "parentNodesSites <- list()\n",
    "\n",
    "for (gpIndex in seq_along(grouping)) {\n",
    "    # The group to add onto the tree\n",
    "    gp <- grouping[[gpIndex]]\n",
    "    \n",
    "    # The initial tips of the group\n",
    "    currentTips <- gp[[1]]\n",
    "    # Assume the initial reference site\n",
    "    refSites <- attr(currentTips, \"site\")\n",
    "    # Find where to merge and parent node, update reference site maybe\n",
    "    for (i in seq_along(tipClusters)) {\n",
    "        toMerge <- tipClusters[[i]]\n",
    "        toMergeIndex <- attr(toMerge, \"toMerge\")\n",
    "        if (!is.null(toMergeIndex) && toMergeIndex == gpIndex) {\n",
    "            refSites <- attr(toMerge, \"toMergeRefSites\")\n",
    "            parentNode <- parentNodes[which(childrenNodes == i)]\n",
    "            break\n",
    "        }\n",
    "    }\n",
    "    parentNodesSites[[as.character(parentNode)]] <- refSites\n",
    "    \n",
    "    # Track the tip and internal node\n",
    "    tipNode <- tipNode + 1L\n",
    "    startingNode <- tipNode\n",
    "    tipClusters <- c(tipClusters, list(currentTips))\n",
    "    # Define the initial edge of the group\n",
    "    parentNodes <- c(parentNodes, parentNode)\n",
    "    childrenNodes <- c(childrenNodes, tipNode)\n",
    "    # SNP of the initial edge is set none\n",
    "    edgeSNPs <- c(edgeSNPs, list(character()))\n",
    "    \n",
    "    # Grow the tree\n",
    "    for (tipIndex in seq_along(gp)[-1]) {\n",
    "        tipNode <- tipNode + 1L\n",
    "        currentTips <- gp[[tipIndex]]\n",
    "        currentSites <- attr(currentTips, \"site\")\n",
    "        # Attach the tip near the most related tips\n",
    "        # Assume the reference tips are the most related (least number of SNP)\n",
    "        mostRelatedTipNode <- startingNode\n",
    "        leastSNPnum <- sum(refSites != currentSites)\n",
    "        # Loop through the rest existing tip clusters\n",
    "        for (otherTipNode in seq_along(tipClusters)[-seq_len(startingNode)]) {\n",
    "            otherSites <- attr(tipClusters[[otherTipNode]], \"site\")\n",
    "            snpNum <- sum(otherSites != currentSites)\n",
    "            if (snpNum < leastSNPnum) {\n",
    "                mostRelatedTipNode <- otherTipNode\n",
    "                leastSNPnum <- snpNum\n",
    "            }\n",
    "        }\n",
    "        # Find the direct tree edge to the most related tips\n",
    "        edgeIndex <- which(childrenNodes == mostRelatedTipNode)\n",
    "        parentNode <- parentNodes[edgeIndex]\n",
    "        # Tree growing differs according to the SNP against parent node and edge SNP\n",
    "        parentSites <- parentNodesSites[[as.character(parentNode)]]\n",
    "        snpSites <- as.character(na.omit(vapply(\n",
    "            X = names(parentSites),\n",
    "            FUN = function (site) {\n",
    "                ref <- parentSites[site]\n",
    "                snp <- currentSites[site]\n",
    "                if (ref == snp) {\n",
    "                    return(NA_character_)\n",
    "                }\n",
    "                return(paste0(ref, site, snp))\n",
    "            },\n",
    "            FUN.VALUE = character(1)\n",
    "        )))\n",
    "        edgeSNP <- edgeSNPs[[edgeIndex]]\n",
    "        sharedWithEdgeSNP <- intersect(snpSites, edgeSNP)\n",
    "        # A new internal node is needed when no SNP overlap \n",
    "        if (length(sharedWithEdgeSNP) != 0) {\n",
    "            newParentNode <- newParentNode + 1L\n",
    "            # Insert the new internal node to the target edge\n",
    "            parentNodes[edgeIndex] <- newParentNode\n",
    "            parentNodes <- c(parentNodes, parentNode)\n",
    "            childrenNodes <- c(childrenNodes, newParentNode)\n",
    "            edgeSNPs <- c(edgeSNPs, list(sharedWithEdgeSNP))\n",
    "            # Update the SNP of the directly linked edge to the most related tips\n",
    "            edgeSNPs[[edgeIndex]] <- setdiff(edgeSNP, sharedWithEdgeSNP)\n",
    "            # Calculate the site for the new internal node\n",
    "#             siteToChange <- as.character(regmatches(sharedWithEdgeSNP, regexpr('[0-9]+', sharedWithEdgeSNP)))\n",
    "            siteToChange <- substr(sharedWithEdgeSNP, 2, nchar(sharedWithEdgeSNP) - 1)\n",
    "            parentSites[siteToChange] <- substr(sharedWithEdgeSNP, nchar(sharedWithEdgeSNP), nchar(sharedWithEdgeSNP))\n",
    "            parentNodesSites[[as.character(newParentNode)]] <- parentSites\n",
    "            # Update the parent node and edge SNP for the current tip node\n",
    "            parentNode <- newParentNode\n",
    "            snpSites <- setdiff(snpSites, sharedWithEdgeSNP)\n",
    "        }\n",
    "        # Add edge\n",
    "        parentNodes <- c(parentNodes, parentNode)\n",
    "        childrenNodes <- c(childrenNodes, tipNode)\n",
    "        # Add edge SNP\n",
    "        edgeSNPs <- c(edgeSNPs, list(snpSites))\n",
    "        # Add the current tips\n",
    "        tipClusters <- c(tipClusters, list(currentTips))\n",
    "    }\n",
    "}\n",
    "res <- list(\n",
    "    \"edge\" = cbind(parentNodes, childrenNodes),\n",
    "    \"edge.length\" = lengths(edgeSNPs) + 0.05,\n",
    "    \"Nnode\" = length(unique(parentNodes)),\n",
    "    \"tip.label\" = as.character(lengths(unlist(grouping, recursive = FALSE)))\n",
    ")\n",
    "attr(res, \"tipClusters\") <- tipClusters\n",
    "attr(res, \"edgeSNPs\") <- edgeSNPs\n",
    "class(res) <- \"phylo\""
   ]
  },
  {
   "cell_type": "code",
   "execution_count": 11,
   "metadata": {},
   "outputs": [
    {
     "name": "stdout",
     "output_type": "stream",
     "text": [
      "Starting checking the validity of res...\n",
      "Found number of tips: n = 15 \n",
      "Found number of nodes: m = 7 \n",
      "Done.\n"
     ]
    }
   ],
   "source": [
    "checkValidPhylo(res)"
   ]
  },
  {
   "cell_type": "code",
   "execution_count": 12,
   "metadata": {},
   "outputs": [
    {
     "data": {
      "image/png": "[encoded data removed]",
      "text/plain": [
       "plot without title"
      ]
     },
     "metadata": {
      "image/png": {
       "height": 420,
       "width": 420
      },
      "text/plain": {
       "height": 420,
       "width": 420
      }
     },
     "output_type": "display_data"
    }
   ],
   "source": [
    "plot(res)\n",
    "edgelabels(vapply(attr(res, \"edgeSNPs\"), paste, collapse = \", \", FUN.VALUE = character(1)))"
   ]
  }
 ],
 "metadata": {
  "kernelspec": {
   "display_name": "R",
   "language": "R",
   "name": "ir"
  },
  "language_info": {
   "codemirror_mode": "r",
   "file_extension": ".r",
   "mimetype": "text/x-r-source",
   "name": "R",
   "pygments_lexer": "r",
   "version": "3.6.1"
  }
 },
 "nbformat": 4,
 "nbformat_minor": 2
}
