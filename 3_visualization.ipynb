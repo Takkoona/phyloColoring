{
 "cells": [
  {
   "cell_type": "code",
   "execution_count": 1,
   "metadata": {},
   "outputs": [
    {
     "name": "stderr",
     "output_type": "stream",
     "text": [
      "Warning message:\n",
      "\"package 'sitePath' was built under R version 3.6.3\"\n"
     ]
    }
   ],
   "source": [
    "library(ape)\n",
    "library(sitePath)"
   ]
  },
  {
   "cell_type": "code",
   "execution_count": 2,
   "metadata": {},
   "outputs": [],
   "source": [
    "data(h3n2_align)\n",
    "data(h3n2_tree)"
   ]
  },
  {
   "cell_type": "code",
   "execution_count": 3,
   "metadata": {},
   "outputs": [],
   "source": [
    "tree <- addMSA(h3n2_tree, alignment = h3n2_align)"
   ]
  },
  {
   "cell_type": "code",
   "execution_count": 4,
   "metadata": {},
   "outputs": [],
   "source": [
    "paths <- lineagePath(tree, similarity = 0.023)"
   ]
  },
  {
   "cell_type": "code",
   "execution_count": 5,
   "metadata": {},
   "outputs": [
    {
     "data": {
      "image/png": "[encoded data removed]",
      "text/plain": [
       "plot without title"
      ]
     },
     "metadata": {
      "image/png": {
       "height": 420,
       "width": 420
      },
      "text/plain": {
       "height": 420,
       "width": 420
      }
     },
     "output_type": "display_data"
    }
   ],
   "source": [
    "plot(paths)"
   ]
  },
  {
   "cell_type": "code",
   "execution_count": 6,
   "metadata": {},
   "outputs": [],
   "source": [
    "fixationlineages <- function (paths,\n",
    "                              minEffectiveSize = NULL,\n",
    "                              searchDepth = 1,\n",
    "                              method = c(\"compare\", \"insert\", \"delete\"),\n",
    "                              ...) {\n",
    "    tree <- attr(paths, \"tree\")\n",
    "    nTips <- length(tree[[\"tip.label\"]])\n",
    "    align <- attr(paths, \"align\")\n",
    "    # Generate the site mapping from reference\n",
    "    reference <- attr(paths, \"reference\")\n",
    "    # Decide which miniminzing strategy\n",
    "    minimizeEntropy <- switch(\n",
    "        match.arg(method),\n",
    "        \"compare\" = sitePath:::minEntropyByComparing,\n",
    "        \"insert\" = sitePath:::minEntropyByInserting,\n",
    "        \"delete\" = sitePath:::minEntropyByDeleting\n",
    "    )\n",
    "    # Get the 'minEffectiveSize' for each fixation\n",
    "    if (is.null(minEffectiveSize)) {\n",
    "        minEffectiveSize <- nTips / length(unique(unlist(paths)))\n",
    "    } else if (!is.numeric(minEffectiveSize)) {\n",
    "        stop(\"\\\"minEffectiveSize\\\" only accepts numeric\")\n",
    "    }\n",
    "    minEffectiveSize <- ceiling(minEffectiveSize)\n",
    "    # Get the 'searchDepth' for heuristic search\n",
    "    if (searchDepth < 1) {\n",
    "        stop(\"\\\"searchDepth\\\" should be at least 1\")\n",
    "    } else {\n",
    "        searchDepth <- ceiling(searchDepth)\n",
    "    }\n",
    "    divNodes <- sitePath:::divergentNode(paths)\n",
    "    nodeAlign <- sitePath:::.tipSeqsAlongPathNodes(\n",
    "        paths = paths,\n",
    "        divNodes = divNodes,\n",
    "        tree = tree,\n",
    "        align = align\n",
    "    )\n",
    "    res <- sitePath:::.findFixationSite(\n",
    "        paths = paths,\n",
    "        tree = tree,\n",
    "        align = align,\n",
    "        nodeAlign = nodeAlign,\n",
    "        divNodes = divNodes,\n",
    "        reference = reference,\n",
    "        minimizeEntropy = minimizeEntropy,\n",
    "        minEffectiveSize = minEffectiveSize,\n",
    "        searchDepth = searchDepth\n",
    "    )\n",
    "    attr(res, \"paths\") <- paths\n",
    "    attr(res, \"reference\") <- reference\n",
    "    class(res) <- \"fixationSites\"\n",
    "    return(res)\n",
    "}"
   ]
  },
  {
   "cell_type": "code",
   "execution_count": 7,
   "metadata": {},
   "outputs": [],
   "source": [
    "mutations <- fixationlineages(paths, method = \"insert\")"
   ]
  },
  {
   "cell_type": "code",
   "execution_count": 8,
   "metadata": {},
   "outputs": [],
   "source": [
    "groupByPath <- lapply(paths, function (p) {\n",
    "    terminalTips <- sitePath:::.childrenTips(tree, p[length(p)])\n",
    "    group <- list()\n",
    "    for (sp in mutations) {\n",
    "        site <- attr(sp, \"site\")\n",
    "        for (mp in sp) {\n",
    "            tips <- mp[[length(mp)]]\n",
    "            if (all(terminalTips %in% tips)) {\n",
    "                toAdd <- lapply(mp, function (tips) {\n",
    "                    siteChar <- attr(tips, \"AA\")\n",
    "                    attributes(tips) <- NULL\n",
    "                    attr(tips, \"site\") <- siteChar\n",
    "                    names(attr(tips, \"site\")) <- site\n",
    "                    tips\n",
    "                })\n",
    "                group <- c(group, list(toAdd))\n",
    "            }\n",
    "        }\n",
    "    }\n",
    "    return(group)\n",
    "})"
   ]
  },
  {
   "cell_type": "code",
   "execution_count": 9,
   "metadata": {
    "scrolled": true
   },
   "outputs": [],
   "source": [
    "grouping <- lapply(groupByPath, function (group) {\n",
    "    res <- group[[1]]\n",
    "    for (p in group[-1]) {\n",
    "        for (tips in p) {\n",
    "            site <- attr(tips, \"site\")\n",
    "            # Update grouping for each tips by growing a new list\n",
    "            newGrouping <- list()\n",
    "            for (i in seq_along(res)) {\n",
    "                gp <- res[[i]]\n",
    "                common <- sort(intersect(tips, gp))\n",
    "                if (length(common) == 0) {\n",
    "                    newGrouping <- res[1:i]\n",
    "                } else if (identical(sort(gp), sort(tips))) {\n",
    "                    attr(gp, \"site\") <- c(attr(gp, \"site\"), site)\n",
    "                    if (i + 1 <= length(res)) {\n",
    "                        trailing <- res[(i + 1):length(res)]\n",
    "                    } else {\n",
    "                        trailing <- list()\n",
    "                    }\n",
    "                    newGrouping <- c(newGrouping, list(gp), trailing)\n",
    "                    break\n",
    "                } else {\n",
    "                    if (identical(sort(gp), common)) {\n",
    "                        # The new coming tips includes the current group\n",
    "                        # The extra tips stay for the next loop\n",
    "                        tips <- setdiff(tips, gp)\n",
    "                        # Update the SNP site info for the current group\n",
    "                        attr(gp, \"site\") <- c(attr(gp, \"site\"), site)\n",
    "                        newGrouping <- c(newGrouping, list(gp))\n",
    "                    } else if (identical(sort(tips), common)) {\n",
    "                        # The new coming tips are included in the group (they are used up at this point)\n",
    "                        separate <- setdiff(gp, tips)\n",
    "                        attributes(separate) <- attributes(gp)\n",
    "                        attr(tips, \"site\") <- c(attr(gp, \"site\"), site)\n",
    "                        if (i + 1 <= length(res)) {\n",
    "                            trailing <- res[(i + 1):length(res)]\n",
    "                        } else {\n",
    "                            trailing <- list()\n",
    "                        }\n",
    "                        newGrouping <- c(newGrouping, list(tips), list(separate), trailing)\n",
    "                        # Go for the next new coming tips\n",
    "                        break\n",
    "                    } else {\n",
    "                        stop(\"Something's not right\")\n",
    "                    }\n",
    "                }\n",
    "            }\n",
    "            # The new coming tips are used up and update the grouping\n",
    "            res <- newGrouping\n",
    "        }\n",
    "    }\n",
    "    return(res)\n",
    "})"
   ]
  },
  {
   "cell_type": "code",
   "execution_count": 130,
   "metadata": {},
   "outputs": [],
   "source": [
    "groupingSNP <- lapply(grouping, function (gp) {\n",
    "#     # Find SNP using first group as reference\n",
    "#     res <- list()\n",
    "#     refSites <- attr(gp[[1]], \"site\")\n",
    "#     for (tips in gp) {\n",
    "#         sites <- attr(tips, \"site\")\n",
    "#         attr(tips, \"site\") <- sites[which(vapply(\n",
    "#             X = seq_along(refSites),\n",
    "#             FUN = function (i) {\n",
    "#                 if (refSites[i] != sites[i]) {\n",
    "#                     return(TRUE)\n",
    "#                 }\n",
    "#                 return(FALSE)\n",
    "#             }, \n",
    "#             FUN.VALUE = logical(1)\n",
    "#         ))]\n",
    "#         res <- c(res, list(tips))\n",
    "#     }\n",
    "    # Prep for growing the tree\n",
    "    # Define the first node and the first tip cluster\n",
    "    newParentNode <- length(gp) + 1L # Keep track of the newly added internal nodes\n",
    "    tipNode <- 1L\n",
    "    currentTips <- gp[[tipNode]]\n",
    "    attr(currentTips, \"snpSites\") <- character()\n",
    "    tipClusters <- list(currentTips) # The existing tips in the tree\n",
    "    refSites <- attr(currentTips, \"site\")\n",
    "    \n",
    "    # Define the first edge of the tree\n",
    "    parentNodes <- newParentNode\n",
    "    childrenNodes <- tipNode\n",
    "    edgeSNPs <- list(character())\n",
    "    # A list to record the fixation sites of the parent nodes\n",
    "    parentNodesSites <- list()\n",
    "    parentNodesSites[[as.character(newParentNode)]] <- refSites\n",
    "    \n",
    "    # Grow the tree\n",
    "    for (tipNode in seq_along(gp)[-1]) {\n",
    "        currentTips <- gp[[tipNode]]\n",
    "        currentSites <- attr(currentTips, \"site\")\n",
    "        # Attach the tip near the most related tips\n",
    "        # Assume the reference tips are the most related (least number of SNP)\n",
    "        mostRelatedTipNode <- 1L\n",
    "        leastSNPnum <- sum(refSites != currentSites)\n",
    "        # Loop through the rest existing tip clusters\n",
    "        for (otherTipNode in seq_along(tipClusters)[-1]) {\n",
    "            otherSites <- attr(tipClusters[[otherTipNode]], \"site\")\n",
    "            snpNum <- sum(otherSites != currentSites)\n",
    "            if (snpNum < leastSNPnum) {\n",
    "                mostRelatedTipNode <- otherTipNode\n",
    "                leastSNPnum <- snpNum\n",
    "            }\n",
    "        }\n",
    "        # Find the direct tree edge to the most related tips\n",
    "        edgeIndex <- which(childrenNodes == mostRelatedTipNode)\n",
    "        parentNode <- parentNodes[edgeIndex]\n",
    "        # Tree growing differs according to the SNP against parent node and edge SNP\n",
    "        parentSites <- parentNodesSites[[as.character(parentNode)]]\n",
    "        snpSites <- as.character(na.omit(vapply(\n",
    "            X = names(parentSites),\n",
    "            FUN = function (site) {\n",
    "                ref <- parentSites[site]\n",
    "                snp <- currentSites[site]\n",
    "                if (ref == snp) {\n",
    "                    return(NA_character_)\n",
    "                }\n",
    "                return(paste0(ref, site, snp))\n",
    "            },\n",
    "            FUN.VALUE = character(1)\n",
    "        )))\n",
    "        edgeSNP <- edgeSNPs[[edgeIndex]]\n",
    "        sharedWithEdgeSNP <- intersect(snpSites, edgeSNP)\n",
    "        # A new internal node is needed when no SNP overlap \n",
    "        if (length(sharedWithEdgeSNP) != 0) {\n",
    "            newParentNode <- newParentNode + 1L\n",
    "            # Insert the new internal node to the target edge\n",
    "            parentNodes[edgeIndex] <- newParentNode\n",
    "            parentNodes <- c(parentNodes, parentNode)\n",
    "            childrenNodes <- c(childrenNodes, newParentNode)\n",
    "            edgeSNPs <- c(edgeSNPs, list(sharedWithEdgeSNP))\n",
    "            # Update the SNP of the directly linked edge to the most related tips\n",
    "            edgeSNPs[[edgeIndex]] <- setdiff(edgeSNP, sharedWithEdgeSNP)\n",
    "            # Calculate the site for the new internal node\n",
    "#             siteToChange <- as.character(regmatches(sharedWithEdgeSNP, regexpr('[0-9]+', sharedWithEdgeSNP)))\n",
    "            siteToChange <- substr(sharedWithEdgeSNP, 2, nchar(sharedWithEdgeSNP) - 1)\n",
    "            parentSites[siteToChange] <- substr(sharedWithEdgeSNP, nchar(sharedWithEdgeSNP), nchar(sharedWithEdgeSNP))\n",
    "            parentNodesSites[[as.character(newParentNode)]] <- parentSites\n",
    "            # Update the parent node and edge SNP for the current tip node\n",
    "            parentNode <- newParentNode\n",
    "            snpSites <- setdiff(snpSites, sharedWithEdgeSNP)\n",
    "        }\n",
    "        # Add edge\n",
    "        parentNodes <- c(parentNodes, parentNode)\n",
    "        childrenNodes <- c(childrenNodes, tipNode)\n",
    "        # Add edge SNP\n",
    "        edgeSNPs <- c(edgeSNPs, list(snpSites))\n",
    "        # Add the current tips\n",
    "        tipClusters <- c(tipClusters, list(currentTips))\n",
    "    }\n",
    "    res <- list(\n",
    "        \"edge\" = cbind(parentNodes, childrenNodes),\n",
    "        \"edge.length\" = lengths(edgeSNPs),\n",
    "        \"Nnode\" = length(unique(parentNodes)),\n",
    "        \"tip.label\" = as.character(seq_along(gp))\n",
    "    )\n",
    "    attr(res, \"tipClusters\") <- tipClusters\n",
    "    attr(res, \"edgeSNPs\") <- edgeSNPs\n",
    "    class(res) <- \"phylo\"\n",
    "    return(res)\n",
    "})"
   ]
  },
  {
   "cell_type": "code",
   "execution_count": 145,
   "metadata": {},
   "outputs": [
    {
     "data": {
      "image/png": "[encoded data removed]",
      "text/plain": [
       "plot without title"
      ]
     },
     "metadata": {
      "image/png": {
       "height": 420,
       "width": 420
      },
      "text/plain": {
       "height": 420,
       "width": 420
      }
     },
     "output_type": "display_data"
    }
   ],
   "source": [
    "plot.phylo(groupingSNP[[4]])\n",
    "edgelabels(vapply(attr(groupingSNP[[4]], \"edgeSNPs\"), paste, collapse = \", \", FUN.VALUE = character(1)))"
   ]
  },
  {
   "cell_type": "code",
   "execution_count": 142,
   "metadata": {},
   "outputs": [
    {
     "name": "stdout",
     "output_type": "stream",
     "text": [
      " [1] \"\"                                                                                                                                         \n",
      " [2] \"\"                                                                                                                                         \n",
      " [3] \"S161P, K179T, G191D, R216Q, V366I, S151N\"                                                                                                 \n",
      " [4] \"L183Q, F193S\"                                                                                                                             \n",
      " [5] \"R68K, S165G, R220K, L263V, Y155S, N19D, K80I\"                                                                                             \n",
      " [6] \"\"                                                                                                                                         \n",
      " [7] \"K208R\"                                                                                                                                    \n",
      " [8] \"\"                                                                                                                                         \n",
      " [9] \"A17G, D24G, G165S, V263I, G498E, N49D, R280Q, I4V, I80A, V106I, N190S, V342I\"                                                             \n",
      "[10] \"\"                                                                                                                                         \n",
      "[11] \"I366V, N23K, V182M, R472K, T66M, V221I, S27N, S64F, A124T, S178N, D508N\"                                                                  \n",
      "[12] \"\"                                                                                                                                         \n",
      "[13] \"V509E, S63N, V130I\"                                                                                                                       \n",
      "[14] \"S297N, I139T, T222I, D394N, N192D, T380I, A87S, D122E, D163N, I286V, V328I, K345R, D367N, K430R, A495S, I497M, L515V, G523S, V548A, L550W\"\n"
     ]
    }
   ],
   "source": [
    "print()"
   ]
  },
  {
   "cell_type": "code",
   "execution_count": 140,
   "metadata": {},
   "outputs": [
    {
     "name": "stdout",
     "output_type": "stream",
     "text": [
      " [1] \"\"                                                                                                                                         \n",
      " [2] \"\"                                                                                                                                         \n",
      " [3] \"S161P, K179T, G191D, R216Q, V366I, S151N\"                                                                                                 \n",
      " [4] \"L183Q, F193S\"                                                                                                                             \n",
      " [5] \"R68K, S165G, R220K, L263V, Y155S, N19D, K80I\"                                                                                             \n",
      " [6] \"\"                                                                                                                                         \n",
      " [7] \"K208R\"                                                                                                                                    \n",
      " [8] \"\"                                                                                                                                         \n",
      " [9] \"A17G, D24G, G165S, V263I, G498E, N49D, R280Q, I4V, I80A, V106I, N190S, V342I\"                                                             \n",
      "[10] \"\"                                                                                                                                         \n",
      "[11] \"I366V, N23K, V182M, R472K, T66M, V221I, S27N, S64F, A124T, S178N, D508N\"                                                                  \n",
      "[12] \"\"                                                                                                                                         \n",
      "[13] \"V509E, S63N, V130I\"                                                                                                                       \n",
      "[14] \"S297N, I139T, T222I, D394N, N192D, T380I, A87S, D122E, D163N, I286V, V328I, K345R, D367N, K430R, A495S, I497M, L515V, G523S, V548A, L550W\"\n"
     ]
    }
   ],
   "source": [
    "print(sapply(attr(groupingSNP[[4]], \"edgeSNPs\"), function (snp) paste(snp, collapse = \", \")))"
   ]
  },
  {
   "cell_type": "code",
   "execution_count": 14,
   "metadata": {},
   "outputs": [],
   "source": [
    "parentNodes <- c(5L, 5L, 7L, 7L, 6L, 6L)\n",
    "childrenNodes <- c(7L, 1L, 6L, 2L, 3L, 4L)\n",
    "testEdge <- cbind(parentNodes, childrenNodes)\n",
    "testEdgeSNPs <- list(\"S139N\", character(), \"S139N\", c(\"T8517C\", \"T27641C\"), character(), \"S139N\")\n",
    "testEdgeLength <- lengths(testEdgeSNPs)"
   ]
  },
  {
   "cell_type": "code",
   "execution_count": 15,
   "metadata": {},
   "outputs": [
    {
     "data": {
      "text/plain": [
       "\n",
       "Phylogenetic tree with 4 tips and 3 internal nodes.\n",
       "\n",
       "Tip labels:\n",
       "[1] \"A\" \"B\" \"C\" \"D\"\n",
       "\n",
       "Rooted; includes branch lengths."
      ]
     },
     "metadata": {},
     "output_type": "display_data"
    }
   ],
   "source": [
    "testTree <- list(\"edge\" = testEdge, \"edge.length\" = testEdgeLength, \"Nnode\" = 3L, \"tip.label\" = LETTERS[1:4])\n",
    "class(testTree) <- \"phylo\"\n",
    "testTree"
   ]
  },
  {
   "cell_type": "code",
   "execution_count": 17,
   "metadata": {},
   "outputs": [
    {
     "data": {
      "image/png": "[encoded data removed]",
      "text/plain": [
       "plot without title"
      ]
     },
     "metadata": {
      "image/png": {
       "height": 420,
       "width": 420
      },
      "text/plain": {
       "height": 420,
       "width": 420
      }
     },
     "output_type": "display_data"
    }
   ],
   "source": [
    "plot(testTree)\n",
    "ape::edgelabels(sapply(testEdgeSNPs, function (snp) paste(snp, collapse = \", \")))"
   ]
  }
 ],
 "metadata": {
  "kernelspec": {
   "display_name": "R",
   "language": "R",
   "name": "ir"
  },
  "language_info": {
   "codemirror_mode": "r",
   "file_extension": ".r",
   "mimetype": "text/x-r-source",
   "name": "R",
   "pygments_lexer": "r",
   "version": "3.6.1"
  }
 },
 "nbformat": 4,
 "nbformat_minor": 2
}
