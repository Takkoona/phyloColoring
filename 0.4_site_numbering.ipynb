{
 "cells": [
  {
   "cell_type": "code",
   "execution_count": 1,
   "metadata": {},
   "outputs": [],
   "source": [
    "import os\n",
    "import json\n",
    "\n",
    "from Bio import SeqIO\n",
    "\n",
    "REFSEQ_DIR = \"RefSeq\"\n",
    "SARS_COV_2_CDS_NAME = \"SARS_CoV_2_cds\""
   ]
  },
  {
   "cell_type": "code",
   "execution_count": 2,
   "metadata": {},
   "outputs": [],
   "source": [
    "annoRef = SeqIO.read(os.path.join(REFSEQ_DIR, SARS_COV_2_CDS_NAME + \".gb\"), \"gb\")"
   ]
  },
  {
   "cell_type": "code",
   "execution_count": 3,
   "metadata": {},
   "outputs": [],
   "source": [
    "cds2genome = {}\n",
    "prevEnd = 0\n",
    "currEnd = None\n",
    "\n",
    "for f in annoRef.features:\n",
    "    if f.type == \"CDS\":\n",
    "        for i in f.location.parts:\n",
    "            currStart = prevEnd + 1\n",
    "            currEnd = prevEnd + i.end - i.start\n",
    "            for genome, cds in zip(range(i.start + 1, i.end + 1), range(currStart, currEnd + 1)):\n",
    "                cds2genome[cds] = genome\n",
    "            prevEnd = currEnd"
   ]
  },
  {
   "cell_type": "code",
   "execution_count": 6,
   "metadata": {},
   "outputs": [],
   "source": [
    "with open(os.path.join(REFSEQ_DIR, SARS_COV_2_CDS_NAME + \"2genome.json\"), 'w') as f:\n",
    "    json.dump(cds2genome, f)"
   ]
  }
 ],
 "metadata": {
  "kernelspec": {
   "display_name": "Python 3",
   "language": "python",
   "name": "python3"
  },
  "language_info": {
   "codemirror_mode": {
    "name": "ipython",
    "version": 3
   },
   "file_extension": ".py",
   "mimetype": "text/x-python",
   "name": "python",
   "nbconvert_exporter": "python",
   "pygments_lexer": "ipython3",
   "version": "3.5.3"
  }
 },
 "nbformat": 4,
 "nbformat_minor": 2
}
