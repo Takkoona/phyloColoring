{
 "cells": [
  {
   "cell_type": "markdown",
   "metadata": {},
   "source": [
    "## Important\n",
    "\n",
    "`run_mafft.sh` and `run_raxml.sh` in each subfoloder of `Trees` to build the trees beforehand."
   ]
  },
  {
   "cell_type": "code",
   "execution_count": 1,
   "metadata": {},
   "outputs": [
    {
     "name": "stderr",
     "output_type": "stream",
     "text": [
      "Registered S3 method overwritten by 'treeio':\n",
      "  method     from\n",
      "  root.phylo ape \n",
      "\n"
     ]
    }
   ],
   "source": [
    "library(ape)\n",
    "library(jsonlite)\n",
    "library(sitePath)\n",
    "library(ggplot2)\n",
    "library(ggrepel)\n",
    "library(aplot)\n",
    "library(RColorBrewer)\n",
    "suppressPackageStartupMessages(library(treeio))\n",
    "suppressPackageStartupMessages(library(ggtree))\n",
    "\n",
    "METADATA_DIR <- \"Metadata\"\n",
    "TREES_DIR <- \"Trees\"\n",
    "PLOTS_DIR <- \"Plots\"\n",
    "STRUCTURES_DIR <- \"Structures\"\n",
    "REFSEQ_DIR <- \"RefSeq\"\n",
    "\n",
    "ZIKV_POLYPROTEIN_NAME <- \"ZIKV_polyprotein\"\n",
    "SARS_COV_2_CDS_NAME <- \"SARS_CoV_2_cds\"\n",
    "SARS_COV_2_REFERENCE = \"EPI_ISL_402125\""
   ]
  },
  {
   "cell_type": "markdown",
   "metadata": {},
   "source": [
    "### 1. ZIKV polyprotein"
   ]
  },
  {
   "cell_type": "code",
   "execution_count": 2,
   "metadata": {},
   "outputs": [],
   "source": [
    "meta <- read.csv(\n",
    "    file.path(METADATA_DIR, paste0(ZIKV_POLYPROTEIN_NAME, \".tsv\")), \n",
    "    sep = \"\\t\",\n",
    "    row.names = \"GenBank.Protein.Accession\",\n",
    "    na.strings = c(\"-N/A-\", \"Unknown\"),\n",
    "    stringsAsFactors = FALSE\n",
    ")\n",
    "rownames(meta) <- sapply(strsplit(rownames(meta), \"\\\\.\"), \"[\", 1)\n",
    "meta <- meta[, colSums(is.na(meta)) < nrow(meta)]"
   ]
  },
  {
   "cell_type": "code",
   "execution_count": 3,
   "metadata": {},
   "outputs": [],
   "source": [
    "meta[which(meta[[\"Country\"]] == \"Taiwan\"), ][[\"Country\"]] <- \"China\""
   ]
  },
  {
   "cell_type": "code",
   "execution_count": 4,
   "metadata": {},
   "outputs": [],
   "source": [
    "treeDir <- file.path(TREES_DIR, ZIKV_POLYPROTEIN_NAME)\n",
    "plotsDir <- file.path(PLOTS_DIR, ZIKV_POLYPROTEIN_NAME)\n",
    "dir.create(plotsDir, showWarnings = FALSE)"
   ]
  },
  {
   "cell_type": "code",
   "execution_count": 5,
   "metadata": {},
   "outputs": [],
   "source": [
    "tree <- read.tree(file.path(treeDir, \"RAxML_bestTree.PROTGAMMAGTR\"))\n",
    "tree <- addMSA(tree, msaPath = file.path(treeDir, \"aligned.fasta\"), msaFormat = \"fasta\")"
   ]
  },
  {
   "cell_type": "code",
   "execution_count": 6,
   "metadata": {},
   "outputs": [
    {
     "name": "stderr",
     "output_type": "stream",
     "text": [
      "Warning message:\n",
      "\"`tbl_df()` is deprecated as of dplyr 1.0.0.\n",
      "Please use `tibble::as_tibble()` instead.\n",
      "\u001b[90mThis warning is displayed once every 8 hours.\u001b[39m\n",
      "\u001b[90mCall `lifecycle::last_warnings()` to see where this warning was generated.\u001b[39m\"\n"
     ]
    },
    {
     "data": {
      "image/png": "[encoded data removed]",
      "text/plain": [
       "plot without title"
      ]
     },
     "metadata": {
      "image/png": {
       "height": 420,
       "width": 420
      },
      "text/plain": {
       "height": 420,
       "width": 420
      }
     },
     "output_type": "display_data"
    }
   ],
   "source": [
    "paths <- lineagePath(tree, 0.05)\n",
    "plot(paths)"
   ]
  },
  {
   "cell_type": "code",
   "execution_count": 7,
   "metadata": {},
   "outputs": [],
   "source": [
    "mutations <- fixationSites(paths)"
   ]
  },
  {
   "cell_type": "code",
   "execution_count": 8,
   "metadata": {},
   "outputs": [
    {
     "name": "stderr",
     "output_type": "stream",
     "text": [
      "Warning message:\n",
      "\"`mutate_()` is deprecated as of dplyr 0.7.0.\n",
      "Please use `mutate()` instead.\n",
      "See vignette('programming') for more help\n",
      "\u001b[90mThis warning is displayed once every 8 hours.\u001b[39m\n",
      "\u001b[90mCall `lifecycle::last_warnings()` to see where this warning was generated.\u001b[39m\"\n"
     ]
    },
    {
     "data": {
      "image/png": "[encoded data removed]",
      "text/plain": [
       "plot without title"
      ]
     },
     "metadata": {
      "image/png": {
       "height": 420,
       "width": 420
      },
      "text/plain": {
       "height": 420,
       "width": 420
      }
     },
     "output_type": "display_data"
    }
   ],
   "source": [
    "p <- plot(mutations)\n",
    "p\n",
    "\n",
    "ggsave(\n",
    "    filename = file.path(plotsDir, \"cluster.pdf\"), \n",
    "    plot = p,\n",
    "    width = 10,\n",
    "    height = 8\n",
    ")"
   ]
  },
  {
   "cell_type": "code",
   "execution_count": 9,
   "metadata": {},
   "outputs": [],
   "source": [
    "pred <- as.data.frame(mutations)\n",
    "write.csv(pred, file.path(plotsDir, \"sitePath.csv\"), row.names = FALSE)"
   ]
  },
  {
   "cell_type": "code",
   "execution_count": 10,
   "metadata": {},
   "outputs": [],
   "source": [
    "snpTracing <- sitewiseClusters(mutations)"
   ]
  },
  {
   "cell_type": "code",
   "execution_count": 11,
   "metadata": {},
   "outputs": [],
   "source": [
    "tipClusters <- as.list(snpTracing)"
   ]
  },
  {
   "cell_type": "code",
   "execution_count": 12,
   "metadata": {},
   "outputs": [],
   "source": [
    "countryData <- lapply(names(tipClusters), function(i) {\n",
    "    tip <- tipClusters[[i]]\n",
    "    data.frame(\n",
    "        \"tip\" = i,\n",
    "        \"Country\" = meta[tree[[\"tip.label\"]][tip], \"Country\"]\n",
    "    )\n",
    "})\n",
    "countryData <- do.call(rbind, countryData)"
   ]
  },
  {
   "cell_type": "code",
   "execution_count": 13,
   "metadata": {},
   "outputs": [],
   "source": [
    "df <- lapply(split(countryData, countryData[[\"Country\"]]), function(i) {\n",
    "    res <- reshape2::dcast(i, tip ~ Country, value.var = \"Country\", length)\n",
    "    names(res)[2] <- \"Num\"\n",
    "    res[[\"Country\"]] <- unique(i[[\"Country\"]])\n",
    "    res\n",
    "})\n",
    "df <- do.call(rbind, df)\n",
    "\n",
    "df <- df[order(df[[\"tip\"]]), ]\n",
    "\n",
    "df <- lapply(split(df, df[[\"tip\"]]), function(i) {\n",
    "    i[[\"Pos\"]] <- cumsum(i[[\"Num\"]]) - (0.5 * i[[\"Num\"]])\n",
    "    i\n",
    "})\n",
    "df <- do.call(rbind, df)\n",
    "rownames(df) <- NULL"
   ]
  },
  {
   "cell_type": "code",
   "execution_count": 14,
   "metadata": {},
   "outputs": [
    {
     "data": {
      "image/png": "[encoded data removed]",
      "text/plain": [
       "plot without title"
      ]
     },
     "metadata": {
      "image/png": {
       "height": 420,
       "width": 420
      },
      "text/plain": {
       "height": 420,
       "width": 420
      }
     },
     "output_type": "display_data"
    }
   ],
   "source": [
    "p1 <- ggplot(df, aes(x = Num, y = tip, fill = Country)) + \n",
    "    geom_bar(colour=\"#A9A9A9\", stat=\"identity\", position = position_stack(reverse = TRUE), width = 0.1) +\n",
    "    geom_text_repel(\n",
    "        aes(label=Country, x = Pos), \n",
    "        size = 3,\n",
    "        min.segment.length = 0.1,\n",
    "#         box.padding = 0.2,\n",
    "#         direction = \"y\",\n",
    "#         vjust = 1\n",
    "    ) +\n",
    "    theme(\n",
    "        axis.title.y=element_blank(),\n",
    "        axis.text.y=element_blank(),\n",
    "        axis.ticks.y=element_blank(),\n",
    "        panel.background = element_rect(fill = \"white\"),\n",
    "        panel.grid.major.y = element_line(colour = \"black\", linetype = 3),\n",
    "        legend.position = \"none\"\n",
    "    )\n",
    "p1"
   ]
  },
  {
   "cell_type": "code",
   "execution_count": 15,
   "metadata": {},
   "outputs": [
    {
     "name": "stderr",
     "output_type": "stream",
     "text": [
      "Saving 14 x 6.67 in image\n",
      "\n"
     ]
    },
    {
     "data": {
      "image/png": "[encoded data removed]",
      "text/plain": [
       "plot without title"
      ]
     },
     "metadata": {
      "image/png": {
       "height": 420,
       "width": 420
      },
      "text/plain": {
       "height": 420,
       "width": 420
      }
     },
     "output_type": "display_data"
    }
   ],
   "source": [
    "p <- plot(snpTracing) + ggtitle(\"ZIKV polyprotein\")\n",
    "p\n",
    "\n",
    "p <- p1 %>% insert_left(p)\n",
    "\n",
    "ggsave(filename = file.path(plotsDir, \"snpTracing.pdf\"), plot = p, width = 14)"
   ]
  },
  {
   "cell_type": "markdown",
   "metadata": {},
   "source": [
    "### 2. SARS-CoV-2 CDS"
   ]
  },
  {
   "cell_type": "code",
   "execution_count": 16,
   "metadata": {},
   "outputs": [],
   "source": [
    "treeDir <- file.path(TREES_DIR, SARS_COV_2_CDS_NAME)\n",
    "plotsDir <- file.path(PLOTS_DIR, SARS_COV_2_CDS_NAME)\n",
    "dir.create(plotsDir, showWarnings = FALSE)"
   ]
  },
  {
   "cell_type": "code",
   "execution_count": 17,
   "metadata": {},
   "outputs": [],
   "source": [
    "# cds2genome <- read_json(file.path(REFSEQ_DIR, paste0(SARS_COV_2_CDS_NAME, \"_anno.json\")), simplifyVector = TRUE)\n",
    "# cds2genome <- lapply(cds2genome, \"[[\", \"genome_pos\")"
   ]
  },
  {
   "cell_type": "code",
   "execution_count": 18,
   "metadata": {},
   "outputs": [],
   "source": [
    "cds2genome <- read_json(file.path(REFSEQ_DIR, paste0(SARS_COV_2_CDS_NAME, \"2genome.json\")), simplifyVector = TRUE)"
   ]
  },
  {
   "cell_type": "code",
   "execution_count": 19,
   "metadata": {},
   "outputs": [],
   "source": [
    "meta <- read.csv(\n",
    "    file.path(METADATA_DIR, paste0(SARS_COV_2_CDS_NAME, \".csv\")), \n",
    "    row.names = \"Accession.ID\",\n",
    "    stringsAsFactors = FALSE\n",
    ")"
   ]
  },
  {
   "cell_type": "code",
   "execution_count": 20,
   "metadata": {},
   "outputs": [],
   "source": [
    "tree <- read.tree(file.path(treeDir, \"RAxML_bestTree.GTRGAMMA\"))\n",
    "tree <- addMSA(tree, msaPath = file.path(treeDir, \"aligned.fasta\"), msaFormat = \"fasta\")"
   ]
  },
  {
   "cell_type": "code",
   "execution_count": 21,
   "metadata": {},
   "outputs": [],
   "source": [
    "tree <- setSiteNumbering(tree, SARS_COV_2_REFERENCE)"
   ]
  },
  {
   "cell_type": "code",
   "execution_count": 22,
   "metadata": {},
   "outputs": [
    {
     "data": {
      "image/png": "[encoded data removed]",
      "text/plain": [
       "plot without title"
      ]
     },
     "metadata": {
      "image/png": {
       "height": 420,
       "width": 420
      },
      "text/plain": {
       "height": 420,
       "width": 420
      }
     },
     "output_type": "display_data"
    }
   ],
   "source": [
    "paths <- lineagePath(tree, similarity = 0.03)\n",
    "plot(paths)"
   ]
  },
  {
   "cell_type": "code",
   "execution_count": 23,
   "metadata": {},
   "outputs": [],
   "source": [
    "mutations <- fixationSites(paths)"
   ]
  },
  {
   "cell_type": "code",
   "execution_count": 24,
   "metadata": {},
   "outputs": [
    {
     "data": {
      "image/png": "[encoded data removed]",
      "text/plain": [
       "plot without title"
      ]
     },
     "metadata": {
      "image/png": {
       "height": 420,
       "width": 420
      },
      "text/plain": {
       "height": 420,
       "width": 420
      }
     },
     "output_type": "display_data"
    }
   ],
   "source": [
    "p <- plot(mutations)\n",
    "p\n",
    "\n",
    "ggsave(\n",
    "    filename = file.path(plotsDir, \"cluster.pdf\"), \n",
    "    plot = p,\n",
    "    width = 10,\n",
    "    height = 8\n",
    ")"
   ]
  },
  {
   "cell_type": "code",
   "execution_count": 25,
   "metadata": {},
   "outputs": [],
   "source": [
    "pred <- as.data.frame(mutations)\n",
    "write.csv(pred, file.path(plotsDir, \"sitePath.csv\"), row.names = FALSE)"
   ]
  },
  {
   "cell_type": "code",
   "execution_count": 26,
   "metadata": {},
   "outputs": [],
   "source": [
    "snpTracing <- sitewiseClusters(mutations)"
   ]
  },
  {
   "cell_type": "code",
   "execution_count": 27,
   "metadata": {},
   "outputs": [],
   "source": [
    "attr(snpTracing, \"SNPtracing\")@data[[\"SNPs\"]] <- sapply(\n",
    "    strsplit(attr(snpTracing, \"SNPtracing\")@data[[\"SNPs\"]], \", \"), \n",
    "    function(allSNPs) {\n",
    "        if (anyNA(allSNPs)) {\n",
    "            return(allSNPs)\n",
    "        } else {\n",
    "            res <- sapply(allSNPs, function(snp) {\n",
    "                charLen <- nchar(snp)\n",
    "                preMut <- substr(snp, 1, 1)\n",
    "                postMut <- substr(snp, charLen, charLen)\n",
    "                site <- cds2genome[[substr(snp, 2, charLen - 1)]]\n",
    "                return(paste0(preMut, site, postMut))\n",
    "            })\n",
    "            paste0(res, collapse = \", \")\n",
    "        }\n",
    "})"
   ]
  },
  {
   "cell_type": "code",
   "execution_count": 28,
   "metadata": {},
   "outputs": [
    {
     "data": {
      "image/png": "[encoded data removed]",
      "text/plain": [
       "plot without title"
      ]
     },
     "metadata": {
      "image/png": {
       "height": 420,
       "width": 420
      },
      "text/plain": {
       "height": 420,
       "width": 420
      }
     },
     "output_type": "display_data"
    }
   ],
   "source": [
    "p <- plot(snpTracing) +\n",
    "    ggtitle(\"SARS-CoV-2 CDS\")\n",
    "p"
   ]
  },
  {
   "cell_type": "code",
   "execution_count": 29,
   "metadata": {},
   "outputs": [],
   "source": [
    "tipClusters <- as.list(snpTracing)"
   ]
  },
  {
   "cell_type": "code",
   "execution_count": 30,
   "metadata": {},
   "outputs": [],
   "source": [
    "countryData <- lapply(names(tipClusters), function(i) {\n",
    "    tip <- tipClusters[[i]]\n",
    "    data.frame(\n",
    "        \"tip\" = i,\n",
    "        \"Country\" = meta[tree[[\"tip.label\"]][tip], \"Country\"]\n",
    "    )\n",
    "})\n",
    "countryData <- do.call(rbind, countryData)"
   ]
  },
  {
   "cell_type": "code",
   "execution_count": 31,
   "metadata": {},
   "outputs": [],
   "source": [
    "df <- lapply(split(countryData, countryData[[\"Country\"]]), function(i) {\n",
    "    res <- reshape2::dcast(i, tip ~ Country, value.var = \"Country\", length)\n",
    "    names(res)[2] <- \"Num\"\n",
    "    res[[\"Country\"]] <- unique(i[[\"Country\"]])\n",
    "    res\n",
    "})\n",
    "df <- do.call(rbind, df)\n",
    "\n",
    "df <- df[order(df[[\"tip\"]]), ]\n",
    "\n",
    "df <- lapply(split(df, df[[\"tip\"]]), function(i) {\n",
    "    i[[\"Pos\"]] <- cumsum(i[[\"Num\"]]) - (0.5 * i[[\"Num\"]])\n",
    "    i\n",
    "})\n",
    "df <- do.call(rbind, df)\n",
    "rownames(df) <- NULL"
   ]
  },
  {
   "cell_type": "code",
   "execution_count": 32,
   "metadata": {},
   "outputs": [
    {
     "name": "stderr",
     "output_type": "stream",
     "text": [
      "Saving 14 x 6.67 in image\n",
      "\n"
     ]
    },
    {
     "data": {
      "image/png": "[encoded data removed]",
      "text/plain": [
       "plot without title"
      ]
     },
     "metadata": {
      "image/png": {
       "height": 420,
       "width": 420
      },
      "text/plain": {
       "height": 420,
       "width": 420
      }
     },
     "output_type": "display_data"
    }
   ],
   "source": [
    "p1 <- ggplot(df, aes(x = Num, y = tip, fill = Country)) + \n",
    "    geom_bar(colour=\"#A9A9A9\", stat=\"identity\", position = position_stack(reverse = TRUE), width = 0.1) +\n",
    "    geom_text_repel(\n",
    "        aes(label=Country, x = Pos), \n",
    "        size = 3, \n",
    "        min.segment.length = 0.1,\n",
    "        box.padding = 0.5\n",
    "    ) +\n",
    "    theme(\n",
    "        axis.title.y=element_blank(),\n",
    "        axis.text.y=element_blank(),\n",
    "        axis.ticks.y=element_blank(),\n",
    "        panel.background = element_rect(fill = \"white\"),\n",
    "        panel.grid.major.y = element_line(colour = \"black\", linetype = 3),\n",
    "        legend.position = \"none\"\n",
    "    )\n",
    "p1\n",
    "\n",
    "p <- p1 %>% insert_left(p)\n",
    "\n",
    "ggsave(filename = file.path(plotsDir, \"snpTracing.pdf\"), plot = p, width = 14)"
   ]
  }
 ],
 "metadata": {
  "kernelspec": {
   "display_name": "R",
   "language": "R",
   "name": "ir"
  },
  "language_info": {
   "codemirror_mode": "r",
   "file_extension": ".r",
   "mimetype": "text/x-r-source",
   "name": "R",
   "pygments_lexer": "r",
   "version": "4.0.0"
  }
 },
 "nbformat": 4,
 "nbformat_minor": 2
}
