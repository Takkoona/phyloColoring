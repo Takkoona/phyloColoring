{
 "cells": [
  {
   "cell_type": "markdown",
   "metadata": {},
   "source": [
    "## Important\n",
    "\n",
    "`run_mafft.sh` and `run_raxml.sh` in each subfoloder of `Trees` to build the trees beforehand."
   ]
  },
  {
   "cell_type": "code",
   "execution_count": 1,
   "metadata": {},
   "outputs": [],
   "source": [
    "library(ape)\n",
    "library(sitePath)\n",
    "library(ggplot2)\n",
    "library(ggrepel)\n",
    "library(aplot)\n",
    "library(RColorBrewer)\n",
    "suppressPackageStartupMessages(library(treeio))\n",
    "suppressPackageStartupMessages(library(ggtree))\n",
    "\n",
    "METADATA_DIR <- \"Metadata\"\n",
    "TREES_DIR <- \"Trees\"\n",
    "PLOTS_DIR <- \"Plots\"\n",
    "STRUCTURES_DIR <- \"Structures\"\n",
    "\n",
    "H1N1_HA_NAME <- \"H1N1_HA\"\n",
    "H3N2_HA_NAME <- \"H3N2_HA\"\n",
    "ZIKV_POLYPROTEIN_NAME <- \"ZIKV_polyprotein\"\n",
    "SARS_COV_2_CDS_NAME <- \"SARS_CoV_2_cds\""
   ]
  },
  {
   "cell_type": "markdown",
   "metadata": {},
   "source": [
    "### 1. ZIKV polyprotein"
   ]
  },
  {
   "cell_type": "code",
   "execution_count": 2,
   "metadata": {},
   "outputs": [],
   "source": [
    "meta <- read.csv(\n",
    "    file.path(METADATA_DIR, paste0(ZIKV_POLYPROTEIN_NAME, \".tsv\")), \n",
    "    sep = \"\\t\",\n",
    "    row.names = \"GenBank.Protein.Accession\",\n",
    "    na.strings = c(\"-N/A-\", \"Unknown\"),\n",
    "    stringsAsFactors = FALSE\n",
    ")\n",
    "rownames(meta) <- sapply(strsplit(rownames(meta), \"\\\\.\"), \"[\", 1)\n",
    "meta <- meta[, colSums(is.na(meta)) < nrow(meta)]"
   ]
  },
  {
   "cell_type": "code",
   "execution_count": 3,
   "metadata": {},
   "outputs": [],
   "source": [
    "meta[which(meta[[\"Country\"]] == \"Taiwan\"), ][[\"Country\"]] <- \"China\""
   ]
  },
  {
   "cell_type": "code",
   "execution_count": 4,
   "metadata": {},
   "outputs": [],
   "source": [
    "treeDir <- file.path(TREES_DIR, ZIKV_POLYPROTEIN_NAME)\n",
    "plotsDir <- file.path(PLOTS_DIR, ZIKV_POLYPROTEIN_NAME)\n",
    "dir.create(plotsDir, showWarnings = FALSE)"
   ]
  },
  {
   "cell_type": "code",
   "execution_count": 5,
   "metadata": {},
   "outputs": [],
   "source": [
    "tree <- read.tree(file.path(treeDir, \"RAxML_bestTree.PROTGAMMAGTR\"))\n",
    "tree <- addMSA(tree, msaPath = file.path(treeDir, \"aligned.fasta\"), msaFormat = \"fasta\")"
   ]
  },
  {
   "cell_type": "code",
   "execution_count": 6,
   "metadata": {},
   "outputs": [
    {
     "data": {
      "image/png": "[encoded data removed]",
      "text/plain": [
       "plot without title"
      ]
     },
     "metadata": {
      "image/png": {
       "height": 420,
       "width": 420
      },
      "text/plain": {
       "height": 420,
       "width": 420
      }
     },
     "output_type": "display_data"
    }
   ],
   "source": [
    "paths <- lineagePath(tree, 0.05)\n",
    "plot(paths)"
   ]
  },
  {
   "cell_type": "code",
   "execution_count": 10,
   "metadata": {},
   "outputs": [
    {
     "data": {
      "image/png": "[encoded data removed]",
      "text/plain": [
       "plot without title"
      ]
     },
     "metadata": {
      "image/png": {
       "height": 420,
       "width": 420
      },
      "text/plain": {
       "height": 420,
       "width": 420
      }
     },
     "output_type": "display_data"
    }
   ],
   "source": [
    "group <- rep(1, times = Ntip(tree) + tree$Nnode)\n",
    "group[unique(unlist(paths))] <- 0\n",
    "group <- factor(group)\n",
    "\n",
    "size <- rep(0.5, times = Ntip(tree) + tree$Nnode)\n",
    "size[unique(unlist(paths))] <- 1\n",
    "\n",
    "ggtree(tree, aes(color=group, linetype=group, size = size)) + \n",
    "    scale_color_manual(values = c(\"black\", \"grey\")) + \n",
    "    theme(legend.position = \"none\")"
   ]
  },
  {
   "cell_type": "code",
   "execution_count": 7,
   "metadata": {},
   "outputs": [],
   "source": [
    "mutations <- fixationSites(paths)"
   ]
  },
  {
   "cell_type": "code",
   "execution_count": 8,
   "metadata": {},
   "outputs": [
    {
     "data": {
      "text/html": [
       "<strong>png:</strong> 2"
      ],
      "text/latex": [
       "\\textbf{png:} 2"
      ],
      "text/markdown": [
       "**png:** 2"
      ],
      "text/plain": [
       "png \n",
       "  2 "
      ]
     },
     "metadata": {},
     "output_type": "display_data"
    }
   ],
   "source": [
    "pdf(file = file.path(plotsDir, \"sites.pdf\"))\n",
    "for (i in mutations) {\n",
    "    plot(i)\n",
    "}\n",
    "dev.off()"
   ]
  },
  {
   "cell_type": "code",
   "execution_count": 9,
   "metadata": {},
   "outputs": [],
   "source": [
    "snpTracing <- as.phylo(mutations, minEffectiveSize = 0)\n",
    "snpTracing[[\"tip.label\"]] <- LETTERS[seq_along(snpTracing[[\"tip.label\"]])]\n",
    "names(attr(snpTracing, \"tipClusters\")) <- snpTracing[[\"tip.label\"]]"
   ]
  },
  {
   "cell_type": "code",
   "execution_count": 10,
   "metadata": {},
   "outputs": [
    {
     "name": "stdout",
     "output_type": "stream",
     "text": [
      "Starting checking the validity of tr@phylo...\n",
      "Found number of tips: n = 15 \n",
      "Found number of nodes: m = 7 \n",
      "Done.\n"
     ]
    }
   ],
   "source": [
    "x <- as_tibble(snpTracing)\n",
    "\n",
    "d <- as_tibble(t(vapply(\n",
    "    X = attr(snpTracing, \"edgeSNPs\"),\n",
    "    FUN = function (snp) {\n",
    "        if (length(snp) == 0) {\n",
    "            res <- NA_character_\n",
    "        } else {\n",
    "            res <- character()\n",
    "            snpNum <- length(snp)\n",
    "            for (i in seq_len(snpNum)) {\n",
    "                res <- paste0(res, snp[i])\n",
    "                if (i < snpNum) {\n",
    "                    if (i %% 4 == 0) {\n",
    "                        res <- paste0(res, \",\\n\")\n",
    "                    } else {\n",
    "                        res <- paste0(res, \", \")\n",
    "                    }\n",
    "                }\n",
    "            }\n",
    "\n",
    "        }\n",
    "        res <- c(res, attr(snp, \"edge\")[2])\n",
    "        names(res) <- c(\"SNPs\", \"node\")\n",
    "        return(res)\n",
    "    }, \n",
    "    FUN.VALUE = c(character(1), integer(1))\n",
    ")))\n",
    "\n",
    "d[[\"node\"]] <- as.integer(d[[\"node\"]])\n",
    "\n",
    "y <- full_join(x, d, by = \"node\")\n",
    "tr <- as.treedata(y)\n",
    "\n",
    "checkValidPhylo(tr@phylo)"
   ]
  },
  {
   "cell_type": "code",
   "execution_count": 11,
   "metadata": {},
   "outputs": [
    {
     "data": {
      "image/png": "[encoded data removed]",
      "text/plain": [
       "plot without title"
      ]
     },
     "metadata": {
      "image/png": {
       "height": 420,
       "width": 420
      },
      "text/plain": {
       "height": 420,
       "width": 420
      }
     },
     "output_type": "display_data"
    }
   ],
   "source": [
    "group <- attr(snpTracing, \"tipClusters\")\n",
    "\n",
    "groupColors <- colorRampPalette(brewer.pal(9, \"Set1\"))(length(group))\n",
    "names(groupColors) <- names(group)\n",
    "groupColors[\"0\"] <- \"#000000\"\n",
    "\n",
    "p <- ggtree(groupOTU(tree, group, group_name = \"color\"), aes(color = color)) +\n",
    "    scale_color_manual(values = as.list(groupColors), limits = names(groupColors)) +\n",
    "    guides(\n",
    "      color = guide_legend(\n",
    "        override.aes = list(size = 3),\n",
    "        title = 'Groups'\n",
    "      )\n",
    "    ) +\n",
    "    theme(legend.position = \"left\")\n",
    "p\n",
    "\n",
    "ggsave(\n",
    "    filename = file.path(plotsDir, \"cluster.pdf\"), \n",
    "    plot = p,\n",
    "    width = 10,\n",
    "    height = 8\n",
    ")"
   ]
  },
  {
   "cell_type": "code",
   "execution_count": 12,
   "metadata": {},
   "outputs": [],
   "source": [
    "clusterPaths <- list()\n",
    "rootNode <- getMRCA(tree, tree[[\"tip.label\"]])\n",
    "\n",
    "for (cluster in names(group)) {\n",
    "    tips <- group[[cluster]]\n",
    "    ancestral <- getMRCA(tree, tips)\n",
    "    if (is.null(ancestral)) {\n",
    "        np <- nodepath(tree, rootNode, tips)\n",
    "        clusterPaths[[cluster]] <- np[1:(length(np) - 1)]\n",
    "    } else {\n",
    "        clusterPaths[[cluster]] <- nodepath(tree, rootNode, ancestral)\n",
    "    }\n",
    "}"
   ]
  },
  {
   "cell_type": "code",
   "execution_count": 13,
   "metadata": {},
   "outputs": [],
   "source": [
    "clusterInfo <- lapply(names(group), function(g) {\n",
    "    data.frame(row.names = group[[g]], \"cluster\" = rep(g, length(group[[g]])))\n",
    "})\n",
    "clusterInfo <- do.call(rbind, clusterInfo)"
   ]
  },
  {
   "cell_type": "code",
   "execution_count": 14,
   "metadata": {},
   "outputs": [],
   "source": [
    "transMut <- list()\n",
    "\n",
    "for (sp in mutations) {\n",
    "    site <- attr(sp, \"site\")\n",
    "    for (mp in sp) {\n",
    "        for (i in seq_along(mp)[-1]) {\n",
    "            prevTips <- mp[[i - 1]]\n",
    "            currTips <- mp[[i]]\n",
    "            prevAA <- attr(prevTips, \"AA\")\n",
    "            currAA <- attr(currTips, \"AA\")\n",
    "            mutation <- paste0(prevAA, site, currAA)\n",
    "            prevCluster <- unique(clusterInfo[as.character(prevTips), ])\n",
    "            names(prevCluster) <- prevCluster\n",
    "            prev <- names(which.max(lapply(prevCluster, function(cluster) {\n",
    "                length(clusterPaths[[cluster]])\n",
    "            })))\n",
    "            currCluster <- unique(clusterInfo[as.character(currTips), ])\n",
    "            names(currCluster) <- currCluster\n",
    "            curr <- names(which.min(lapply(currCluster, function(cluster) {\n",
    "                length(clusterPaths[[cluster]])\n",
    "            })))\n",
    "            trans <- paste(prev, curr, sep = \"-\")\n",
    "            if (trans %in% names(transMut)) {\n",
    "                transMut[[trans]] <- c(transMut[[trans]], mutation)\n",
    "            } else {\n",
    "                transMut[[trans]] <- mutation\n",
    "            }\n",
    "        }\n",
    "    }\n",
    "}\n",
    "\n",
    "transMut <- lapply(transMut, unique)"
   ]
  },
  {
   "cell_type": "code",
   "execution_count": 15,
   "metadata": {},
   "outputs": [],
   "source": [
    "pred <- lapply(names(transMut), function(i) {\n",
    "    c(i, paste(transMut[[i]], collapse = \",\"))\n",
    "})\n",
    "pred <- do.call(rbind, pred)\n",
    "colnames(pred) <- c(\"Transition\", \"Mutations\")"
   ]
  },
  {
   "cell_type": "code",
   "execution_count": 16,
   "metadata": {},
   "outputs": [],
   "source": [
    "pred <- lapply(names(transMut), function(i) {\n",
    "    c(i, paste(transMut[[i]], collapse = \",\"))\n",
    "})\n",
    "pred <- do.call(rbind, pred)\n",
    "colnames(pred) <- c(\"Transition\", \"Mutations\")\n",
    "write.csv(pred, file.path(plotsDir, \"sitePath.csv\"), row.names = FALSE)"
   ]
  },
  {
   "cell_type": "code",
   "execution_count": 17,
   "metadata": {},
   "outputs": [],
   "source": [
    "countryData <- lapply(seq_along(snpTracing[[\"tip.label\"]]), function(i) {\n",
    "    tipName <- LETTERS[i]\n",
    "    i <- attr(snpTracing, \"tipClusters\")[[i]]\n",
    "    data.frame(\n",
    "        \"tip\" = tipName,\n",
    "        \"Country\" = meta[tree$tip.label[i], \"Country\"]\n",
    "    )\n",
    "})\n",
    "countryData <- do.call(rbind, countryData)"
   ]
  },
  {
   "cell_type": "code",
   "execution_count": 18,
   "metadata": {},
   "outputs": [],
   "source": [
    "df <- lapply(split(countryData, countryData[[\"Country\"]]), function(i) {\n",
    "    res <- reshape2::dcast(i, tip ~ Country, value.var = \"Country\", length)\n",
    "    names(res)[2] <- \"Num\"\n",
    "    res[[\"Country\"]] <- unique(i[[\"Country\"]])\n",
    "    res\n",
    "})\n",
    "df <- do.call(rbind, df)\n",
    "\n",
    "df <- df[order(df[[\"tip\"]]), ]\n",
    "\n",
    "df <- lapply(split(df, df[[\"tip\"]]), function(i) {\n",
    "    i[[\"Pos\"]] <- cumsum(i[[\"Num\"]]) - (0.5 * i[[\"Num\"]])\n",
    "    i\n",
    "})\n",
    "df <- do.call(rbind, df)\n",
    "rownames(df) <- NULL"
   ]
  },
  {
   "cell_type": "code",
   "execution_count": 19,
   "metadata": {},
   "outputs": [
    {
     "data": {
      "image/png": "[encoded data removed]",
      "text/plain": [
       "plot without title"
      ]
     },
     "metadata": {
      "image/png": {
       "height": 420,
       "width": 420
      },
      "text/plain": {
       "height": 420,
       "width": 420
      }
     },
     "output_type": "display_data"
    }
   ],
   "source": [
    "p1 <- ggplot(df, aes(x = Num, y = tip, fill = Country)) + \n",
    "    geom_bar(colour=\"#A9A9A9\", stat=\"identity\", position = position_stack(reverse = TRUE), width = 0.1) +\n",
    "    geom_text_repel(\n",
    "        aes(label=Country, x = Pos), \n",
    "        size = 3,\n",
    "        min.segment.length = 0.1,\n",
    "#         box.padding = 0.2,\n",
    "#         direction = \"y\",\n",
    "#         vjust = 1\n",
    "    ) +\n",
    "    theme(\n",
    "        axis.title.y=element_blank(),\n",
    "        axis.text.y=element_blank(),\n",
    "        axis.ticks.y=element_blank(),\n",
    "        panel.background = element_rect(fill = \"white\"),\n",
    "        panel.grid.major.y = element_line(colour = \"black\", linetype = 3),\n",
    "        legend.position = \"none\"\n",
    "    )\n",
    "p1"
   ]
  },
  {
   "cell_type": "code",
   "execution_count": 20,
   "metadata": {},
   "outputs": [
    {
     "name": "stderr",
     "output_type": "stream",
     "text": [
      "Saving 14 x 6.67 in image\n",
      "\n"
     ]
    },
    {
     "data": {
      "image/png": "[encoded data removed]",
      "text/plain": [
       "plot without title"
      ]
     },
     "metadata": {
      "image/png": {
       "height": 420,
       "width": 420
      },
      "text/plain": {
       "height": 420,
       "width": 420
      }
     },
     "output_type": "display_data"
    }
   ],
   "source": [
    "p <- ggtree(tr) + geom_tiplab(align = TRUE) +\n",
    "    geom_label_repel(\n",
    "        aes(x=branch, label=SNPs), \n",
    "        fill='lightgreen', \n",
    "        min.segment.length = 0,\n",
    "        na.rm = TRUE\n",
    "    ) +\n",
    "    theme_tree2() +\n",
    "    ggtitle(\"ZIKV polyprotein\")\n",
    "p\n",
    "\n",
    "p <- p1 %>% insert_left(p)\n",
    "# p\n",
    "\n",
    "ggsave(filename = file.path(plotsDir, \"snpTracing.pdf\"), plot = p, width = 14)"
   ]
  },
  {
   "cell_type": "markdown",
   "metadata": {},
   "source": [
    "### 2. SARS-CoV-2 CDS"
   ]
  },
  {
   "cell_type": "code",
   "execution_count": 21,
   "metadata": {},
   "outputs": [],
   "source": [
    "meta <- read.csv(\n",
    "    file.path(METADATA_DIR, paste0(SARS_COV_2_CDS_NAME, \".csv\")), \n",
    "    row.names = \"Accession.ID\",\n",
    "    stringsAsFactors = FALSE\n",
    ")"
   ]
  },
  {
   "cell_type": "code",
   "execution_count": 22,
   "metadata": {},
   "outputs": [],
   "source": [
    "treeDir <- file.path(TREES_DIR, SARS_COV_2_CDS_NAME)\n",
    "plotsDir <- file.path(PLOTS_DIR, SARS_COV_2_CDS_NAME)\n",
    "dir.create(plotsDir, showWarnings = FALSE)"
   ]
  },
  {
   "cell_type": "code",
   "execution_count": 23,
   "metadata": {},
   "outputs": [],
   "source": [
    "tree <- read.tree(file.path(treeDir, \"RAxML_bestTree.GTRGAMMA\"))\n",
    "tree <- addMSA(tree, msaPath = file.path(treeDir, \"aligned.fasta\"), msaFormat = \"fasta\")"
   ]
  },
  {
   "cell_type": "code",
   "execution_count": 24,
   "metadata": {},
   "outputs": [
    {
     "data": {
      "image/png": "[encoded data removed]",
      "text/plain": [
       "plot without title"
      ]
     },
     "metadata": {
      "image/png": {
       "height": 420,
       "width": 420
      },
      "text/plain": {
       "height": 420,
       "width": 420
      }
     },
     "output_type": "display_data"
    }
   ],
   "source": [
    "paths <- lineagePath(tree, similarity = 0.03)\n",
    "plot(paths)"
   ]
  },
  {
   "cell_type": "code",
   "execution_count": 25,
   "metadata": {},
   "outputs": [],
   "source": [
    "mutations <- fixationSites(paths)"
   ]
  },
  {
   "cell_type": "code",
   "execution_count": 26,
   "metadata": {},
   "outputs": [
    {
     "data": {
      "text/html": [
       "<strong>png:</strong> 2"
      ],
      "text/latex": [
       "\\textbf{png:} 2"
      ],
      "text/markdown": [
       "**png:** 2"
      ],
      "text/plain": [
       "png \n",
       "  2 "
      ]
     },
     "metadata": {},
     "output_type": "display_data"
    }
   ],
   "source": [
    "pdf(file = file.path(plotsDir, \"sites.pdf\"))\n",
    "for (i in mutations) {\n",
    "    plot(i)\n",
    "}\n",
    "dev.off()"
   ]
  },
  {
   "cell_type": "code",
   "execution_count": 27,
   "metadata": {},
   "outputs": [],
   "source": [
    "snpTracing <- as.phylo(mutations, minEffectiveSize = 0)\n",
    "snpTracing[[\"tip.label\"]] <- LETTERS[seq_along(snpTracing[[\"tip.label\"]])]\n",
    "names(attr(snpTracing, \"tipClusters\")) <- snpTracing[[\"tip.label\"]]"
   ]
  },
  {
   "cell_type": "code",
   "execution_count": 28,
   "metadata": {},
   "outputs": [
    {
     "name": "stdout",
     "output_type": "stream",
     "text": [
      "Starting checking the validity of tr@phylo...\n",
      "Found number of tips: n = 15 \n",
      "Found number of nodes: m = 7 \n",
      "Done.\n"
     ]
    }
   ],
   "source": [
    "x <- as_tibble(snpTracing)\n",
    "\n",
    "d <- as_tibble(t(vapply(\n",
    "    X = attr(snpTracing, \"edgeSNPs\"),\n",
    "    FUN = function (snp) {\n",
    "        if (length(snp) == 0) {\n",
    "            res <- NA_character_\n",
    "        } else {\n",
    "            res <- character()\n",
    "            snpNum <- length(snp)\n",
    "            for (i in seq_len(snpNum)) {\n",
    "                res <- paste0(res, snp[i])\n",
    "                if (i < snpNum) {\n",
    "                    if (i %% 4 == 0) {\n",
    "                        res <- paste0(res, \",\\n\")\n",
    "                    } else {\n",
    "                        res <- paste0(res, \", \")\n",
    "                    }\n",
    "                }\n",
    "            }\n",
    "\n",
    "        }\n",
    "        res <- c(res, attr(snp, \"edge\")[2])\n",
    "        names(res) <- c(\"SNPs\", \"node\")\n",
    "        return(res)\n",
    "    }, \n",
    "    FUN.VALUE = c(character(1), integer(1))\n",
    ")))\n",
    "\n",
    "d[[\"node\"]] <- as.integer(d[[\"node\"]])\n",
    "\n",
    "y <- full_join(x, d, by = \"node\")\n",
    "tr <- as.treedata(y)\n",
    "\n",
    "checkValidPhylo(tr@phylo)"
   ]
  },
  {
   "cell_type": "code",
   "execution_count": 29,
   "metadata": {},
   "outputs": [
    {
     "data": {
      "image/png": "[encoded data removed]",
      "text/plain": [
       "plot without title"
      ]
     },
     "metadata": {
      "image/png": {
       "height": 420,
       "width": 420
      },
      "text/plain": {
       "height": 420,
       "width": 420
      }
     },
     "output_type": "display_data"
    }
   ],
   "source": [
    "group <- attr(snpTracing, \"tipClusters\")\n",
    "\n",
    "groupColors <- colorRampPalette(brewer.pal(9, \"Set1\"))(length(group))\n",
    "names(groupColors) <- names(group)\n",
    "groupColors[\"0\"] <- \"#000000\"\n",
    "\n",
    "p <- ggtree(groupOTU(tree, group, group_name = \"color\"), aes(color = color)) +\n",
    "    scale_color_manual(values = as.list(groupColors), limits = names(groupColors)) +\n",
    "    guides(\n",
    "      color = guide_legend(\n",
    "        override.aes = list(size = 3),\n",
    "        title = 'Groups'\n",
    "      )\n",
    "    ) +\n",
    "    theme(legend.position = \"left\")\n",
    "p\n",
    "\n",
    "ggsave(\n",
    "    filename = file.path(plotsDir, \"cluster.pdf\"), \n",
    "    plot = p,\n",
    "    width = 10,\n",
    "    height = 8\n",
    ")"
   ]
  },
  {
   "cell_type": "code",
   "execution_count": 30,
   "metadata": {},
   "outputs": [],
   "source": [
    "clusterPaths <- list()\n",
    "rootNode <- getMRCA(tree, tree[[\"tip.label\"]])\n",
    "\n",
    "for (cluster in names(group)) {\n",
    "    tips <- group[[cluster]]\n",
    "    ancestral <- getMRCA(tree, tips)\n",
    "    if (is.null(ancestral)) {\n",
    "        np <- nodepath(tree, rootNode, tips)\n",
    "        clusterPaths[[cluster]] <- np[1:(length(np) - 1)]\n",
    "    } else {\n",
    "        clusterPaths[[cluster]] <- nodepath(tree, rootNode, ancestral)\n",
    "    }\n",
    "}"
   ]
  },
  {
   "cell_type": "code",
   "execution_count": 31,
   "metadata": {},
   "outputs": [],
   "source": [
    "clusterInfo <- lapply(names(group), function(g) {\n",
    "    data.frame(row.names = group[[g]], \"cluster\" = rep(g, length(group[[g]])))\n",
    "})\n",
    "clusterInfo <- do.call(rbind, clusterInfo)"
   ]
  },
  {
   "cell_type": "code",
   "execution_count": 32,
   "metadata": {},
   "outputs": [],
   "source": [
    "transMut <- list()\n",
    "\n",
    "for (sp in mutations) {\n",
    "    site <- attr(sp, \"site\")\n",
    "    for (mp in sp) {\n",
    "        for (i in seq_along(mp)[-1]) {\n",
    "            prevTips <- mp[[i - 1]]\n",
    "            currTips <- mp[[i]]\n",
    "            prevAA <- attr(prevTips, \"AA\")\n",
    "            currAA <- attr(currTips, \"AA\")\n",
    "            mutation <- paste0(prevAA, site, currAA)\n",
    "            prevCluster <- unique(clusterInfo[as.character(prevTips), ])\n",
    "            names(prevCluster) <- prevCluster\n",
    "            prev <- names(which.max(lapply(prevCluster, function(cluster) {\n",
    "                length(clusterPaths[[cluster]])\n",
    "            })))\n",
    "            currCluster <- unique(clusterInfo[as.character(currTips), ])\n",
    "            names(currCluster) <- currCluster\n",
    "            curr <- names(which.min(lapply(currCluster, function(cluster) {\n",
    "                length(clusterPaths[[cluster]])\n",
    "            })))\n",
    "            trans <- paste(prev, curr, sep = \"-\")\n",
    "            if (trans %in% names(transMut)) {\n",
    "                transMut[[trans]] <- c(transMut[[trans]], mutation)\n",
    "            } else {\n",
    "                transMut[[trans]] <- mutation\n",
    "            }\n",
    "        }\n",
    "    }\n",
    "}\n",
    "\n",
    "transMut <- lapply(transMut, unique)"
   ]
  },
  {
   "cell_type": "code",
   "execution_count": 33,
   "metadata": {},
   "outputs": [],
   "source": [
    "pred <- lapply(names(transMut), function(i) {\n",
    "    c(i, paste(transMut[[i]], collapse = \",\"))\n",
    "})\n",
    "pred <- do.call(rbind, pred)\n",
    "colnames(pred) <- c(\"Transition\", \"Mutations\")"
   ]
  },
  {
   "cell_type": "code",
   "execution_count": 34,
   "metadata": {},
   "outputs": [],
   "source": [
    "pred <- lapply(names(transMut), function(i) {\n",
    "    c(i, paste(transMut[[i]], collapse = \",\"))\n",
    "})\n",
    "pred <- do.call(rbind, pred)\n",
    "colnames(pred) <- c(\"Transition\", \"Mutations\")\n",
    "write.csv(pred, file.path(plotsDir, \"sitePath.csv\"), row.names = FALSE)"
   ]
  },
  {
   "cell_type": "code",
   "execution_count": 35,
   "metadata": {},
   "outputs": [],
   "source": [
    "countryData <- lapply(attr(snpTracing, \"tipClusters\"), function(i) {\n",
    "    data.frame(\n",
    "        \"tip\" = as.character(length(i)),\n",
    "        \"Country\" = meta[tree$tip.label[i], \"Country\"]\n",
    "    )\n",
    "})\n",
    "countryData <- do.call(rbind, countryData)"
   ]
  },
  {
   "cell_type": "code",
   "execution_count": 36,
   "metadata": {},
   "outputs": [],
   "source": [
    "df <- lapply(split(countryData, countryData[[\"Country\"]]), function(i) {\n",
    "    res <- reshape2::dcast(i, tip ~ Country, value.var = \"Country\", length)\n",
    "    names(res)[2] <- \"Num\"\n",
    "    res[[\"Country\"]] <- unique(i[[\"Country\"]])\n",
    "    res\n",
    "})\n",
    "df <- do.call(rbind, df)\n",
    "\n",
    "df <- df[order(df[[\"tip\"]]), ]\n",
    "\n",
    "df <- lapply(split(df, df[[\"tip\"]]), function(i) {\n",
    "    i[[\"Pos\"]] <- cumsum(i[[\"Num\"]]) - (0.5 * i[[\"Num\"]])\n",
    "    i\n",
    "})\n",
    "df <- do.call(rbind, df)\n",
    "rownames(df) <- NULL"
   ]
  },
  {
   "cell_type": "code",
   "execution_count": 37,
   "metadata": {},
   "outputs": [
    {
     "data": {
      "image/png": "[encoded data removed]",
      "text/plain": [
       "plot without title"
      ]
     },
     "metadata": {
      "image/png": {
       "height": 420,
       "width": 420
      },
      "text/plain": {
       "height": 420,
       "width": 420
      }
     },
     "output_type": "display_data"
    }
   ],
   "source": [
    "p1 <- ggplot(df, aes(x = Num, y = tip, fill = Country)) + \n",
    "    geom_bar(colour=\"#A9A9A9\", stat=\"identity\", position = position_stack(reverse = TRUE), width = 0.1) +\n",
    "    geom_text_repel(\n",
    "        aes(label=Country, x = Pos), \n",
    "        size = 3, \n",
    "        min.segment.length = 0.1,\n",
    "        box.padding = 0.5\n",
    "    ) +\n",
    "    theme(\n",
    "        axis.title.y=element_blank(),\n",
    "        axis.text.y=element_blank(),\n",
    "        axis.ticks.y=element_blank(),\n",
    "        panel.background = element_rect(fill = \"white\"),\n",
    "        panel.grid.major.y = element_line(colour = \"black\", linetype = 3),\n",
    "        legend.position = \"none\"\n",
    "    )\n",
    "p1"
   ]
  },
  {
   "cell_type": "code",
   "execution_count": 38,
   "metadata": {},
   "outputs": [
    {
     "name": "stderr",
     "output_type": "stream",
     "text": [
      "Saving 14 x 6.67 in image\n",
      "\n"
     ]
    },
    {
     "data": {
      "image/png": "[encoded data removed]",
      "text/plain": [
       "plot without title"
      ]
     },
     "metadata": {
      "image/png": {
       "height": 420,
       "width": 420
      },
      "text/plain": {
       "height": 420,
       "width": 420
      }
     },
     "output_type": "display_data"
    }
   ],
   "source": [
    "p <- ggtree(tr) + geom_tiplab(align = TRUE) +\n",
    "    geom_label_repel(aes(x=branch, label=SNPs), fill='lightgreen', min.segment.length = 0, na.rm = TRUE) + \n",
    "    theme_tree2() +\n",
    "    ggtitle(\"SARS-CoV-2 CDS\")\n",
    "p\n",
    "\n",
    "p <- p1 %>% insert_left(p)\n",
    "# p \n",
    "\n",
    "ggsave(filename = file.path(plotsDir, \"snpTracing.pdf\"), plot = p, width = 14)"
   ]
  }
 ],
 "metadata": {
  "kernelspec": {
   "display_name": "R",
   "language": "R",
   "name": "ir"
  },
  "language_info": {
   "codemirror_mode": "r",
   "file_extension": ".r",
   "mimetype": "text/x-r-source",
   "name": "R",
   "pygments_lexer": "r",
   "version": "4.0.0"
  }
 },
 "nbformat": 4,
 "nbformat_minor": 2
}
