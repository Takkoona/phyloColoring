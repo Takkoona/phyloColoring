{
 "cells": [
  {
   "cell_type": "markdown",
   "metadata": {},
   "source": [
    "## Note\n",
    "Copy the sequence file to the destination folder under `Trees`. Will possibly have quality check on the sequences."
   ]
  },
  {
   "cell_type": "code",
   "execution_count": 1,
   "metadata": {},
   "outputs": [],
   "source": [
    "import os\n",
    "import shutil\n",
    "\n",
    "from Bio import SeqIO\n",
    "\n",
    "SEQUENCES_DIR = \"Sequences\"\n",
    "TREES_DIR = \"Trees\""
   ]
  },
  {
   "cell_type": "code",
   "execution_count": 2,
   "metadata": {},
   "outputs": [],
   "source": [
    "for fname in os.listdir(SEQUENCES_DIR):\n",
    "    dstDir = os.path.join(TREES_DIR, os.path.splitext(fname)[0])\n",
    "    if not os.path.exists(dstDir):\n",
    "        os.mkdir(dstDir)\n",
    "    shutil.copyfile(\n",
    "        os.path.join(SEQUENCES_DIR, fname),\n",
    "        os.path.join(dstDir, \"sequences.fasta\")\n",
    "    )"
   ]
  }
 ],
 "metadata": {
  "kernelspec": {
   "display_name": "Python 3",
   "language": "python",
   "name": "python3"
  },
  "language_info": {
   "codemirror_mode": {
    "name": "ipython",
    "version": 3
   },
   "file_extension": ".py",
   "mimetype": "text/x-python",
   "name": "python",
   "nbconvert_exporter": "python",
   "pygments_lexer": "ipython3",
   "version": "3.5.3"
  }
 },
 "nbformat": 4,
 "nbformat_minor": 2
}
