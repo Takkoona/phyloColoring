{
 "cells": [
  {
   "cell_type": "markdown",
   "id": "e9247a75",
   "metadata": {},
   "source": [
    "# Data collection\n",
    "\n",
    "Collecting sequence data and clustering from [Smith et al. 2004 paper](https://science.sciencemag.org/content/305/5682/371). The data was used for validating sitePath\n",
    "\n",
    "# Important\n",
    "The command line tool `muscle` is used for multiple sequence alignment. Make sure the executable can be found in the `PATH`."
   ]
  },
  {
   "cell_type": "code",
   "execution_count": 1,
   "id": "d2f6083c",
   "metadata": {},
   "outputs": [],
   "source": [
    "import os\n",
    "import re\n",
    "import json\n",
    "from io import StringIO\n",
    "from collections import defaultdict\n",
    "from subprocess import Popen, PIPE\n",
    "\n",
    "from Bio import Entrez, SeqIO, AlignIO\n",
    "from Bio.Seq import Seq\n",
    "from Bio.SeqRecord import SeqRecord\n",
    "from Bio.Align import MultipleSeqAlignment\n",
    "\n",
    "DATA_DIR = os.path.join(\"Data\", \"H3N2_HA1_Smith2004\")\n",
    "PMID = \"15218094\"\n",
    "ADDITIONAL = (\n",
    "    \"AF008665\", \"AF008697\", \"AF008711\",\n",
    "    \"AF008725\", \"AF008755\", \"AF008769\",\n",
    "    \"AF008828\", \"AF008867\", \"AF008886\",\n",
    "    \"AF008888\", \"AF008903\", \"AF008905\",\n",
    "    \"AF092062\", \"AF131997\", \"AF180570\",\n",
    "    \"AF180602\", \"AF180643\", \"AF201874\",\n",
    "    \"AF368444\", \"AF368446\", \"D21173\",\n",
    "    \"D49961\", \"ISDN38157\", \"ISDNCDA001\",\n",
    "    \"ISDNENG72\", \"ISDNHK71\", \"ISDNTX77\",\n",
    "    \"ISDNVIC75\",\n",
    "#     \"M16739\",\n",
    "    \"U08858\", \"Z46405\", \"Z46408\", \"Z46413\", \"Z46414\",\n",
    "    # Manually add missing records\n",
    "    \"CY112289\", \"AF201875\", \"EF626609\",\n",
    "    \"CY120992\", \"KM821316\", \"KM821317\",\n",
    "    \"KM821324\",\n",
    "#     \"CY113525\"\n",
    ")\n",
    "\n",
    "REGION_NAMES = {\n",
    "    \"Akita\": 'AK',\n",
    "    \"Amsterdam\": 'AM',\n",
    "    \"Atlanta\": 'AT',\n",
    "    \"Auckland\": 'AU',\n",
    "    \"Beijing\": 'BE',\n",
    "    \"Bilthoven\": 'BI',\n",
    "    \"Brisbane\": 'BR',\n",
    "    \"Canberra\": 'CA',\n",
    "    \"Christchurch\": 'CC',\n",
    "    \"Caen\": 'CE',\n",
    "    \"Colorado\": 'CO',\n",
    "    \"England\": 'EN',\n",
    "    \"Enschede\": 'ES',\n",
    "    \"Finland\": 'FI',\n",
    "    \"Fujian\": 'FU',\n",
    "    \"Guangdong\": 'GD',\n",
    "    \"Geneva\": 'GE',\n",
    "    \"Guildford\": 'GF',\n",
    "    \"Guizhou\": 'GU',\n",
    "    \"Hong Kong\": 'HK',\n",
    "    \"Houston\": 'HO',\n",
    "    \"Johanesburg\": 'JO',\n",
    "    \"Johannesburg\": \"JO\",\n",
    "    \"Leningrad\": 'LE',\n",
    "    \"Lyon\": 'LY',\n",
    "    \"Madrid\": 'MA',\n",
    "    \"Memphis\": 'ME',\n",
    "    \"Moscow\": 'MW',\n",
    "    \"Nanchang\": 'NA',\n",
    "    \"Nice\": 'NE',\n",
    "    \"Nijmegen\": 'NI',\n",
    "    \"Netherlands\": 'NL',\n",
    "    \"Oslo\": 'OS',\n",
    "#     \"Madrid\": 'OV', # Not really\n",
    "    \"Paris\": 'PA',\n",
    "    \"Port Chalmers\": 'PC',\n",
    "    \"Phillipines\": 'PH',\n",
    "    \"Philippines\": 'PH',\n",
    "    \"Panama\": 'PM',\n",
    "    \"Rotterdam\": 'RD',\n",
    "    \"South Austalia\": 'SA',\n",
    "    \"South Australia\": 'SA',\n",
    "    \"Shandong\": 'SD',\n",
    "    \"Sendai\": 'SE',\n",
    "    \"Seoul\": \"SU\",\n",
    "    \"Shiga\": 'SG',\n",
    "    \"Shanghai\": 'SH',\n",
    "    \"Sichuan\": 'SI',\n",
    "    \"Scotland\": 'SL',\n",
    "    \"Singapore\": 'SP',\n",
    "    \"Stockholm\": 'ST',\n",
    "#     \"Suita\": 'SU',\n",
    "    \"Sydney\": 'SY',\n",
    "    \"Texas\": 'TE',\n",
    "    \"Tilburg\": 'TI',\n",
    "    \"Umea\": 'UM',\n",
    "    \"Victoria\": 'VI',\n",
    "    \"Wellington\": 'WE',\n",
    "    \"Wuhan\": 'WU',\n",
    "    \"Yamagata\": 'YA'\n",
    "}"
   ]
  },
  {
   "cell_type": "code",
   "execution_count": 2,
   "id": "c5dc6523",
   "metadata": {},
   "outputs": [],
   "source": [
    "# Internet access to NCBI entrez service is required\n",
    "Entrez.email = \"youremail@domain.com\"\n",
    "\n",
    "(res,) = Entrez.read(Entrez.elink(linkname=\"pubmed_nuccore\", id=PMID, idtype=\"acc\"))\n",
    "(res,) = res[\"LinkSetDb\"]\n",
    "\n",
    "IdList = [*[acc[\"Id\"] for acc in res[\"Link\"]], *ADDITIONAL]\n",
    "\n",
    "# Download the sequences from Smith's paper\n",
    "handle = Entrez.efetch(db=\"nuccore\", id=IdList, rettype=\"gb\", retmode=\"text\")\n",
    "records = [record for record in SeqIO.parse(handle, \"gb\")]"
   ]
  },
  {
   "cell_type": "code",
   "execution_count": 3,
   "id": "0d57184a",
   "metadata": {
    "scrolled": false
   },
   "outputs": [
    {
     "data": {
      "text/plain": [
       "256"
      ]
     },
     "execution_count": 3,
     "metadata": {},
     "output_type": "execute_result"
    }
   ],
   "source": [
    "refSeq = SeqIO.read(os.path.join(DATA_DIR, \"HA1_reference.fasta\"), \"fasta\")\n",
    "\n",
    "outSeqs = [refSeq]\n",
    "seqname2ac = defaultdict(set)\n",
    "\n",
    "for record in records:\n",
    "    organism = None\n",
    "    organism2 = None\n",
    "    seq = None\n",
    "    for feature in record.features:\n",
    "        if feature.type == \"source\":\n",
    "            # Get the organism name\n",
    "            (organism,) = feature.qualifiers[\"organism\"]\n",
    "            m = re.search(r\"/[A-Za-z ]+/[A-Za-z0-9]+/[0-9]+\", organism)\n",
    "            organism = m.group(0)\n",
    "            _, region, name, year = organism.split(\"/\")\n",
    "            m = re.search(r\"[0-9]+\", name)\n",
    "            name = m.group(0)\n",
    "            # The renamed organism for mapping cluster name\n",
    "            organism = (REGION_NAMES[region], name, year[-2:])\n",
    "            organism2 = organism\n",
    "            # Get the isolate/strain name of the virus\n",
    "            if \"strain\" in feature.qualifiers:\n",
    "                (strain,) = feature.qualifiers[\"strain\"]\n",
    "            elif \"isolate\" in feature.qualifiers:\n",
    "                (strain,) = feature.qualifiers[\"isolate\"]\n",
    "            # Correct the year if possible\n",
    "            year2 = strain.split(\"/\")[-1]\n",
    "            if year2:\n",
    "                year2 = year2.split('(')[0].strip()\n",
    "                organism2 = (REGION_NAMES[region], name, year2[-2:])\n",
    "        if feature.type == \"CDS\":\n",
    "            (seq,) = feature.qualifiers[\"translation\"]\n",
    "    # Map the renamed organism with accession id\n",
    "    seqname2ac[organism].add(record.id)\n",
    "    seqname2ac[organism2].add(record.id)\n",
    "    outSeqs.append(SeqRecord(seq=Seq(seq), id=record.id, description=\"\"))\n",
    "\n",
    "sequencesFilePath = os.path.join(DATA_DIR, \"sequences.fasta\")\n",
    "SeqIO.write(outSeqs, sequencesFilePath, \"fasta\")"
   ]
  },
  {
   "cell_type": "code",
   "execution_count": 4,
   "id": "771f55a7",
   "metadata": {},
   "outputs": [],
   "source": [
    "clusters = {}\n",
    "\n",
    "with open(os.path.join(DATA_DIR, \"metadata_copied.txt\")) as f:\n",
    "    for row in f:\n",
    "        row = row.split(\" \")\n",
    "        seqname = row[1].split(\"/\")\n",
    "        m = re.search(r\"[0-9]+\", seqname[1])\n",
    "        seqname[1] = m.group(0)\n",
    "        if seqname[0] == \"OV\":\n",
    "            seqname[0] = \"MA\"\n",
    "        seqname = tuple(seqname)\n",
    "        for ac in seqname2ac[seqname]:\n",
    "            clusters[ac] = row[0]\n",
    "\n",
    "with open(os.path.join(DATA_DIR, \"metadata.json\"), \"w\") as f:\n",
    "    json.dump(clusters, f)"
   ]
  },
  {
   "cell_type": "code",
   "execution_count": 5,
   "id": "e8829bfc",
   "metadata": {},
   "outputs": [
    {
     "data": {
      "text/plain": [
       "True"
      ]
     },
     "execution_count": 5,
     "metadata": {},
     "output_type": "execute_result"
    }
   ],
   "source": [
    "all(record.id in clusters for record in records)"
   ]
  },
  {
   "cell_type": "code",
   "execution_count": 6,
   "id": "36321bc0",
   "metadata": {},
   "outputs": [],
   "source": [
    "# Multiple sequence alignment using muscle\n",
    "process = Popen(\n",
    "    [\"muscle\", \"-in\", sequencesFilePath, \"-diags\"],\n",
    "    stdout=PIPE,\n",
    "    stderr=PIPE\n",
    "    \n",
    ")\n",
    "stdout, stderr = process.communicate()\n",
    "if process.returncode:\n",
    "    raise BaseException(\"muscle: \" + stderr.decode(\"UTF-8\"))\n",
    "    \n",
    "# Read in the output MSA\n",
    "seqs = AlignIO.read(StringIO(stdout.decode(\"UTF-8\")), \"fasta\")"
   ]
  },
  {
   "cell_type": "code",
   "execution_count": 7,
   "id": "e7a577f1",
   "metadata": {},
   "outputs": [],
   "source": [
    "refSeq_index = None\n",
    "for n, record in enumerate(seqs):\n",
    "    if record.id == refSeq.id:\n",
    "        refSeq_index = n\n",
    "        break\n",
    "\n",
    "assert refSeq_index is not None"
   ]
  },
  {
   "cell_type": "code",
   "execution_count": 8,
   "id": "a5a71724",
   "metadata": {},
   "outputs": [
    {
     "name": "stdout",
     "output_type": "stream",
     "text": [
      "345 -\n"
     ]
    }
   ],
   "source": [
    "prev_gap_index = -1\n",
    "prev_aa_index = -1\n",
    "start_index = None\n",
    "end_index = None\n",
    "\n",
    "reference_indexes = []\n",
    "\n",
    "for index, aa in enumerate(seqs[refSeq_index]):\n",
    "    if aa == \"-\":\n",
    "        if index != prev_gap_index + 1:\n",
    "            print(index, aa)\n",
    "            reference_indexes.append((start_index, end_index))\n",
    "        prev_gap_index = index\n",
    "    else:\n",
    "        if index != prev_aa_index + 1:\n",
    "            start_index = index\n",
    "        end_index = index + 1\n",
    "        prev_aa_index = index"
   ]
  },
  {
   "cell_type": "code",
   "execution_count": 9,
   "id": "e1e0c3a9",
   "metadata": {},
   "outputs": [],
   "source": [
    "non_gap_seqs = None\n",
    "\n",
    "for start_index, end_index in reference_indexes:\n",
    "    if non_gap_seqs:\n",
    "        non_gap_seqs += seqs[:, start_index:end_index]\n",
    "    else:\n",
    "        non_gap_seqs = seqs[:, start_index:end_index]"
   ]
  },
  {
   "cell_type": "code",
   "execution_count": 10,
   "id": "844ca339",
   "metadata": {},
   "outputs": [
    {
     "data": {
      "text/plain": [
       "1"
      ]
     },
     "execution_count": 10,
     "metadata": {},
     "output_type": "execute_result"
    }
   ],
   "source": [
    "out_aligned_seqs = []\n",
    "\n",
    "for n, record in enumerate(non_gap_seqs):\n",
    "    if n != refSeq_index:\n",
    "        out_aligned_seqs.append(record)\n",
    "        \n",
    "out_aligned_seqs = MultipleSeqAlignment(out_aligned_seqs)\n",
    "\n",
    "AlignIO.write(out_aligned_seqs, os.path.join(DATA_DIR, \"HA1_aligned.fasta\"), \"fasta\")"
   ]
  }
 ],
 "metadata": {
  "kernelspec": {
   "display_name": "Python 3",
   "language": "python",
   "name": "python3"
  },
  "language_info": {
   "codemirror_mode": {
    "name": "ipython",
    "version": 3
   },
   "file_extension": ".py",
   "mimetype": "text/x-python",
   "name": "python",
   "nbconvert_exporter": "python",
   "pygments_lexer": "ipython3",
   "version": "3.8.10"
  }
 },
 "nbformat": 4,
 "nbformat_minor": 5
}
