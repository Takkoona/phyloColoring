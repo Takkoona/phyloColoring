{
 "cells": [
  {
   "cell_type": "markdown",
   "metadata": {},
   "source": [
    "## Important\n",
    "\n",
    "`run_cdhit.sh` in `H1N1_HA` and `run_cdhit.sh`s in `H3N2_HA` before this notebook."
   ]
  },
  {
   "cell_type": "code",
   "execution_count": 7,
   "metadata": {},
   "outputs": [],
   "source": [
    "import os\n",
    "import re\n",
    "from glob import glob\n",
    "\n",
    "import pandas as pd\n",
    "from Bio import SeqIO\n",
    "\n",
    "SEQUENCES_DIR = \"Sequences\"\n",
    "TREES_DIR = \"Trees\"\n",
    "\n",
    "H1N1_HA_NAME = \"H1N1_HA\"\n",
    "H3N2_HA_NAME = \"H3N2_HA\"\n",
    "\n",
    "GROUPING = \"Spatiotemporal\"\n",
    "\n",
    "H3N2_OUTGROUP_ID = \"AB284320\""
   ]
  },
  {
   "cell_type": "markdown",
   "metadata": {},
   "source": [
    "### 1. H1N1\n",
    "\n",
    "Gather the representative sequence from each clusters."
   ]
  },
  {
   "cell_type": "code",
   "execution_count": 8,
   "metadata": {},
   "outputs": [],
   "source": [
    "treeDir = os.path.join(TREES_DIR, H1N1_HA_NAME)\n",
    "groupingDir = os.path.join(treeDir, GROUPING)"
   ]
  },
  {
   "cell_type": "code",
   "execution_count": 9,
   "metadata": {},
   "outputs": [
    {
     "data": {
      "text/plain": [
       "4012"
      ]
     },
     "execution_count": 9,
     "metadata": {},
     "output_type": "execute_result"
    }
   ],
   "source": [
    "seqs = []\n",
    "\n",
    "for trimmed in glob(os.path.join(groupingDir, \"*\", \"trimmed.fasta\")):\n",
    "    for record in SeqIO.parse(trimmed, \"fasta\"):\n",
    "        seqs.append(record)\n",
    "        if record.id == \"MK615207\":\n",
    "            print(\"Hi\")\n",
    "        \n",
    "SeqIO.write(seqs, os.path.join(treeDir, \"sequences.fasta\"), \"fasta\")"
   ]
  },
  {
   "cell_type": "code",
   "execution_count": 10,
   "metadata": {},
   "outputs": [],
   "source": [
    "trimmedRow = []\n",
    "\n",
    "for clstr in glob(os.path.join(groupingDir, \"*\", \"trimmed.fasta.clstr\")):\n",
    "    with open(clstr) as f:\n",
    "        repID = None\n",
    "        accessions = []\n",
    "        for line in f:\n",
    "            if line.startswith('>'):\n",
    "                if len(accessions) > 1:\n",
    "                    trimmedRow.append({\"rep\": repID, \"trimmed\": ', '.join(accessions) })\n",
    "                accessions = []\n",
    "            else:\n",
    "                m = re.findall(r\">(\\w+)\", line)[0]\n",
    "                if '*' in line:\n",
    "                    repID = m\n",
    "                accessions.append(m)\n",
    "        if len(accessions) > 1:\n",
    "            trimmedRow.append({\"rep\": repID, \"trimmed\": ', '.join(accessions) })\n",
    "\n",
    "trimmedRow = pd.DataFrame(trimmedRow)\n",
    "trimmedRow.to_csv(os.path.join(treeDir, \"trimmed.csv\"), index=False)"
   ]
  },
  {
   "cell_type": "markdown",
   "metadata": {},
   "source": [
    "### 2. H3N2\n",
    "\n",
    "Gather the representative sequence from each clusters."
   ]
  },
  {
   "cell_type": "code",
   "execution_count": 14,
   "metadata": {},
   "outputs": [],
   "source": [
    "treeDir = os.path.join(TREES_DIR, H3N2_HA_NAME)\n",
    "groupingDir = os.path.join(treeDir, GROUPING)"
   ]
  },
  {
   "cell_type": "code",
   "execution_count": 15,
   "metadata": {},
   "outputs": [],
   "source": [
    "for record in SeqIO.parse(os.path.join(SEQUENCES_DIR, H3N2_HA_NAME + \".fasta\"), \"fasta\"):\n",
    "    info = dict(i.split(':') for i in record.id.split('|'))\n",
    "    if info[\"gb\"] == H3N2_OUTGROUP_ID:\n",
    "        record.id = info[\"gb\"]\n",
    "        record.description = \"\"\n",
    "        outgroup = record"
   ]
  },
  {
   "cell_type": "code",
   "execution_count": 16,
   "metadata": {},
   "outputs": [
    {
     "data": {
      "text/plain": [
       "4017"
      ]
     },
     "execution_count": 16,
     "metadata": {},
     "output_type": "execute_result"
    }
   ],
   "source": [
    "seqs = [outgroup]\n",
    "\n",
    "for trimmed in glob(os.path.join(H3N2_HA_GROUPING_DIR, \"*\", \"trimmed.fasta\")):\n",
    "    for record in SeqIO.parse(trimmed, \"fasta\"):\n",
    "        seqs.append(record)\n",
    "        \n",
    "SeqIO.write(seqs, os.path.join(H3N2_HA_TREE_DIR, \"sequences.fasta\"), \"fasta\")"
   ]
  },
  {
   "cell_type": "code",
   "execution_count": 17,
   "metadata": {},
   "outputs": [],
   "source": [
    "trimmedRow = []\n",
    "\n",
    "for clstr in glob(os.path.join(H3N2_HA_GROUPING_DIR, \"*\", \"trimmed.fasta.clstr\")):\n",
    "    with open(clstr) as f:\n",
    "        repID = None\n",
    "        accessions = []\n",
    "        for line in f:\n",
    "            if line.startswith('>'):\n",
    "                if len(accessions) > 1:\n",
    "                    trimmedRow.append({\"rep\": repID, \"trimmed\": ', '.join(accessions) })\n",
    "                accessions = []\n",
    "            else:\n",
    "                m = re.findall(r\">(\\w+)\", line)[0]\n",
    "                if '*' in line:\n",
    "                    repID = m\n",
    "                accessions.append(m)\n",
    "        if len(accessions) > 1:\n",
    "            trimmedRow.append({\"rep\": repID, \"trimmed\": ', '.join(accessions) })\n",
    "\n",
    "trimmedRow = pd.DataFrame(trimmedRow)\n",
    "trimmedRow.to_csv(os.path.join(H3N2_HA_TREE_DIR, \"trimmed.csv\"), index=False)"
   ]
  }
 ],
 "metadata": {
  "kernelspec": {
   "display_name": "Python 3",
   "language": "python",
   "name": "python3"
  },
  "language_info": {
   "codemirror_mode": {
    "name": "ipython",
    "version": 3
   },
   "file_extension": ".py",
   "mimetype": "text/x-python",
   "name": "python",
   "nbconvert_exporter": "python",
   "pygments_lexer": "ipython3",
   "version": "3.5.3"
  }
 },
 "nbformat": 4,
 "nbformat_minor": 2
}
