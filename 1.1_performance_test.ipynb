{
 "cells": [
  {
   "cell_type": "markdown",
   "metadata": {},
   "source": [
    "## Note\n",
    "\n",
    "1. `run_mafft.sh` and `run_raxml.sh` in `Trees/SARS_CoV_2_cds` folder.\n",
    "2. run `test_minEffectiveSize.R` and `test_similarity.R` in `Validation` folder before the notebook."
   ]
  },
  {
   "cell_type": "code",
   "execution_count": 1,
   "metadata": {},
   "outputs": [
    {
     "name": "stderr",
     "output_type": "stream",
     "text": [
      "Registered S3 method overwritten by 'treeio':\n",
      "  method     from\n",
      "  root.phylo ape \n",
      "\n"
     ]
    }
   ],
   "source": [
    "library(ape)\n",
    "library(sitePath)\n",
    "library(ggplot2)\n",
    "library(RColorBrewer)\n",
    "suppressPackageStartupMessages(library(treeio))\n",
    "suppressPackageStartupMessages(library(ggtree))\n",
    "\n",
    "METADATA_DIR <- \"Metadata\"\n",
    "TREES_DIR <- \"Trees\"\n",
    "PLOTS_DIR <- \"Plots\"\n",
    "VALIDATION_DIR <- \"Validation\"\n",
    "\n",
    "H3N2_HA1_PRE2010_NAME <- \"H3N2_HA1_pre2003\"\n",
    "H1N1_HA_NAME <- \"H1N1_HA\"\n",
    "\n",
    "dir.create(PLOTS_DIR, showWarnings = FALSE)"
   ]
  },
  {
   "cell_type": "markdown",
   "metadata": {},
   "source": [
    "### 1. H3N2 HA1 pre2010"
   ]
  },
  {
   "cell_type": "code",
   "execution_count": 2,
   "metadata": {},
   "outputs": [],
   "source": [
    "plotOutDir <- file.path(PLOTS_DIR, H3N2_HA1_PRE2010_NAME)\n",
    "dir.create(plotOutDir, showWarnings = FALSE)"
   ]
  },
  {
   "cell_type": "code",
   "execution_count": 3,
   "metadata": {},
   "outputs": [],
   "source": [
    "clusterSites <- list(\n",
    "    \"HK68-EN72\" = c(\"T122N\", \"T155Y\", \"R207K\", \"G144D\", \"N188D\"),\n",
    "    \"EN72-VI75\" = c(\n",
    "        \"N137S\", \"L164Q\", \"N53D\", \"F174S\", \"S145N\", \"Q189K\", \n",
    "        \"I278S\", \"R102K\", \"S193D\", \"I213V\", \"I217V\", \"I230V\"\n",
    "    ),\n",
    "    \"VI75-TX77\" = c(\n",
    "        \"S137Y\", \"G158E\", \"K50R\", \"S174F\", \"E82K\", \"Q164L\", \n",
    "        \"D53N\", \"K201R\", \"M260I\", \"D193N\", \"V213I\", \"V230I\"\n",
    "    ),\n",
    "    \"TX77-BK79\" = c(\n",
    "        \"N133S\", \"K156E\", \"N53D\", \"D172G\", \"I62K\", \"P143S\", \n",
    "        \"T160K\", \"N54S\", \"V217I\", \"K82E\", \"G146S\", \"Q197R\", \n",
    "        \"V244L\"\n",
    "    ),\n",
    "    \"BK79-SI87\" = c(\"G124D\", \"Y155H\", \"K189R\"),\n",
    "    \"SI87-BE89\" = c(\"N145K\"),\n",
    "    \"BE89-BE92\" = c(\"S133D\", \"E156K\", \"T262N\", \"K145N\", \"E190D\"),\n",
    "    \"BE92-WU95\" = c(\"N145K\"),\n",
    "    \"WU95-SY97\" = c(\"K156Q\", \"N276K\", \"K62E\", \"E158K\", \"V196A\"),\n",
    "    \"SY97-FU02\" = c(\n",
    "        \"A131T\", \"H155T\", \"R50G\", \"H75Q\", \"L25I\", \"Q156H\",\n",
    "        \"E83K\", \"V202I\", \"W222R\", \"G225D\"\n",
    "    )\n",
    ")"
   ]
  },
  {
   "cell_type": "code",
   "execution_count": 4,
   "metadata": {},
   "outputs": [],
   "source": [
    "clusterInfo <- read.csv(\n",
    "    file.path(METADATA_DIR, paste0(H3N2_HA1_PRE2010_NAME, \".csv\")),\n",
    "    stringsAsFactors = FALSE,\n",
    "    row.names = 1\n",
    ")"
   ]
  },
  {
   "cell_type": "code",
   "execution_count": 5,
   "metadata": {},
   "outputs": [],
   "source": [
    "treeDir <- file.path(TREES_DIR, H3N2_HA1_PRE2010_NAME)\n",
    "\n",
    "tree <- read.tree(file.path(treeDir, \"RAxML_bestTree.PROTGAMMAGTR\"))\n",
    "tree <- addMSA(tree, msaPath = file.path(treeDir, \"aligned.fasta\"), msaFormat = \"fasta\")"
   ]
  },
  {
   "cell_type": "code",
   "execution_count": 6,
   "metadata": {},
   "outputs": [],
   "source": [
    "paths <- lineagePath(tree, similarity = 0.07)\n",
    "mutations <- fixationSites(paths)"
   ]
  },
  {
   "cell_type": "code",
   "execution_count": 7,
   "metadata": {},
   "outputs": [
    {
     "name": "stderr",
     "output_type": "stream",
     "text": [
      "Warning message:\n",
      "\"`tbl_df()` is deprecated as of dplyr 1.0.0.\n",
      "Please use `tibble::as_tibble()` instead.\n",
      "\u001b[90mThis warning is displayed once every 8 hours.\u001b[39m\n",
      "\u001b[90mCall `lifecycle::last_warnings()` to see where this warning was generated.\u001b[39m\"\n"
     ]
    },
    {
     "data": {
      "image/png": "[encoded data removed]",
      "text/plain": [
       "plot without title"
      ]
     },
     "metadata": {
      "image/png": {
       "height": 420,
       "width": 420
      },
      "text/plain": {
       "height": 420,
       "width": 420
      }
     },
     "output_type": "display_data"
    }
   ],
   "source": [
    "group <- split(rownames(clusterInfo), clusterInfo[[\"cluster\"]])\n",
    "\n",
    "groupColors <- colorRampPalette(brewer.pal(9, \"Set1\"))(length(group))\n",
    "names(groupColors) <- names(group)\n",
    "groupColors[\"0\"] <- \"black\"\n",
    "\n",
    "p <- ggtree(groupOTU(tree, group, group_name = \"color\"), aes(color = color)) +\n",
    "    scale_color_manual(values = as.list(groupColors), limits = names(groupColors)) +\n",
    "    guides(\n",
    "      color = guide_legend(\n",
    "        override.aes = list(size = 3),\n",
    "        title = 'Groups'\n",
    "      )\n",
    "    ) +\n",
    "    theme(legend.position = \"left\")\n",
    "p\n",
    "ggsave(filename = file.path(plotOutDir, \"Smith2004_tree.pdf\"), plot = p, width = 10, height = 8)"
   ]
  },
  {
   "cell_type": "code",
   "execution_count": 8,
   "metadata": {},
   "outputs": [],
   "source": [
    "transMut <- list()\n",
    "\n",
    "for (sp in mutations) {\n",
    "    site <- attr(sp, \"site\")\n",
    "    for (mp in sp) {\n",
    "        for (i in seq_along(mp)[-1]) {\n",
    "            prevTips <- mp[[i - 1]]\n",
    "            currTips <- mp[[i]]\n",
    "            prevAA <- attr(prevTips, \"AA\")\n",
    "            currAA <- attr(currTips, \"AA\")\n",
    "            mutation <- paste0(prevAA, site, currAA)\n",
    "            prevCluster <- unique(clusterInfo[tree[[\"tip.label\"]][prevTips], ])\n",
    "            currCluster <- unique(clusterInfo[tree[[\"tip.label\"]][currTips], ])\n",
    "            for (prev in prevCluster) {\n",
    "                for (curr in currCluster) {\n",
    "                    trans <- paste(prev, curr, sep = \"-\")\n",
    "                    if (trans %in% names(clusterSites)) {\n",
    "                        if (trans %in% names(transMut)) {\n",
    "                            transMut[[trans]] <- c(transMut[[trans]], mutation)\n",
    "                        } else {\n",
    "                            transMut[[trans]] <- mutation\n",
    "                        }\n",
    "                    }\n",
    "                }\n",
    "            }\n",
    "        }\n",
    "    }\n",
    "}"
   ]
  },
  {
   "cell_type": "code",
   "execution_count": 9,
   "metadata": {},
   "outputs": [],
   "source": [
    "smith <- lapply(strsplit(names(clusterSites), '-'), function(i) {\n",
    "    n <- paste(i, collapse = '-')\n",
    "    data.frame(\n",
    "        \"mutation\" = clusterSites[[n]],\n",
    "        \"from\" = rep(i[1], length(clusterSites[[n]])),\n",
    "        \"to\" = rep(i[2], length(clusterSites[[n]]))\n",
    "    )\n",
    "})\n",
    "smith <- do.call(rbind, smith)\n",
    "write.csv(smith, file.path(plotOutDir, \"Smith.csv\"), row.names = FALSE)"
   ]
  },
  {
   "cell_type": "code",
   "execution_count": 10,
   "metadata": {},
   "outputs": [
    {
     "name": "stderr",
     "output_type": "stream",
     "text": [
      "Warning message:\n",
      "\"`mutate_()` is deprecated as of dplyr 0.7.0.\n",
      "Please use `mutate()` instead.\n",
      "See vignette('programming') for more help\n",
      "\u001b[90mThis warning is displayed once every 8 hours.\u001b[39m\n",
      "\u001b[90mCall `lifecycle::last_warnings()` to see where this warning was generated.\u001b[39m\"\n"
     ]
    },
    {
     "data": {
      "image/png": "[encoded data removed]",
      "text/plain": [
       "plot without title"
      ]
     },
     "metadata": {
      "image/png": {
       "height": 420,
       "width": 420
      },
      "text/plain": {
       "height": 420,
       "width": 420
      }
     },
     "output_type": "display_data"
    }
   ],
   "source": [
    "plot(mutations)"
   ]
  },
  {
   "cell_type": "code",
   "execution_count": 11,
   "metadata": {},
   "outputs": [],
   "source": [
    "pred <- as.data.frame(mutations)\n",
    "write.csv(pred, file.path(plotOutDir, \"sitePath.csv\"), row.names = FALSE)"
   ]
  },
  {
   "cell_type": "markdown",
   "metadata": {},
   "source": [
    "### 2. H1N1 HA"
   ]
  },
  {
   "cell_type": "code",
   "execution_count": 12,
   "metadata": {},
   "outputs": [],
   "source": [
    "tree <- read.tree(file.path(TREES_DIR, H1N1_HA_NAME, \"RAxML_bestTree.PROTGAMMAGTR\"))\n",
    "tree <- drop.tip(tree, \"MK615591\")\n",
    "tree <- addMSA(tree, msaPath = file.path(TREES_DIR, H1N1_HA_NAME, \"aligned.fasta\"), msaFormat = \"fasta\")\n",
    "nTip <- Ntip(tree)"
   ]
  },
  {
   "cell_type": "code",
   "execution_count": 13,
   "metadata": {},
   "outputs": [],
   "source": [
    "paths <- lineagePath(tree, similarity = 0.01)"
   ]
  },
  {
   "cell_type": "code",
   "execution_count": 14,
   "metadata": {},
   "outputs": [],
   "source": [
    "align <- attr(paths, \"align\")\n",
    "reference <- attr(paths, \"reference\")"
   ]
  },
  {
   "cell_type": "code",
   "execution_count": 15,
   "metadata": {},
   "outputs": [],
   "source": [
    "fixationSites <- readLines(file.path(VALIDATION_DIR, \"sites.txt\"))\n",
    "fixationSites <- as.integer(fixationSites)\n",
    "\n",
    "loci <- which(vapply(\n",
    "    X = seq_along(reference),\n",
    "    FUN = function(s) {\n",
    "        length(unique(substr(align, s, s))) > 1\n",
    "    },\n",
    "    FUN.VALUE = logical(1)\n",
    "))\n",
    "\n",
    "siteCategory <- data.frame(\n",
    "    \"site\" = integer(),\n",
    "    \"category\" = character(),\n",
    "    \"fixationSite\" = logical()\n",
    ")\n",
    "siteCategory <- rbind(\n",
    "    siteCategory,\n",
    "    data.frame(\n",
    "        \"site\" = fixationSites,\n",
    "        \"category\" = rep(\"fixed\", length(fixationSites)),\n",
    "        \"fixationSite\" = rep(TRUE, length(fixationSites))\n",
    "    )\n",
    ")\n",
    "\n",
    "conservedSites <- setdiff(loci, fixationSites)\n",
    "siteCategory <- rbind(\n",
    "    siteCategory,\n",
    "    data.frame(\n",
    "        \"site\" = conservedSites,\n",
    "        \"category\" = rep(\"conserved\", length(conservedSites)),\n",
    "        \"fixationSite\" = rep(FALSE, length(conservedSites))\n",
    "    )\n",
    ")\n",
    "siteCategory <- siteCategory[order(siteCategory[[\"site\"]]), ]\n",
    "row.names(siteCategory) <- NULL\n",
    "\n",
    "nPositive <- sum(siteCategory[[\"fixationSite\"]] == TRUE)\n",
    "nNegative <- sum(siteCategory[[\"fixationSite\"]] == FALSE)"
   ]
  },
  {
   "cell_type": "markdown",
   "metadata": {},
   "source": [
    "### 2.1. similarity\n",
    "\n",
    "Test the `similarity` parameter in `fixationSites` function."
   ]
  },
  {
   "cell_type": "code",
   "execution_count": 16,
   "metadata": {},
   "outputs": [],
   "source": [
    "testParam <- \"similarity\"\n",
    "plotOutDir <- file.path(PLOTS_DIR, testParam)\n",
    "dir.create(plotOutDir, showWarnings = FALSE)"
   ]
  },
  {
   "cell_type": "code",
   "execution_count": 17,
   "metadata": {},
   "outputs": [],
   "source": [
    "res <- readRDS(file.path(VALIDATION_DIR, paste0(testParam, \".rds\")))"
   ]
  },
  {
   "cell_type": "code",
   "execution_count": 18,
   "metadata": {},
   "outputs": [],
   "source": [
    "predResult <- data.frame(\n",
    "    \"similarity\" = double(),\n",
    "    \"minEffectiveSize\" = integer(),\n",
    "    \"rate\" = double(),\n",
    "    \"category\" = character()\n",
    ")\n",
    "\n",
    "for (similarity in names(res)) {\n",
    "    for (minEffectiveSize in names(res[[similarity]])) {\n",
    "        mutations <- res[[similarity]][[minEffectiveSize]]\n",
    "        assessTable <- siteCategory\n",
    "        sites <- as.integer(names(mutations))\n",
    "        assessTable[[\"predFixed\"]] <- assessTable[[\"site\"]] %in% sites\n",
    "        x <- assessTable[[\"fixationSite\"]] + assessTable[[\"predFixed\"]]\n",
    "        senstivity <- length(which(x == 2)) / nPositive\n",
    "        specificity <- length(which(x == 0)) / nNegative\n",
    "        \n",
    "#         percentage <- as.integer(minEffectiveSize) / nTip\n",
    "        predResult <- rbind(\n",
    "            predResult,\n",
    "            data.frame(\n",
    "                \"similarity\" = as.double(c(similarity, similarity)),\n",
    "                \"minEffectiveSize\" = as.integer(c(minEffectiveSize, minEffectiveSize)),\n",
    "                \"rate\" = c(senstivity, specificity),\n",
    "                \"category\" = c(\"Senstivity\", \"Specificity\")\n",
    "            )\n",
    "        )\n",
    "    }\n",
    "}\n",
    "\n",
    "predResult <- predResult[which(predResult[[\"minEffectiveSize\"]] == 30), ]"
   ]
  },
  {
   "cell_type": "code",
   "execution_count": 19,
   "metadata": {},
   "outputs": [
    {
     "data": {
      "image/png": "[encoded data removed]",
      "text/plain": [
       "plot without title"
      ]
     },
     "metadata": {
      "image/png": {
       "height": 420,
       "width": 420
      },
      "text/plain": {
       "height": 420,
       "width": 420
      }
     },
     "output_type": "display_data"
    }
   ],
   "source": [
    "p <- ggplot(predResult, aes(similarity, rate)) +\n",
    "    geom_point(aes(color = factor(category))) + ylim(0, 1) + \n",
    "    theme(axis.text.x = element_text(angle = 90, hjust = 1))\n",
    "p\n",
    "\n",
    "ggsave(\n",
    "    filename = file.path(plotOutDir, paste0(testParam, \".pdf\")),\n",
    "    plot = p,\n",
    "    device = \"pdf\",\n",
    "    width = 3.25, height = 2\n",
    ")"
   ]
  },
  {
   "cell_type": "code",
   "execution_count": 20,
   "metadata": {},
   "outputs": [],
   "source": [
    "predResult <- data.frame(\n",
    "    \"site\" = integer(),\n",
    "    \"fixationSite\" = logical(),\n",
    "    \"predFixed\" = logical(),\n",
    "#     \"minEffectiveSize\" = integer(),\n",
    "    \"similarity\" = double()\n",
    ")\n",
    "\n",
    "for (similarity in names(res)) {\n",
    "    s <- as.double(similarity)\n",
    "    for (minEffectiveSize in names(res[[similarity]])) {\n",
    "        m <- as.integer(minEffectiveSize)\n",
    "        if (m == 30) {\n",
    "            mutations <- res[[similarity]][[minEffectiveSize]]\n",
    "            predSites <- as.integer(names(mutations))\n",
    "            assessTable <- siteCategory[, c(\"site\", \"fixationSite\")]\n",
    "            assessTable[[\"predFixed\"]] <- assessTable[[\"site\"]] %in% predSites\n",
    "            assessTable <- assessTable[which(assessTable[[\"fixationSite\"]] | assessTable[[\"predFixed\"]]), ]\n",
    "#             assessTable[[\"minEffectiveSize\"]] <- m\n",
    "            assessTable[[\"similarity\"]] <- s\n",
    "            predResult <- rbind(predResult, assessTable)\n",
    "        }\n",
    "    }\n",
    "}"
   ]
  },
  {
   "cell_type": "code",
   "execution_count": 21,
   "metadata": {},
   "outputs": [],
   "source": [
    "write.csv(predResult, file.path(plotOutDir, paste0(testParam, \".csv\")), row.names = FALSE)"
   ]
  },
  {
   "cell_type": "markdown",
   "metadata": {},
   "source": [
    "### 2.2. minEffectiveSize\n",
    "\n",
    "Test the `minEffectiveSize` parameter in `fixationSites` function."
   ]
  },
  {
   "cell_type": "code",
   "execution_count": 22,
   "metadata": {},
   "outputs": [],
   "source": [
    "testParam <- \"minEffectiveSize\"\n",
    "plotOutDir <- file.path(PLOTS_DIR, testParam)\n",
    "dir.create(plotOutDir, showWarnings = FALSE)"
   ]
  },
  {
   "cell_type": "code",
   "execution_count": 23,
   "metadata": {},
   "outputs": [],
   "source": [
    "res <- readRDS(file.path(VALIDATION_DIR, paste0(testParam, \".rds\")))"
   ]
  },
  {
   "cell_type": "code",
   "execution_count": 24,
   "metadata": {},
   "outputs": [],
   "source": [
    "predResult <- data.frame(\n",
    "    \"similarity\" = double(),\n",
    "    \"minEffectiveSize\" = integer(),\n",
    "    \"rate\" = double(),\n",
    "    \"category\" = character()\n",
    ")\n",
    "\n",
    "for (similarity in names(res)) {\n",
    "    for (minEffectiveSize in names(res[[similarity]])) {\n",
    "        mutations <- res[[similarity]][[minEffectiveSize]]\n",
    "        assessTable <- siteCategory\n",
    "        sites <- as.integer(names(mutations))\n",
    "        assessTable[[\"predFixed\"]] <- assessTable[[\"site\"]] %in% sites\n",
    "        x <- assessTable[[\"fixationSite\"]] + assessTable[[\"predFixed\"]]\n",
    "        senstivity <- length(which(x == 2)) / nPositive\n",
    "        specificity <- length(which(x == 0)) / nNegative\n",
    "        \n",
    "        percentage <- as.integer(minEffectiveSize) / nTip\n",
    "        predResult <- rbind(\n",
    "            predResult,\n",
    "            data.frame(\n",
    "                \"similarity\" = as.double(c(similarity, similarity)),\n",
    "                \"minEffectiveSize\" = c(percentage, percentage),\n",
    "                \"rate\" = c(senstivity, specificity),\n",
    "                \"category\" = c(\"Senstivity\", \"Specificity\")\n",
    "            )\n",
    "        )\n",
    "    }\n",
    "}\n",
    "predResult <- predResult[which(predResult[[\"similarity\"]] == 0.001), ]"
   ]
  },
  {
   "cell_type": "code",
   "execution_count": 25,
   "metadata": {},
   "outputs": [
    {
     "data": {
      "image/png": "[encoded data removed]",
      "text/plain": [
       "plot without title"
      ]
     },
     "metadata": {
      "image/png": {
       "height": 420,
       "width": 420
      },
      "text/plain": {
       "height": 420,
       "width": 420
      }
     },
     "output_type": "display_data"
    }
   ],
   "source": [
    "p <- ggplot(predResult, aes(minEffectiveSize, rate)) +\n",
    "    geom_point(aes(color = factor(category))) + ylim(0, 1) + \n",
    "    theme(axis.text.x = element_text(angle = 90, hjust = 1))\n",
    "p\n",
    "\n",
    "ggsave(\n",
    "    filename = file.path(plotOutDir, paste0(testParam, \".pdf\")),\n",
    "    plot = p,\n",
    "    device = \"pdf\",\n",
    "    width = 3.25, height = 2\n",
    ")"
   ]
  },
  {
   "cell_type": "code",
   "execution_count": 26,
   "metadata": {},
   "outputs": [],
   "source": [
    "predResult <- data.frame(\n",
    "    \"site\" = integer(),\n",
    "    \"fixationSite\" = logical(),\n",
    "    \"predFixed\" = logical(),\n",
    "    \"minEffectiveSize\" = integer()\n",
    "#     \"similarity\" = double()\n",
    ")\n",
    "\n",
    "for (similarity in names(res)) {\n",
    "    s <- as.double(similarity)\n",
    "    for (minEffectiveSize in names(res[[similarity]])) {\n",
    "        m <- as.integer(minEffectiveSize)\n",
    "        if (s == 0.001) {\n",
    "            mutations <- res[[similarity]][[minEffectiveSize]]\n",
    "            predSites <- as.integer(names(mutations))\n",
    "            assessTable <- siteCategory[, c(\"site\", \"fixationSite\")]\n",
    "            assessTable[[\"predFixed\"]] <- assessTable[[\"site\"]] %in% predSites\n",
    "            assessTable <- assessTable[which(assessTable[[\"fixationSite\"]] | assessTable[[\"predFixed\"]]), ]\n",
    "            assessTable[[\"minEffectiveSize\"]] <- m / nTip\n",
    "#             assessTable[[\"similarity\"]] <- s\n",
    "            predResult <- rbind(predResult, assessTable)\n",
    "        }\n",
    "    }\n",
    "}"
   ]
  },
  {
   "cell_type": "code",
   "execution_count": 27,
   "metadata": {},
   "outputs": [],
   "source": [
    "write.csv(predResult, file.path(plotOutDir, paste0(testParam, \".csv\")), row.names = FALSE)"
   ]
  }
 ],
 "metadata": {
  "kernelspec": {
   "display_name": "R",
   "language": "R",
   "name": "ir"
  },
  "language_info": {
   "codemirror_mode": "r",
   "file_extension": ".r",
   "mimetype": "text/x-r-source",
   "name": "R",
   "pygments_lexer": "r",
   "version": "4.0.0"
  }
 },
 "nbformat": 4,
 "nbformat_minor": 2
}
