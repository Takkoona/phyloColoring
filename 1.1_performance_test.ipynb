{
 "cells": [
  {
   "cell_type": "markdown",
   "metadata": {},
   "source": [
    "## Note\n",
    "\n",
    "1. `run_mafft.sh` and `run_raxml.sh` in `Trees/SARS_CoV_2_cds` folder.\n",
    "2. run `test_minEffectiveSize.R` and `test_similarity.R` in `Validation` folder before the notebook."
   ]
  },
  {
   "cell_type": "code",
   "execution_count": 1,
   "metadata": {},
   "outputs": [],
   "source": [
    "library(ape)\n",
    "library(sitePath)\n",
    "library(ggplot2)\n",
    "library(RColorBrewer)\n",
    "suppressPackageStartupMessages(library(treeio))\n",
    "suppressPackageStartupMessages(library(ggtree))\n",
    "\n",
    "METADATA_DIR <- \"Metadata\"\n",
    "TREES_DIR <- \"Trees\"\n",
    "VALIDATION_DIR <- \"Validation\"\n",
    "PLOTS_DIR <- \"Plots\"\n",
    "\n",
    "H3N2_HA1_PRE2010_NAME <- \"H3N2_HA1_pre2003\"\n",
    "H1N1_HA_NAME <- \"H1N1_HA\"\n",
    "\n",
    "dir.create(PLOTS_DIR, showWarnings = FALSE)"
   ]
  },
  {
   "cell_type": "code",
   "execution_count": 2,
   "metadata": {},
   "outputs": [],
   "source": [
    "plotsDir <- file.path(PLOTS_DIR, VALIDATION_DIR)\n",
    "dir.create(plotsDir, showWarnings = FALSE)"
   ]
  },
  {
   "cell_type": "markdown",
   "metadata": {},
   "source": [
    "### 1. H3N2 HA1 pre2010"
   ]
  },
  {
   "cell_type": "code",
   "execution_count": 3,
   "metadata": {},
   "outputs": [],
   "source": [
    "clusterSites <- list(\n",
    "    \"HK68-EN72\" = c(\"T122N\", \"T155Y\", \"R207K\", \"G144D\", \"N188D\"),\n",
    "    \"EN72-VI75\" = c(\n",
    "        \"N137S\", \"L164Q\", \"N53D\", \"F174S\", \"S145N\", \"Q189K\", \n",
    "        \"I278S\", \"R102K\", \"S193D\", \"I213V\", \"I217V\", \"I230V\"\n",
    "    ),\n",
    "    \"VI75-TX77\" = c(\n",
    "        \"S137Y\", \"G158E\", \"K50R\", \"S174F\", \"E82K\", \"Q164L\", \n",
    "        \"D53N\", \"K201R\", \"M260I\", \"D193N\", \"V213I\", \"V230I\"\n",
    "    ),\n",
    "    \"TX77-BK79\" = c(\n",
    "        \"N133S\", \"K156E\", \"N53D\", \"D172G\", \"I62K\", \"P143S\", \n",
    "        \"T160K\", \"N54S\", \"V217I\", \"K82E\", \"G146S\", \"Q197R\", \n",
    "        \"V244L\"\n",
    "    ),\n",
    "    \"BK79-SI87\" = c(\"G124D\", \"Y155H\", \"K189R\"),\n",
    "    \"SI87-BE89\" = c(\"N145K\"),\n",
    "    \"BE89-BE92\" = c(\"S133D\", \"E156K\", \"T262N\", \"K145N\", \"E190D\"),\n",
    "    \"BE92-WU95\" = c(\"N145K\"),\n",
    "    \"WU95-SY97\" = c(\"K156Q\", \"N276K\", \"K62E\", \"E158K\", \"V196A\"),\n",
    "    \"SY97-FU02\" = c(\n",
    "        \"A131T\", \"H155T\", \"R50G\", \"H75Q\", \"L25I\", \"Q156H\",\n",
    "        \"E83K\", \"V202I\", \"W222R\", \"G225D\"\n",
    "    )\n",
    ")"
   ]
  },
  {
   "cell_type": "code",
   "execution_count": 4,
   "metadata": {},
   "outputs": [],
   "source": [
    "clusterInfo <- read.csv(\n",
    "    file.path(METADATA_DIR, paste0(H3N2_HA1_PRE2010_NAME, \".csv\")),\n",
    "    stringsAsFactors = FALSE,\n",
    "    row.names = 1\n",
    ")"
   ]
  },
  {
   "cell_type": "code",
   "execution_count": 5,
   "metadata": {},
   "outputs": [],
   "source": [
    "treeDir <- file.path(TREES_DIR, H3N2_HA1_PRE2010_NAME)\n",
    "\n",
    "tree <- read.tree(file.path(treeDir, \"RAxML_bestTree.PROTGAMMAGTR\"))\n",
    "tree <- addMSA(tree, msaPath = file.path(treeDir, \"aligned.fasta\"), msaFormat = \"fasta\")"
   ]
  },
  {
   "cell_type": "code",
   "execution_count": 6,
   "metadata": {},
   "outputs": [],
   "source": [
    "paths <- lineagePath(tree, similarity = 0.07)\n",
    "mutations <- fixationSites(paths)"
   ]
  },
  {
   "cell_type": "code",
   "execution_count": 7,
   "metadata": {},
   "outputs": [
    {
     "data": {
      "image/png": "[encoded data removed]",
      "text/plain": [
       "plot without title"
      ]
     },
     "metadata": {
      "image/png": {
       "height": 420,
       "width": 420
      },
      "text/plain": {
       "height": 420,
       "width": 420
      }
     },
     "output_type": "display_data"
    }
   ],
   "source": [
    "group <- split(rownames(clusterInfo), clusterInfo[[\"cluster\"]])\n",
    "\n",
    "groupColors <- colorRampPalette(brewer.pal(9, \"Set1\"))(length(group))\n",
    "names(groupColors) <- names(group)\n",
    "groupColors[\"0\"] <- \"#999999\"\n",
    "\n",
    "p <- ggtree(groupOTU(tree, group, group_name = \"color\"), aes(color = color)) +\n",
    "    scale_color_manual(values = as.list(groupColors), limits = names(groupColors)) +\n",
    "    guides(\n",
    "      color = guide_legend(\n",
    "        override.aes = list(size = 3),\n",
    "        title = 'Groups'\n",
    "      )\n",
    "    ) +\n",
    "    theme(legend.position = \"left\")\n",
    "p\n",
    "ggsave(filename = file.path(plotsDir, \"Smith2004_tree.pdf\"), plot = p, width = 10, height = 8)"
   ]
  },
  {
   "cell_type": "code",
   "execution_count": 8,
   "metadata": {},
   "outputs": [],
   "source": [
    "transMut <- list()\n",
    "\n",
    "for (sp in mutations) {\n",
    "    site <- attr(sp, \"site\")\n",
    "    for (mp in sp) {\n",
    "        for (i in seq_along(mp)[-1]) {\n",
    "            prevTips <- mp[[i - 1]]\n",
    "            currTips <- mp[[i]]\n",
    "            prevAA <- attr(prevTips, \"AA\")\n",
    "            currAA <- attr(currTips, \"AA\")\n",
    "            mutation <- paste0(prevAA, site, currAA)\n",
    "            prevCluster <- unique(clusterInfo[tree[[\"tip.label\"]][prevTips], ])\n",
    "            currCluster <- unique(clusterInfo[tree[[\"tip.label\"]][currTips], ])\n",
    "            for (prev in prevCluster) {\n",
    "                for (curr in currCluster) {\n",
    "                    trans <- paste(prev, curr, sep = \"-\")\n",
    "                    if (trans %in% names(clusterSites)) {\n",
    "                        if (trans %in% names(transMut)) {\n",
    "                            transMut[[trans]] <- c(transMut[[trans]], mutation)\n",
    "                        } else {\n",
    "                            transMut[[trans]] <- mutation\n",
    "                        }\n",
    "                    }\n",
    "                }\n",
    "            }\n",
    "        }\n",
    "    }\n",
    "}"
   ]
  },
  {
   "cell_type": "code",
   "execution_count": 9,
   "metadata": {},
   "outputs": [],
   "source": [
    "pred <- lapply(names(transMut), function(i) {\n",
    "    c(i, paste(transMut[[i]], collapse = \",\"))\n",
    "})\n",
    "pred <- do.call(rbind, pred)\n",
    "colnames(pred) <- c(\"Transition\", \"Mutations\")\n",
    "write.csv(pred, file.path(plotsDir, \"sitePath.csv\"), row.names = FALSE)\n",
    "\n",
    "smith <- lapply(names(clusterSites), function(i) {\n",
    "    c(i, paste(clusterSites[[i]], collapse = \",\"))\n",
    "})\n",
    "smith <- do.call(rbind, smith)\n",
    "colnames(smith) <- c(\"Transition\", \"Mutations\")\n",
    "write.csv(smith, file.path(plotsDir, \"Smith.csv\"), row.names = FALSE)"
   ]
  },
  {
   "cell_type": "code",
   "execution_count": 10,
   "metadata": {},
   "outputs": [],
   "source": [
    "snpTracing <- as.phylo(mutations, minEffectiveSize = 0)\n",
    "snpTracing[[\"tip.label\"]] <- seq_along(snpTracing[[\"tip.label\"]])\n",
    "names(attr(snpTracing, \"tipClusters\")) <- snpTracing[[\"tip.label\"]]"
   ]
  },
  {
   "cell_type": "code",
   "execution_count": 11,
   "metadata": {},
   "outputs": [],
   "source": [
    "# x <- as_tibble(snpTracing)\n",
    "\n",
    "# d <- as_tibble(t(vapply(\n",
    "#     X = attr(snpTracing, \"edgeSNPs\"),\n",
    "#     FUN = function (snp) {\n",
    "#         if (length(snp) == 0) {\n",
    "#             res <- NA_character_\n",
    "#         } else {\n",
    "#             res <- character()\n",
    "#             snpNum <- length(snp)\n",
    "#             for (i in seq_len(snpNum)) {\n",
    "#                 res <- paste0(res, snp[i])\n",
    "#                 if (i < snpNum) {\n",
    "#                     if (i %% 4 == 0) {\n",
    "#                         res <- paste0(res, \",\\n\")\n",
    "#                     } else {\n",
    "#                         res <- paste0(res, \", \")\n",
    "#                     }\n",
    "#                 }\n",
    "#             }\n",
    "\n",
    "#         }\n",
    "#         res <- c(res, attr(snp, \"edge\")[2])\n",
    "#         names(res) <- c(\"SNPs\", \"node\")\n",
    "#         return(res)\n",
    "#     }, \n",
    "#     FUN.VALUE = c(character(1), integer(1))\n",
    "# )))\n",
    "\n",
    "# d[[\"node\"]] <- as.integer(d[[\"node\"]])\n",
    "\n",
    "# y <- full_join(x, d, by = \"node\")\n",
    "# tr <- as.treedata(y)\n",
    "\n",
    "# checkValidPhylo(tr@phylo)"
   ]
  },
  {
   "cell_type": "code",
   "execution_count": 12,
   "metadata": {},
   "outputs": [
    {
     "data": {
      "image/png": "[encoded data removed]",
      "text/plain": [
       "plot without title"
      ]
     },
     "metadata": {
      "image/png": {
       "height": 420,
       "width": 420
      },
      "text/plain": {
       "height": 420,
       "width": 420
      }
     },
     "output_type": "display_data"
    }
   ],
   "source": [
    "group <- attr(snpTracing, \"tipClusters\")\n",
    "\n",
    "groupColors <- colorRampPalette(brewer.pal(9, \"Set1\"))(length(group))\n",
    "names(groupColors) <- names(group)\n",
    "groupColors[\"0\"] <- \"black\"\n",
    "\n",
    "p <- ggtree(groupOTU(tree, group, group_name = \"color\"), aes(color = color)) +\n",
    "    scale_color_manual(values = as.list(groupColors), limits = names(groupColors)) +\n",
    "    guides(\n",
    "      color = guide_legend(\n",
    "        override.aes = list(size = 3),\n",
    "        title = 'Groups'\n",
    "      )\n",
    "    ) +\n",
    "    theme(legend.position = \"left\")\n",
    "p\n",
    "\n",
    "ggsave(\n",
    "    filename = file.path(plotsDir, \"cluster.pdf\"), \n",
    "    plot = p,\n",
    "    width = 10,\n",
    "    height = 8\n",
    ")"
   ]
  },
  {
   "cell_type": "code",
   "execution_count": 13,
   "metadata": {},
   "outputs": [],
   "source": [
    "clusterPaths <- list()\n",
    "rootNode <- getMRCA(tree, tree[[\"tip.label\"]])\n",
    "\n",
    "for (cluster in names(group)) {\n",
    "    tips <- group[[cluster]]\n",
    "    ancestral <- getMRCA(tree, tips)\n",
    "    if (is.null(ancestral)) {\n",
    "        np <- nodepath(tree, rootNode, tips)\n",
    "        clusterPaths[[cluster]] <- np[1:(length(np) - 1)]\n",
    "    } else {\n",
    "        clusterPaths[[cluster]] <- nodepath(tree, rootNode, ancestral)\n",
    "    }\n",
    "}"
   ]
  },
  {
   "cell_type": "code",
   "execution_count": 14,
   "metadata": {},
   "outputs": [],
   "source": [
    "clusterInfo <- lapply(names(group), function(g) {\n",
    "    data.frame(row.names = group[[g]], \"cluster\" = rep(g, length(group[[g]])))\n",
    "})\n",
    "clusterInfo <- do.call(rbind, clusterInfo)"
   ]
  },
  {
   "cell_type": "code",
   "execution_count": 15,
   "metadata": {},
   "outputs": [],
   "source": [
    "transMut <- list()\n",
    "\n",
    "for (sp in mutations) {\n",
    "    site <- attr(sp, \"site\")\n",
    "    for (mp in sp) {\n",
    "        for (i in seq_along(mp)[-1]) {\n",
    "            prevTips <- mp[[i - 1]]\n",
    "            currTips <- mp[[i]]\n",
    "            prevAA <- attr(prevTips, \"AA\")\n",
    "            currAA <- attr(currTips, \"AA\")\n",
    "            mutation <- paste0(prevAA, site, currAA)\n",
    "            prevCluster <- unique(clusterInfo[as.character(prevTips), ])\n",
    "            names(prevCluster) <- prevCluster\n",
    "            prev <- names(which.max(lapply(prevCluster, function(cluster) {\n",
    "                length(clusterPaths[[cluster]])\n",
    "            })))\n",
    "            currCluster <- unique(clusterInfo[as.character(currTips), ])\n",
    "            names(currCluster) <- currCluster\n",
    "            curr <- names(which.min(lapply(currCluster, function(cluster) {\n",
    "                length(clusterPaths[[cluster]])\n",
    "            })))\n",
    "            trans <- paste(prev, curr, sep = \"-\")\n",
    "            if (trans %in% names(transMut)) {\n",
    "                transMut[[trans]] <- c(transMut[[trans]], mutation)\n",
    "            } else {\n",
    "                transMut[[trans]] <- mutation\n",
    "            }\n",
    "        }\n",
    "    }\n",
    "}\n",
    "\n",
    "transMut <- lapply(transMut, unique)"
   ]
  },
  {
   "cell_type": "code",
   "execution_count": 16,
   "metadata": {},
   "outputs": [],
   "source": [
    "pred <- lapply(names(transMut), function(i) {\n",
    "    c(i, paste(transMut[[i]], collapse = \",\"))\n",
    "})\n",
    "pred <- do.call(rbind, pred)\n",
    "colnames(pred) <- c(\"Transition\", \"Mutations\")"
   ]
  },
  {
   "cell_type": "code",
   "execution_count": 17,
   "metadata": {},
   "outputs": [],
   "source": [
    "pred <- lapply(names(transMut), function(i) {\n",
    "    c(i, paste(transMut[[i]], collapse = \",\"))\n",
    "})\n",
    "pred <- do.call(rbind, pred)\n",
    "colnames(pred) <- c(\"Transition\", \"Mutations\")\n",
    "write.csv(pred, file.path(plotsDir, \"sitePath.csv\"), row.names = FALSE)"
   ]
  },
  {
   "cell_type": "code",
   "execution_count": 18,
   "metadata": {},
   "outputs": [
    {
     "data": {
      "text/html": [
       "<strong>png:</strong> 2"
      ],
      "text/latex": [
       "\\textbf{png:} 2"
      ],
      "text/markdown": [
       "**png:** 2"
      ],
      "text/plain": [
       "png \n",
       "  2 "
      ]
     },
     "metadata": {},
     "output_type": "display_data"
    }
   ],
   "source": [
    "pdf(file = file.path(plotsDir, \"sites.pdf\"))\n",
    "for (i in mutations) {\n",
    "    plot(i)\n",
    "}\n",
    "dev.off()"
   ]
  },
  {
   "cell_type": "code",
   "execution_count": 19,
   "metadata": {},
   "outputs": [
    {
     "data": {
      "text/html": [
       "<strong>png:</strong> 2"
      ],
      "text/latex": [
       "\\textbf{png:} 2"
      ],
      "text/markdown": [
       "**png:** 2"
      ],
      "text/plain": [
       "png \n",
       "  2 "
      ]
     },
     "metadata": {},
     "output_type": "display_data"
    }
   ],
   "source": [
    "pdf(file = file.path(plotsDir, \"sitesOriginal.pdf\"))\n",
    "for (site in as.integer(names(mutations))) {\n",
    "    plotSingleSite(paths, site)\n",
    "}\n",
    "dev.off()"
   ]
  },
  {
   "cell_type": "markdown",
   "metadata": {},
   "source": [
    "### 2. H1N1 HA"
   ]
  },
  {
   "cell_type": "code",
   "execution_count": 10,
   "metadata": {},
   "outputs": [],
   "source": [
    "tree <- read.tree(file.path(TREES_DIR, H1N1_HA_NAME, \"RAxML_bestTree.PROTGAMMAGTR\"))\n",
    "tree <- drop.tip(tree, \"MK615591\")\n",
    "tree <- addMSA(tree, msaPath = file.path(TREES_DIR, H1N1_HA_NAME, \"aligned.fasta\"), msaFormat = \"fasta\")\n",
    "nTip <- Ntip(tree)"
   ]
  },
  {
   "cell_type": "code",
   "execution_count": 11,
   "metadata": {},
   "outputs": [],
   "source": [
    "paths <- lineagePath(tree, similarity = 0.01)"
   ]
  },
  {
   "cell_type": "code",
   "execution_count": 12,
   "metadata": {},
   "outputs": [],
   "source": [
    "align <- attr(paths, \"align\")\n",
    "reference <- attr(paths, \"reference\")"
   ]
  },
  {
   "cell_type": "code",
   "execution_count": 13,
   "metadata": {},
   "outputs": [],
   "source": [
    "fixationSites <- readLines(file.path(VALIDATION_DIR, \"sites.txt\"))\n",
    "fixationSites <- as.integer(fixationSites)\n",
    "\n",
    "loci <- which(vapply(\n",
    "    X = seq_along(attr(mutations, \"reference\")),\n",
    "    FUN = function(s) {\n",
    "        length(unique(substr(align, s, s))) > 1\n",
    "    },\n",
    "    FUN.VALUE = logical(1)\n",
    "))\n",
    "\n",
    "siteCategory <- data.frame(\n",
    "    \"site\" = integer(),\n",
    "    \"category\" = character(),\n",
    "    \"fixationSite\" = logical()\n",
    ")\n",
    "siteCategory <- rbind(\n",
    "    siteCategory,\n",
    "    data.frame(\n",
    "        \"site\" = fixationSites,\n",
    "        \"category\" = rep(\"fixed\", length(fixationSites)),\n",
    "        \"fixationSite\" = rep(TRUE, length(fixationSites))\n",
    "    )\n",
    ")\n",
    "\n",
    "conservedSites <- setdiff(loci, fixationSites)\n",
    "siteCategory <- rbind(\n",
    "    siteCategory,\n",
    "    data.frame(\n",
    "        \"site\" = conservedSites,\n",
    "        \"category\" = rep(\"conserved\", length(conservedSites)),\n",
    "        \"fixationSite\" = rep(FALSE, length(conservedSites))\n",
    "    )\n",
    ")\n",
    "siteCategory <- siteCategory[order(siteCategory[[\"site\"]]), ]\n",
    "row.names(siteCategory) <- NULL\n",
    "\n",
    "nPositive <- sum(siteCategory[[\"fixationSite\"]] == TRUE)\n",
    "nNegative <- sum(siteCategory[[\"fixationSite\"]] == FALSE)"
   ]
  },
  {
   "cell_type": "markdown",
   "metadata": {},
   "source": [
    "### 2.1. similarity\n",
    "\n",
    "Test the `similarity` parameter in `fixationSites` function."
   ]
  },
  {
   "cell_type": "code",
   "execution_count": 14,
   "metadata": {},
   "outputs": [],
   "source": [
    "testParam <- \"similarity\"\n",
    "res <- readRDS(file.path(VALIDATION_DIR, paste0(testParam, \".rds\")))"
   ]
  },
  {
   "cell_type": "code",
   "execution_count": 15,
   "metadata": {},
   "outputs": [],
   "source": [
    "predResult <- data.frame(\n",
    "    \"similarity\" = double(),\n",
    "    \"minEffectiveSize\" = integer(),\n",
    "    \"rate\" = double(),\n",
    "    \"category\" = character()\n",
    ")\n",
    "\n",
    "for (similarity in names(res)) {\n",
    "    for (minEffectiveSize in names(res[[similarity]])) {\n",
    "        mutations <- res[[similarity]][[minEffectiveSize]]\n",
    "        assessTable <- siteCategory\n",
    "        sites <- as.integer(names(mutations))\n",
    "        assessTable[[\"predFixed\"]] <- assessTable[[\"site\"]] %in% sites\n",
    "        x <- assessTable[[\"fixationSite\"]] + assessTable[[\"predFixed\"]]\n",
    "        senstivity <- length(which(x == 2)) / nPositive\n",
    "        specificity <- length(which(x == 0)) / nNegative\n",
    "        \n",
    "#         percentage <- as.integer(minEffectiveSize) / nTip\n",
    "        predResult <- rbind(\n",
    "            predResult,\n",
    "            data.frame(\n",
    "                \"similarity\" = as.double(c(similarity, similarity)),\n",
    "                \"minEffectiveSize\" = as.integer(c(minEffectiveSize, minEffectiveSize)),\n",
    "                \"rate\" = c(senstivity, specificity),\n",
    "                \"category\" = c(\"Senstivity\", \"Specificity\")\n",
    "            )\n",
    "        )\n",
    "    }\n",
    "}\n",
    "\n",
    "predResult <- predResult[which(predResult[[\"minEffectiveSize\"]] == 30), ]"
   ]
  },
  {
   "cell_type": "code",
   "execution_count": 16,
   "metadata": {},
   "outputs": [
    {
     "data": {
      "image/png": "[encoded data removed]",
      "text/plain": [
       "plot without title"
      ]
     },
     "metadata": {
      "image/png": {
       "height": 420,
       "width": 420
      },
      "text/plain": {
       "height": 420,
       "width": 420
      }
     },
     "output_type": "display_data"
    }
   ],
   "source": [
    "p <- ggplot(predResult, aes(similarity, rate)) +\n",
    "    geom_point(aes(color = factor(category))) + ylim(0, 1) + \n",
    "    theme(axis.text.x = element_text(angle = 90, hjust = 1))\n",
    "p\n",
    "\n",
    "ggsave(\n",
    "    filename = file.path(plotsDir, paste0(testParam, \".pdf\")),\n",
    "    plot = p,\n",
    "    device = \"pdf\",\n",
    "    width = 3.25, height = 2\n",
    ")"
   ]
  },
  {
   "cell_type": "markdown",
   "metadata": {},
   "source": [
    "### 2.2. minEffectiveSize\n",
    "\n",
    "Test the `minEffectiveSize` parameter in `fixationSites` function."
   ]
  },
  {
   "cell_type": "code",
   "execution_count": 17,
   "metadata": {},
   "outputs": [],
   "source": [
    "testParam <- \"minEffectiveSize\"\n",
    "\n",
    "res <- readRDS(file.path(VALIDATION_DIR, paste0(testParam, \".rds\")))"
   ]
  },
  {
   "cell_type": "code",
   "execution_count": 18,
   "metadata": {},
   "outputs": [],
   "source": [
    "predResult <- data.frame(\n",
    "    \"similarity\" = double(),\n",
    "    \"minEffectiveSize\" = integer(),\n",
    "    \"rate\" = double(),\n",
    "    \"category\" = character()\n",
    ")\n",
    "\n",
    "for (similarity in names(res)) {\n",
    "    for (minEffectiveSize in names(res[[similarity]])) {\n",
    "        mutations <- res[[similarity]][[minEffectiveSize]]\n",
    "        assessTable <- siteCategory\n",
    "        sites <- as.integer(names(mutations))\n",
    "        assessTable[[\"predFixed\"]] <- assessTable[[\"site\"]] %in% sites\n",
    "        x <- assessTable[[\"fixationSite\"]] + assessTable[[\"predFixed\"]]\n",
    "        senstivity <- length(which(x == 2)) / nPositive\n",
    "        specificity <- length(which(x == 0)) / nNegative\n",
    "        \n",
    "        percentage <- as.integer(minEffectiveSize) / nTip\n",
    "        predResult <- rbind(\n",
    "            predResult,\n",
    "            data.frame(\n",
    "                \"similarity\" = as.double(c(similarity, similarity)),\n",
    "                \"minEffectiveSize\" = c(percentage, percentage),\n",
    "                \"rate\" = c(senstivity, specificity),\n",
    "                \"category\" = c(\"Senstivity\", \"Specificity\")\n",
    "            )\n",
    "        )\n",
    "    }\n",
    "}\n",
    "predResult <- predResult[which(predResult[[\"similarity\"]] == 0.001), ]"
   ]
  },
  {
   "cell_type": "code",
   "execution_count": 19,
   "metadata": {},
   "outputs": [
    {
     "data": {
      "image/png": "[encoded data removed]",
      "text/plain": [
       "plot without title"
      ]
     },
     "metadata": {
      "image/png": {
       "height": 420,
       "width": 420
      },
      "text/plain": {
       "height": 420,
       "width": 420
      }
     },
     "output_type": "display_data"
    }
   ],
   "source": [
    "p <- ggplot(predResult, aes(minEffectiveSize, rate)) +\n",
    "    geom_point(aes(color = factor(category))) + ylim(0, 1) + \n",
    "    theme(axis.text.x = element_text(angle = 90, hjust = 1))\n",
    "p\n",
    "\n",
    "ggsave(\n",
    "    filename = file.path(plotsDir, paste0(testParam, \".pdf\")),\n",
    "    plot = p,\n",
    "    device = \"pdf\",\n",
    "    width = 3.25, height = 2\n",
    ")"
   ]
  }
 ],
 "metadata": {
  "kernelspec": {
   "display_name": "R",
   "language": "R",
   "name": "ir"
  },
  "language_info": {
   "codemirror_mode": "r",
   "file_extension": ".r",
   "mimetype": "text/x-r-source",
   "name": "R",
   "pygments_lexer": "r",
   "version": "4.0.0"
  }
 },
 "nbformat": 4,
 "nbformat_minor": 2
}
