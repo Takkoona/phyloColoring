{
 "cells": [
  {
   "cell_type": "markdown",
   "metadata": {},
   "source": [
    "## Important\n",
    "\n",
    "`run_cdhit_outlier.sh` in `H3N2_HA` before the notebook."
   ]
  },
  {
   "cell_type": "code",
   "execution_count": 1,
   "metadata": {},
   "outputs": [],
   "source": [
    "import os\n",
    "import re\n",
    "from glob import glob\n",
    "# from collections import defaultdict\n",
    "\n",
    "from Bio import SeqIO\n",
    "\n",
    "TREES_DIR = \"Trees\"\n",
    "H3N2_HA_NAME = \"H3N2_HA\"\n",
    "GROUPING = \"Spatiotemporal\""
   ]
  },
  {
   "cell_type": "code",
   "execution_count": 2,
   "metadata": {},
   "outputs": [],
   "source": [
    "treeDir = os.path.join(TREES_DIR, H3N2_HA_NAME)\n",
    "groupingDir = os.path.join(treeDir, GROUPING)"
   ]
  },
  {
   "cell_type": "code",
   "execution_count": 15,
   "metadata": {},
   "outputs": [],
   "source": [
    "for clstr in glob(os.path.join(groupingDir, \"*\", \"clustered.fasta.clstr\")):\n",
    "    grpDir = os.path.dirname(clstr)\n",
    "    grpName = os.path.basename(grpDir)\n",
    "    with open(clstr) as f:\n",
    "        maxCluster = None\n",
    "        maxNum = 0\n",
    "        accessions = []\n",
    "        for line in f:\n",
    "            if line.startswith('>'):\n",
    "                nCluster += 1\n",
    "                acNum = len(accessions)\n",
    "                if acNum > 1:\n",
    "                    if acNum > maxNum:\n",
    "                        maxCluster = accessions\n",
    "                        maxNum = acNum\n",
    "                accessions = []\n",
    "            else:\n",
    "                m = re.findall(r\">(\\w+)\", line)[0]\n",
    "                accessions.append(m)\n",
    "        acNum = len(accessions)\n",
    "        if acNum > maxNum:\n",
    "            maxCluster = accessions\n",
    "            maxNum = acNum\n",
    "            \n",
    "        seqs = SeqIO.index(os.path.join(grpDir, \"sequences.fasta\"), \"fasta\")\n",
    "        outSeqs = [seqs[ac] for ac in maxCluster]\n",
    "        SeqIO.write(outSeqs, os.path.join(grpDir, \"outliered.fasta\"), \"fasta\")"
   ]
  },
  {
   "cell_type": "markdown",
   "metadata": {},
   "source": [
    "2009 663\n",
    "2010 698\n",
    "2011 964\n",
    "2012 1540\n",
    "2013 1385\n",
    "2014 1773\n",
    "2015 2296\n",
    "2016 2565\n",
    "2017 4869\n",
    "2018 2957\n",
    "2019 3423\n",
    "2020 112"
   ]
  }
 ],
 "metadata": {
  "kernelspec": {
   "display_name": "Python 3",
   "language": "python",
   "name": "python3"
  },
  "language_info": {
   "codemirror_mode": {
    "name": "ipython",
    "version": 3
   },
   "file_extension": ".py",
   "mimetype": "text/x-python",
   "name": "python",
   "nbconvert_exporter": "python",
   "pygments_lexer": "ipython3",
   "version": "3.5.3"
  }
 },
 "nbformat": 4,
 "nbformat_minor": 2
}
