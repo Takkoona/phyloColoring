{
 "cells": [
  {
   "cell_type": "code",
   "execution_count": 8,
   "metadata": {},
   "outputs": [],
   "source": [
    "import os\n",
    "import json\n",
    "from glob import glob\n",
    "from io import StringIO\n",
    "\n",
    "import numpy as np\n",
    "import pandas as pd\n",
    "from Bio import SeqIO\n",
    "from Bio.SVDSuperimposer import SVDSuperimposer\n",
    "from Bio.PDB.PDBParser import PDBParser\n",
    "from Bio.PDB import Dice\n",
    "\n",
    "PDB_DIR = \"Structures\"\n",
    "MODELLING_DIR = os.path.join(PDB_DIR, \"Modelling\")\n",
    "\n",
    "TEMPLATE_ID = \"4lxv\""
   ]
  },
  {
   "cell_type": "code",
   "execution_count": 2,
   "metadata": {},
   "outputs": [],
   "source": [
    "PDB_PARSER = PDBParser()"
   ]
  },
  {
   "cell_type": "code",
   "execution_count": 3,
   "metadata": {},
   "outputs": [],
   "source": [
    "with open(os.path.join(PDB_DIR, \"tipNames.json\")) as f:\n",
    "    tipNames = json.load(f)"
   ]
  },
  {
   "cell_type": "code",
   "execution_count": 4,
   "metadata": {},
   "outputs": [],
   "source": [
    "structures = []\n",
    "n = 0\n",
    "\n",
    "for seqDir in os.listdir(MODELLING_DIR):\n",
    "    seqName = os.path.basename(seqDir)\n",
    "    if seqName in tipNames:\n",
    "        structure = None\n",
    "        align = None\n",
    "        for pdbFile in glob(os.path.join(MODELLING_DIR, seqDir, \"*.pdb\")):\n",
    "            structure = PDB_PARSER.get_structure(seqName, pdbFile)\n",
    "        for alignFile in glob(os.path.join(MODELLING_DIR, seqDir, seqName + \"-\" + TEMPLATE_ID +\".ali\")):\n",
    "            align = SeqIO.index(alignFile, \"pir\")[TEMPLATE_ID]\n",
    "            for (start, res) in enumerate(align, start=1):\n",
    "                if res != '-':\n",
    "                    break\n",
    "            for (end, res) in enumerate(align[::-1]):\n",
    "                if res != '-':\n",
    "                    break\n",
    "        f = StringIO()\n",
    "        Dice.extract(structure, chain_id=' ', start=start, end=len(align) - end, filename=f)\n",
    "        f = StringIO(f.getvalue())\n",
    "        s = PDB_PARSER.get_structure(seqName, f)\n",
    "        structures.append(s)\n",
    "        \n",
    "    n += 1\n",
    "    if n == 5:\n",
    "        break"
   ]
  },
  {
   "cell_type": "code",
   "execution_count": 5,
   "metadata": {},
   "outputs": [
    {
     "name": "stdout",
     "output_type": "stream",
     "text": [
      "0.8762926050593773\n",
      "0.8156529694277238\n",
      "1.0134323246851187\n",
      "0.8996337659852263\n",
      "0.24829029760135102\n",
      "1.1266882997342702\n",
      "0.22518736516195628\n",
      "1.0722275789023228\n",
      "0.2875284114863194\n",
      "1.1273683486194392\n"
     ]
    }
   ],
   "source": [
    "for i in range(len(structures) - 1):\n",
    "    for subject in structures[i:]:\n",
    "        if structures[i] != subject:\n",
    "            x = np.array([res[\"CA\"].coord for res in structures[i].get_residues()])\n",
    "            y = np.array([res[\"CA\"].coord for res in subject.get_residues()])\n",
    "            sup = SVDSuperimposer()\n",
    "            sup.set(x, y)\n",
    "            sup.run()\n",
    "            print(sup.get_rms())"
   ]
  },
  {
   "cell_type": "code",
   "execution_count": 12,
   "metadata": {},
   "outputs": [
    {
     "data": {
      "text/html": [
       "<div>\n",
       "<style scoped>\n",
       "    .dataframe tbody tr th:only-of-type {\n",
       "        vertical-align: middle;\n",
       "    }\n",
       "\n",
       "    .dataframe tbody tr th {\n",
       "        vertical-align: top;\n",
       "    }\n",
       "\n",
       "    .dataframe thead th {\n",
       "        text-align: right;\n",
       "    }\n",
       "</style>\n",
       "<table border=\"1\" class=\"dataframe\">\n",
       "  <thead>\n",
       "    <tr style=\"text-align: right;\">\n",
       "      <th></th>\n",
       "      <th>A</th>\n",
       "      <th>B</th>\n",
       "      <th>C</th>\n",
       "    </tr>\n",
       "  </thead>\n",
       "  <tbody>\n",
       "    <tr>\n",
       "      <th>A</th>\n",
       "      <td>1</td>\n",
       "      <td>2</td>\n",
       "      <td>3</td>\n",
       "    </tr>\n",
       "    <tr>\n",
       "      <th>B</th>\n",
       "      <td>2</td>\n",
       "      <td>3</td>\n",
       "      <td>4</td>\n",
       "    </tr>\n",
       "  </tbody>\n",
       "</table>\n",
       "</div>"
      ],
      "text/plain": [
       "   A  B  C\n",
       "A  1  2  3\n",
       "B  2  3  4"
      ]
     },
     "execution_count": 12,
     "metadata": {},
     "output_type": "execute_result"
    }
   ],
   "source": [
    "pd.DataFrame([[1,2,3], [2,3,4]], columns=[\"A\", \"B\", \"C\"], index = [\"A\", \"B\"])"
   ]
  },
  {
   "cell_type": "code",
   "execution_count": 10,
   "metadata": {},
   "outputs": [
    {
     "data": {
      "text/plain": [
       "['AB530462', 'AB530463', 'AB530466', 'AB530469', 'AB530488']"
      ]
     },
     "execution_count": 10,
     "metadata": {},
     "output_type": "execute_result"
    }
   ],
   "source": [
    "[s.id for s in structures]"
   ]
  }
 ],
 "metadata": {
  "kernelspec": {
   "display_name": "Python 3",
   "language": "python",
   "name": "python3"
  },
  "language_info": {
   "codemirror_mode": {
    "name": "ipython",
    "version": 3
   },
   "file_extension": ".py",
   "mimetype": "text/x-python",
   "name": "python",
   "nbconvert_exporter": "python",
   "pygments_lexer": "ipython3",
   "version": "3.5.3"
  }
 },
 "nbformat": 4,
 "nbformat_minor": 2
}
