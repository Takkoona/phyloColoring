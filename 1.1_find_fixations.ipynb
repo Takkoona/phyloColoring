{
 "cells": [
  {
   "cell_type": "markdown",
   "metadata": {},
   "source": [
    "## Important\n",
    "\n",
    "`run_mafft.sh` and `run_raxml.sh` in each subfoloder of `Trees` to build the trees beforehand."
   ]
  },
  {
   "cell_type": "code",
   "execution_count": 21,
   "metadata": {},
   "outputs": [],
   "source": [
    "library(ape)\n",
    "library(sitePath)\n",
    "suppressPackageStartupMessages(library(ggtree))\n",
    "\n",
    "TREES_DIR <- \"Trees\"\n",
    "PLOTS_DIR <- \"Plots\"\n",
    "\n",
    "H1N1_HA_NAME <- \"H1N1_HA\"\n",
    "H3N2_HA_NAME <- \"H3N2_HA\"\n",
    "H3N2_HA1_PRE2010_NAME <- \"H3N2_HA1_pre2010\"\n",
    "ZIKV_POLYPROTEIN_NAME <- \"ZIKV_polyprotein\"\n",
    "SARS_COV_2_CDS_NAME <- \"SARS_CoV_2_cds\"\n",
    "\n",
    "H1N1_HA_TREE_DIR <- file.path(TREES_DIR, H1N1_HA_NAME)\n",
    "H3N2_HA_TREE_DIR <- file.path(TREES_DIR, H3N2_HA_NAME)\n",
    "H3N2_HA1_PRE2010_TREE_DIR <- file.path(TREES_DIR, H3N2_HA1_PRE2010_NAME)"
   ]
  },
  {
   "cell_type": "code",
   "execution_count": 15,
   "metadata": {},
   "outputs": [],
   "source": [
    "source(\"snpTracing.r\")"
   ]
  },
  {
   "cell_type": "markdown",
   "metadata": {},
   "source": [
    "### 1. H1N1"
   ]
  },
  {
   "cell_type": "code",
   "execution_count": 33,
   "metadata": {},
   "outputs": [],
   "source": [
    "tree <- read.tree(file.path(H1N1_HA_TREE_DIR, \"RAxML_bestTree.PROTGAMMAGTR\"))\n",
    "tree <- addMSA(tree, msaPath = file.path(H1N1_HA_TREE_DIR, \"aligned.fasta\"), msaFormat = \"fasta\")\n",
    "\n",
    "pdf(file = file.path(PLOTS_DIR, paste0(H1N1_HA_NAME, \".pdf\")), width = 15, height = 50)\n",
    "plot(ladderize(tree), cex = 0.15)\n",
    "invisible(dev.off())"
   ]
  },
  {
   "cell_type": "markdown",
   "metadata": {},
   "source": [
    "### 2. H3N2"
   ]
  },
  {
   "cell_type": "code",
   "execution_count": 34,
   "metadata": {},
   "outputs": [],
   "source": [
    "tree <- read.tree(file.path(H3N2_HA_TREE_DIR, \"RAxML_bestTree.PROTGAMMAGTR\"))\n",
    "tree <- addMSA(tree, msaPath = file.path(H3N2_HA_TREE_DIR, \"aligned.fasta\"), msaFormat = \"fasta\")\n",
    "\n",
    "pdf(file = file.path(PLOTS_DIR, paste0(H3N2_HA_NAME, \".pdf\")), width = 15, height = 50)\n",
    "plot(ladderize(tree), cex = 0.15)\n",
    "invisible(dev.off())"
   ]
  },
  {
   "cell_type": "code",
   "execution_count": 3,
   "metadata": {},
   "outputs": [
    {
     "data": {
      "image/png": "[encoded data removed]",
      "text/plain": [
       "plot without title"
      ]
     },
     "metadata": {
      "image/png": {
       "height": 420,
       "width": 420
      },
      "text/plain": {
       "height": 420,
       "width": 420
      }
     },
     "output_type": "display_data"
    }
   ],
   "source": [
    "tree <- read.tree(file.path(\"Trees\", \"SARS_CoV_2_cds\", \"RAxML_bestTree.GTRGAMMA\"))\n",
    "tree <- addMSA(tree, msaPath = file.path(\"Trees\", \"SARS_CoV_2_cds\", \"aligned.fasta\"), msaFormat = \"fasta\")\n",
    "\n",
    "paths <- lineagePath(tree, similarity = 0.03)\n",
    "plot(paths)"
   ]
  },
  {
   "cell_type": "code",
   "execution_count": 4,
   "metadata": {},
   "outputs": [],
   "source": [
    "mutations <- fixationlineages(paths, method = \"insert\")"
   ]
  },
  {
   "cell_type": "code",
   "execution_count": 5,
   "metadata": {},
   "outputs": [],
   "source": [
    "res <- .snpTracing(mutations, paths)"
   ]
  },
  {
   "cell_type": "code",
   "execution_count": 7,
   "metadata": {},
   "outputs": [],
   "source": [
    "# groupingSNP <- lapply(groupByPath, function (gp) {\n",
    "#     # Prep for growing the tree\n",
    "#     # Define the first node and the first tip cluster\n",
    "#     newParentNode <- length(gp) + 1L # Keep track of the newly added internal nodes\n",
    "#     tipNode <- 1L\n",
    "#     currentTips <- gp[[tipNode]]\n",
    "#     attr(currentTips, \"snpSites\") <- character()\n",
    "#     tipClusters <- list(currentTips) # The existing tips in the tree\n",
    "#     refSites <- attr(currentTips, \"site\")\n",
    "    \n",
    "#     # Define the first edge of the tree\n",
    "#     parentNodes <- newParentNode\n",
    "#     childrenNodes <- tipNode\n",
    "#     edgeSNPs <- list(character())\n",
    "#     # A list to record the fixation sites of the parent nodes\n",
    "#     parentNodesSites <- list()\n",
    "#     parentNodesSites[[as.character(newParentNode)]] <- refSites\n",
    "    \n",
    "#     # Grow the tree\n",
    "#     for (tipNode in seq_along(gp)[-1]) {\n",
    "#         currentTips <- gp[[tipNode]]\n",
    "#         currentSites <- attr(currentTips, \"site\")\n",
    "#         # Attach the tip near the most related tips\n",
    "#         # Assume the reference tips are the most related (least number of SNP)\n",
    "#         mostRelatedTipNode <- 1L\n",
    "#         leastSNPnum <- sum(refSites != currentSites)\n",
    "#         # Loop through the rest existing tip clusters\n",
    "#         for (otherTipNode in seq_along(tipClusters)[-1]) {\n",
    "#             otherSites <- attr(tipClusters[[otherTipNode]], \"site\")\n",
    "#             snpNum <- sum(otherSites != currentSites)\n",
    "#             if (snpNum < leastSNPnum) {\n",
    "#                 mostRelatedTipNode <- otherTipNode\n",
    "#                 leastSNPnum <- snpNum\n",
    "#             }\n",
    "#         }\n",
    "#         # Find the direct tree edge to the most related tips\n",
    "#         edgeIndex <- which(childrenNodes == mostRelatedTipNode)\n",
    "#         parentNode <- parentNodes[edgeIndex]\n",
    "#         # Tree growing differs according to the SNP against parent node and edge SNP\n",
    "#         parentSites <- parentNodesSites[[as.character(parentNode)]]\n",
    "#         snpSites <- as.character(na.omit(vapply(\n",
    "#             X = names(parentSites),\n",
    "#             FUN = function (site) {\n",
    "#                 ref <- parentSites[site]\n",
    "#                 snp <- currentSites[site]\n",
    "#                 if (ref == snp) {\n",
    "#                     return(NA_character_)\n",
    "#                 }\n",
    "#                 return(paste0(ref, site, snp))\n",
    "#             },\n",
    "#             FUN.VALUE = character(1)\n",
    "#         )))\n",
    "#         edgeSNP <- edgeSNPs[[edgeIndex]]\n",
    "#         sharedWithEdgeSNP <- intersect(snpSites, edgeSNP)\n",
    "#         # A new internal node is needed when no SNP overlap \n",
    "#         if (length(sharedWithEdgeSNP) != 0) {\n",
    "#             newParentNode <- newParentNode + 1L\n",
    "#             # Insert the new internal node to the target edge\n",
    "#             parentNodes[edgeIndex] <- newParentNode\n",
    "#             parentNodes <- c(parentNodes, parentNode)\n",
    "#             childrenNodes <- c(childrenNodes, newParentNode)\n",
    "#             edgeSNPs <- c(edgeSNPs, list(sharedWithEdgeSNP))\n",
    "#             # Update the SNP of the directly linked edge to the most related tips\n",
    "#             edgeSNPs[[edgeIndex]] <- setdiff(edgeSNP, sharedWithEdgeSNP)\n",
    "#             # Calculate the site for the new internal node\n",
    "# #             siteToChange <- as.character(regmatches(sharedWithEdgeSNP, regexpr('[0-9]+', sharedWithEdgeSNP)))\n",
    "#             siteToChange <- substr(sharedWithEdgeSNP, 2, nchar(sharedWithEdgeSNP) - 1)\n",
    "#             parentSites[siteToChange] <- substr(sharedWithEdgeSNP, nchar(sharedWithEdgeSNP), nchar(sharedWithEdgeSNP))\n",
    "#             parentNodesSites[[as.character(newParentNode)]] <- parentSites\n",
    "#             # Update the parent node and edge SNP for the current tip node\n",
    "#             parentNode <- newParentNode\n",
    "#             snpSites <- setdiff(snpSites, sharedWithEdgeSNP)\n",
    "#         }\n",
    "#         # Add edge\n",
    "#         parentNodes <- c(parentNodes, parentNode)\n",
    "#         childrenNodes <- c(childrenNodes, tipNode)\n",
    "#         # Add edge SNP\n",
    "#         edgeSNPs <- c(edgeSNPs, list(snpSites))\n",
    "#         # Add the current tips\n",
    "#         tipClusters <- c(tipClusters, list(currentTips))\n",
    "#     }\n",
    "#     res <- list(\n",
    "#         \"edge\" = cbind(parentNodes, childrenNodes),\n",
    "#         \"edge.length\" = lengths(edgeSNPs) + 0.05,\n",
    "#         \"Nnode\" = length(unique(parentNodes)),\n",
    "#         \"tip.label\" = as.character(lengths(gp))\n",
    "#     )\n",
    "#     attr(res, \"tipClusters\") <- tipClusters\n",
    "#     attr(res, \"edgeSNPs\") <- edgeSNPs\n",
    "#     class(res) <- \"phylo\"\n",
    "#     return(res)\n",
    "# })\n",
    "\n",
    "# for (i in seq_along(paths)) {\n",
    "#     plot.phylo(groupingSNP[[i]])\n",
    "#     edgelabels(vapply(attr(groupingSNP[[i]], \"edgeSNPs\"), paste, collapse = \", \", FUN.VALUE = character(1)))\n",
    "# }"
   ]
  },
  {
   "cell_type": "code",
   "execution_count": 6,
   "metadata": {},
   "outputs": [
    {
     "name": "stdout",
     "output_type": "stream",
     "text": [
      "Starting checking the validity of res...\n",
      "Found number of tips: n = 15 \n",
      "Found number of nodes: m = 7 \n",
      "Done.\n"
     ]
    }
   ],
   "source": [
    "checkValidPhylo(res)"
   ]
  },
  {
   "cell_type": "code",
   "execution_count": 12,
   "metadata": {},
   "outputs": [
    {
     "data": {
      "image/png": "[encoded data removed]",
      "text/plain": [
       "plot without title"
      ]
     },
     "metadata": {
      "image/png": {
       "height": 420,
       "width": 420
      },
      "text/plain": {
       "height": 420,
       "width": 420
      }
     },
     "output_type": "display_data"
    }
   ],
   "source": [
    "plot(res)"
   ]
  },
  {
   "cell_type": "code",
   "execution_count": 9,
   "metadata": {},
   "outputs": [],
   "source": [
    "# allMutSites <- unlist(lapply(edgeSNPs, function (sites) {\n",
    "#     substr(sites, 2, nchar(sites) - 1)\n",
    "# }))\n",
    "\n",
    "# duplicatedSites <- unique(allMutSites[which(duplicated(allMutSites))])\n",
    "edgeSNPs <- attr(res, \"edgeSNPs\")\n",
    "\n",
    "allMutSites <- unlist(edgeSNPs)\n",
    "duplicatedSites <- unique(allMutSites[which(duplicated(allMutSites))])"
   ]
  },
  {
   "cell_type": "code",
   "execution_count": 10,
   "metadata": {},
   "outputs": [
    {
     "ename": "ERROR",
     "evalue": "Error in text.default(XX, YY, text, adj = adj, col = col, ...): zero-length 'labels' specified\n",
     "output_type": "error",
     "traceback": [
      "Error in text.default(XX, YY, text, adj = adj, col = col, ...): zero-length 'labels' specified\nTraceback:\n",
      "1. edgelabels(text = vapply(recurringSites[edge2show], paste, collapse = \", \", \n .     FUN.VALUE = character(1)), edge = edge2show)",
      "2. BOTHlabels(text, sel, XX, YY, adj, frame, pch, thermo, pie, piecol, \n .     col, bg, horiz, width, height, ...)",
      "3. text(XX, YY, text, adj = adj, col = col, ...)",
      "4. text.default(XX, YY, text, adj = adj, col = col, ...)"
     ]
    },
    {
     "data": {
      "image/png": "[encoded data removed]",
      "text/plain": [
       "plot without title"
      ]
     },
     "metadata": {
      "image/png": {
       "height": 420,
       "width": 420
      },
      "text/plain": {
       "height": 420,
       "width": 420
      }
     },
     "output_type": "display_data"
    }
   ],
   "source": [
    "# recurringSites <- lapply(edgeSNPs, function (sites) {\n",
    "#     s <- substr(sites, 2, nchar(sites) - 1)\n",
    "#     sites[which(s %in% duplicatedSites)]\n",
    "# })\n",
    "\n",
    "recurringSites <- lapply(edgeSNPs, function (sites) {\n",
    "    sites[which(sites %in% duplicatedSites)]\n",
    "})\n",
    "edge2show <- which(lengths(recurringSites) != 0)\n",
    "\n",
    "plot(res, show.tip.label = FALSE)\n",
    "# edgelabels(text = vapply(recurringSites[edge2show], paste, collapse = \", \", FUN.VALUE = character(1)), edge = edge2show)\n",
    "\n",
    "# recurringSites <- lapply(edgeSNPs, function (sites) {\n",
    "#     sites[which(sites %in% duplicatedSites[[14]])]\n",
    "# })\n",
    "# edge2show <- which(lengths(recurringSites) != 0)\n",
    "\n",
    "# plot(res, show.tip.label = FALSE)\n",
    "# edgelabels(text = vapply(recurringSites[edge2show], paste, collapse = \", \", FUN.VALUE = character(1)), edge = edge2show)"
   ]
  }
 ],
 "metadata": {
  "kernelspec": {
   "display_name": "R",
   "language": "R",
   "name": "ir"
  },
  "language_info": {
   "codemirror_mode": "r",
   "file_extension": ".r",
   "mimetype": "text/x-r-source",
   "name": "R",
   "pygments_lexer": "r",
   "version": "3.6.1"
  }
 },
 "nbformat": 4,
 "nbformat_minor": 2
}
