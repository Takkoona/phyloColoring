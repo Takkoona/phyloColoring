{
 "cells": [
  {
   "cell_type": "markdown",
   "metadata": {},
   "source": [
    "# Validate predicted fixation sites\n",
    "Data from Smith et al. 2004 paper"
   ]
  },
  {
   "cell_type": "code",
   "execution_count": 1,
   "metadata": {},
   "outputs": [],
   "source": [
    "library(jsonlite)\n",
    "library(sitePath)\n",
    "library(RColorBrewer)\n",
    "library(gridExtra)\n",
    "library(ggplot2)\n",
    "suppressPackageStartupMessages(library(ggtree))\n",
    "suppressPackageStartupMessages(library(VennDiagram))\n",
    "\n",
    "DATA_DIR <- file.path(\"Data\", \"H3N2_HA1_Smith2004\")\n",
    "OUTPUT_DIR <- file.path(\"Output\", \"Tests\")\n",
    "dir.create(OUTPUT_DIR, showWarnings = FALSE)\n",
    "\n",
    "CLUSTER_MUTATIONS <- list(\n",
    "    \"HK68-EN72\" = c(\"T122N\", \"T155Y\", \"R207K\", \"G144D\", \"N188D\"),\n",
    "    \"EN72-VI75\" = c(\n",
    "        \"N137S\", \"L164Q\", \"N53D\", \"F174S\", \"S145N\", \"Q189K\", \n",
    "        \"I278S\", \"R201K\", \"S193D\", \"I213V\", \"I217V\", \"I230V\"\n",
    "    ), # The original paper wrote R102K, but I think that's a typo for R201K\n",
    "    \"VI75-TX77\" = c(\n",
    "        \"S137Y\", \"G158E\", \"K50R\", \"S174F\", \"E82K\", \"Q164L\", \n",
    "        \"D53N\", \"K201R\", \"M260I\", \"D193N\", \"V213I\", \"V230I\"\n",
    "    ),\n",
    "    \"TX77-BK79\" = c(\n",
    "        \"N133S\", \"K156E\", \"N53D\", \"D172G\", \"I62K\", \"P143S\", \n",
    "        \"T160K\", \"N54S\", \"V217I\", \"K82E\", \"G146S\", \"Q197R\", \n",
    "        \"V244L\"\n",
    "    ),\n",
    "    \"BK79-SI87\" = c(\"G124D\", \"Y155H\", \"K189R\"),\n",
    "    \"SI87-BE89\" = c(\"N145K\"),\n",
    "    \"BE89-BE92\" = c(\"S133D\", \"E156K\", \"T262N\", \"K145N\", \"E190D\"),\n",
    "    \"BE92-WU95\" = c(\"N145K\"),\n",
    "    \"WU95-SY97\" = c(\"K156Q\", \"N276K\", \"K62E\", \"E158K\", \"V196A\"),\n",
    "    \"SY97-FU02\" = c(\n",
    "        \"A131T\", \"H155T\", \"R50G\", \"H75Q\", \"L25I\", \"Q156H\",\n",
    "        \"E83K\", \"V202I\", \"W222R\", \"G225D\"\n",
    "    )\n",
    ")\n",
    "ANTIGENIC_SITES <- unique(unlist(lapply(CLUSTER_MUTATIONS, function(mutations) {\n",
    "    as.integer(substr(mutations, 2, nchar(mutations) - 1))\n",
    "})))\n",
    "\n",
    "PHYLO_TOOLS <- list(\n",
    "    \"iqtree\" = \"gtr_ufboot.treefile\",\n",
    "    \"raxml\" = \"RAxML_bestTree.PROTGAMMAGTR\",\n",
    "    \"fasttree\" = \"FastTree.nwk\",\n",
    "    \"megaNJ\" = \"MegaNJ.nwk\",\n",
    "    \"megaME\" = \"MegaME.nwk\"\n",
    ")"
   ]
  },
  {
   "cell_type": "code",
   "execution_count": 2,
   "metadata": {},
   "outputs": [],
   "source": [
    "alignment <- seqinr::read.alignment(file.path(DATA_DIR, \"HA1_aligned.fasta\"), \"fasta\")\n",
    "\n",
    "sequences <- alignment$seq\n",
    "loci <- which(vapply(\n",
    "    X = seq_len(nchar(sequences[[1]])),\n",
    "    FUN = function(s) {\n",
    "        length(unique(substr(sequences, s, s))) > 1\n",
    "    },\n",
    "    FUN.VALUE = logical(1)\n",
    "))\n",
    "manualFixationSites <- c(\n",
    "    63, 81, 3, 31, 78, 122, 144, 155,\n",
    "    188, 207, 242, 275, 53, 83, 126,\n",
    "    137, 145, 164, 174, 189, 193, 201,\n",
    "    213, 217, 230, 278, 2, 45, 50, 54,\n",
    "    62, 82, 94, 124, 131, 133, 135, 143,\n",
    "    146, 156, 158, 159, 160, 163, 172,\n",
    "    173, 197, 244, 248, 260, 299, 307,\n",
    "    196, 75, 121, 157, 190, 214, 262,\n",
    "    47, 216, 219, 276, 92, 226, 25,\n",
    "    57, 142, 186, 192, 202, 222, 225,\n",
    "    8, 80, 106\n",
    ")\n",
    "conservedSites <- setdiff(loci, manualFixationSites)\n",
    "\n",
    "siteCategory <- data.frame(\n",
    "    \"site\" = c(manualFixationSites, conservedSites),\n",
    "    \"category\" = c(rep(\"fixed\", length(manualFixationSites)),\n",
    "                   rep(\"conserved\", length(conservedSites))),\n",
    "    \"fixationSite\" = c(rep(TRUE, length(manualFixationSites)),\n",
    "                       rep(FALSE, length(conservedSites)))\n",
    ")\n",
    "\n",
    "# conservedSites <- setdiff(loci, ANTIGENIC_SITES)\n",
    "\n",
    "# siteCategory <- data.frame(\n",
    "#     \"site\" = c(ANTIGENIC_SITES, conservedSites),\n",
    "#     \"category\" = c(rep(\"fixed\", length(ANTIGENIC_SITES)),\n",
    "#                    rep(\"conserved\", length(conservedSites))),\n",
    "#     \"fixationSite\" = c(rep(TRUE, length(ANTIGENIC_SITES)),\n",
    "#                        rep(FALSE, length(conservedSites)))\n",
    "# )\n",
    "\n",
    "siteCategory <- siteCategory[order(siteCategory[[\"site\"]]), ]\n",
    "row.names(siteCategory) <- NULL\n",
    "\n",
    "nPositive <- sum(siteCategory[[\"fixationSite\"]])\n",
    "nNegative <- sum(!siteCategory[[\"fixationSite\"]])"
   ]
  },
  {
   "cell_type": "code",
   "execution_count": 3,
   "metadata": {},
   "outputs": [],
   "source": [
    "clusterInfo <- read_json(file.path(DATA_DIR, \"metadata.json\"))\n",
    "clusterInfo <- do.call(rbind, lapply(names(clusterInfo), function(ac) {\n",
    "    data.frame(\n",
    "        \"id\" = ac,\n",
    "        \"cluster\" = clusterInfo[[ac]]\n",
    "    )\n",
    "}))\n",
    "\n",
    "group <- split(clusterInfo[[\"id\"]], clusterInfo[[\"cluster\"]])\n",
    "\n",
    "groupColors <- colorRampPalette(brewer.pal(9, \"Set1\"))(length(group))\n",
    "names(groupColors) <- names(group)\n",
    "groupColors[\"0\"] <- \"black\""
   ]
  },
  {
   "cell_type": "markdown",
   "metadata": {},
   "source": [
    "# 1. iqtree\n",
    "Run `Data/H3N2_HA1_Smith2004/run_iqtree.sh` to build the phylogenetic tree."
   ]
  },
  {
   "cell_type": "code",
   "execution_count": 4,
   "metadata": {},
   "outputs": [
    {
     "data": {
      "image/png": "[encoded data removed]",
      "text/plain": [
       "plot without title"
      ]
     },
     "metadata": {
      "image/png": {
       "height": 420,
       "width": 420
      }
     },
     "output_type": "display_data"
    }
   ],
   "source": [
    "toolname <- \"iqtree\"\n",
    "\n",
    "tree <- read.tree(file.path(DATA_DIR, PHYLO_TOOLS[[toolname]]))\n",
    "\n",
    "tree <- groupOTU(tree, group, group_name = \"Groups\")\n",
    "grouplevel <- levels(attr(tree, \"Groups\"))\n",
    "grouplevel <- grouplevel[order(sapply(gsub(\"[^0-9]\", \"\", grouplevel), function(year) {\n",
    "    if (as.integer(year) > 50) {\n",
    "        res <- paste0(19, year)\n",
    "    } else {\n",
    "        res <- paste0(20, year)\n",
    "    }\n",
    "    as.integer(res)\n",
    "}), decreasing = TRUE)]\n",
    "\n",
    "attr(tree, \"Groups\") <- factor(attr(tree, \"Groups\"), grouplevel)\n",
    "p <- ggtree(tree, aes(color = Groups)) +\n",
    "    scale_color_manual(values = as.list(groupColors), limits = grouplevel) +\n",
    "    guides(\n",
    "      color = guide_legend(\n",
    "        override.aes = list(size = 3)\n",
    "      )\n",
    "    ) +\n",
    "    theme(\n",
    "        plot.margin = unit(c(5.5, 5.5, 5.5, 128), \"pt\"),\n",
    "        legend.position = c(-0.3, 0.5)\n",
    "    )\n",
    "#     theme(legend.position = \"left\")\n",
    "p\n",
    "\n",
    "ggsave(\n",
    "    filename = file.path(OUTPUT_DIR, paste0(\"Smith2004_tree_\", toolname, \".svg\")),\n",
    "    plot = p,\n",
    "#     width = 6,\n",
    "    width = 6.7,\n",
    "    height = 4\n",
    ")"
   ]
  },
  {
   "cell_type": "code",
   "execution_count": 5,
   "metadata": {},
   "outputs": [
    {
     "data": {
      "image/png": "[encoded data removed]",
      "text/plain": [
       "plot without title"
      ]
     },
     "metadata": {
      "image/png": {
       "height": 420,
       "width": 420
      }
     },
     "output_type": "display_data"
    }
   ],
   "source": [
    "paths <- addMSA(tree, alignment = alignment)\n",
    "mutations <- fixationSites(paths)\n",
    "\n",
    "venn.plot <- draw.pairwise.venn(\n",
    "    area1 = length(mutations),\n",
    "    area2 = length(ANTIGENIC_SITES),\n",
    "    cross.area = length(intersect(ANTIGENIC_SITES, as.integer(allSitesName(mutations)))),\n",
    "    category = c(\"Fixation\", \"Cluster\"),\n",
    "    ext.text = FALSE,\n",
    "    offset = 1,\n",
    "    fill = c(\"blue\", \"red\"),\n",
    "    alpha = c(0.1, 0.1),\n",
    "    lwd = c(3, 3),\n",
    "    col = c(\"blue\", \"red\"),\n",
    "    label.col = c(\"blue\", \"black\", \"red\"),\n",
    "    cat.col = c(\"blue\", \"red\"),\n",
    "    cat.just = list(c(1, -1), c(1, -3)),\n",
    "    rotation.degree = 180,\n",
    "    margin = 0.2\n",
    ")\n",
    "grid.draw(venn.plot)\n",
    "\n",
    "svg(filename = file.path(OUTPUT_DIR, \"Smith2004_venn.svg\"), width = 3, height = 3, bg = \"transparent\")\n",
    "grid.draw(venn.plot)\n",
    "invisible(dev.off())"
   ]
  },
  {
   "cell_type": "code",
   "execution_count": 6,
   "metadata": {},
   "outputs": [],
   "source": [
    "pdf(file = file.path(OUTPUT_DIR, \"TP.pdf\"), width = 15, height = 5)\n",
    "for (site in ANTIGENIC_SITES) {\n",
    "    p1 <- ggtree(tree, aes(color = Groups)) +\n",
    "        scale_color_manual(values = as.list(groupColors), limits = grouplevel) +\n",
    "        theme(legend.position = \"left\")\n",
    "    p2 <- plotSingleSite(mutations, site)\n",
    "    p3 <- plotSingleSite(paths, site, FALSE)\n",
    "    grid.arrange(arrangeGrob(p1, p2, p3, ncol = 3))\n",
    "}\n",
    "invisible(dev.off())\n",
    "\n",
    "pdf(file = file.path(OUTPUT_DIR, \"FP.pdf\"), width = 15, height = 5)\n",
    "for (site in setdiff(as.integer(allSitesName(mutations)), ANTIGENIC_SITES)) {\n",
    "    p1 <- ggtree(tree, aes(color = Groups)) +\n",
    "        scale_color_manual(values = as.list(groupColors), limits = grouplevel) +\n",
    "        theme(legend.position = \"left\")\n",
    "    p2 <- plotSingleSite(mutations, site)\n",
    "    p3 <- plotSingleSite(paths, site, FALSE)\n",
    "    grid.arrange(arrangeGrob(p1, p2, p3, ncol = 3))\n",
    "}\n",
    "invisible(dev.off())"
   ]
  },
  {
   "cell_type": "code",
   "execution_count": 7,
   "metadata": {},
   "outputs": [],
   "source": [
    "predResult <- data.frame(\n",
    "    \"Nmin\" = integer(),\n",
    "    \"rate\" = double(),\n",
    "    \"category\" = character()\n",
    ")\n",
    "# totalTips <- ape::Ntip(tree)\n",
    "\n",
    "for (nTip in seq_len(20)[-1]) {\n",
    "    paths <- lineagePath(paths, nTip)\n",
    "    mutations <- fixationSites(paths)\n",
    "    \n",
    "    assessTable <- siteCategory\n",
    "    sites <- as.integer(allSitesName(mutations))\n",
    "    assessTable[[\"predFixed\"]] <- assessTable[[\"site\"]] %in% sites\n",
    "    x <- assessTable[[\"fixationSite\"]] + assessTable[[\"predFixed\"]]\n",
    "    senstivity <- length(which(x == 2)) / nPositive\n",
    "    specificity <- length(which(x == 0)) / nNegative\n",
    "    predResult <- rbind(\n",
    "        predResult,\n",
    "        data.frame(\n",
    "            \"samplingSize\" = c(nTip, nTip),\n",
    "            \"rate\" = c(senstivity, specificity),\n",
    "            \"category\" = c(\"Senstivity\", \"Specificity\")\n",
    "        )\n",
    "    )\n",
    "}\n",
    "predResult <- predResult[order(predResult[[\"samplingSize\"]]), ]\n",
    "row.names(predResult) <- NULL"
   ]
  },
  {
   "cell_type": "code",
   "execution_count": 8,
   "metadata": {},
   "outputs": [
    {
     "data": {
      "image/png": "[encoded data removed]",
      "text/plain": [
       "plot without title"
      ]
     },
     "metadata": {
      "image/png": {
       "height": 420,
       "width": 420
      }
     },
     "output_type": "display_data"
    }
   ],
   "source": [
    "sp <- sneakPeek(paths, makePlot = TRUE)"
   ]
  },
  {
   "cell_type": "code",
   "execution_count": 9,
   "metadata": {},
   "outputs": [
    {
     "data": {
      "image/png": "[encoded data removed]",
      "text/plain": [
       "plot without title"
      ]
     },
     "metadata": {
      "image/png": {
       "height": 420,
       "width": 420
      }
     },
     "output_type": "display_data"
    }
   ],
   "source": [
    "p <- ggplot(predResult, aes(samplingSize, rate)) +\n",
    "    geom_point(aes(color = category)) + \n",
    "    scale_y_continuous(expand = c(0, 0), limits = c(0, 1.05)) +\n",
    "    labs(x = \"Nmin\", y = \"\", color = \"Metric\") +\n",
    "    geom_vline(xintercept = c(5, 10, 12, 15), alpha = 0.3, linetype = \"dotted\") +\n",
    "    theme(\n",
    "        panel.background = element_rect(fill = \"transparent\", color = NA),\n",
    "        panel.border = element_rect(color = \"black\", fill = \"transparent\"),\n",
    "        panel.grid = element_blank(),         # All grid lines\n",
    "    )\n",
    "p\n",
    "\n",
    "ggsave(\n",
    "    filename = file.path(OUTPUT_DIR, \"samplingSize.svg\"),\n",
    "    plot = p,\n",
    "    device = \"svg\",\n",
    "    width = 3.25, height = 2\n",
    ")"
   ]
  },
  {
   "cell_type": "markdown",
   "metadata": {},
   "source": [
    "# 2. Other tools\n",
    "Run `Data/H3N2_HA1_Smith2004/run_raxml.sh` to build the phylogenetic tree."
   ]
  },
  {
   "cell_type": "code",
   "execution_count": 10,
   "metadata": {},
   "outputs": [
    {
     "name": "stderr",
     "output_type": "stream",
     "text": [
      "The \"tree\" object is not bifurcated and resolved by \"multi2di\" function.\n",
      "\n"
     ]
    }
   ],
   "source": [
    "predResult2 <- data.frame(\n",
    "    \"software\" = integer(),\n",
    "    \"rate\" = double(),\n",
    "    \"category\" = character()\n",
    ")\n",
    "\n",
    "for (toolname in names(PHYLO_TOOLS)) {\n",
    "    tree <- read.tree(file.path(DATA_DIR, PHYLO_TOOLS[[toolname]]))\n",
    "    tree <- ape::root(tree, \"AF201874.1\")\n",
    "    p <- ggtree(groupOTU(tree, group, group_name = \"Groups\"), aes(color = Groups)) +\n",
    "        scale_color_manual(values = as.list(groupColors), limits = names(groupColors))\n",
    "    ggsave(\n",
    "        filename = file.path(OUTPUT_DIR, paste0(\"Smith2004_tree_\", toolname, \".svg\")),\n",
    "        plot = p,\n",
    "        width = 6, height = 4\n",
    "    )\n",
    "    paths <- addMSA(tree, alignment = alignment)\n",
    "    mutations <- fixationSites(paths)\n",
    "    \n",
    "    assessTable <- siteCategory\n",
    "    sites <- as.integer(allSitesName(mutations))\n",
    "    assessTable[[\"predFixed\"]] <- assessTable[[\"site\"]] %in% sites\n",
    "    x <- assessTable[[\"fixationSite\"]] + assessTable[[\"predFixed\"]]\n",
    "    senstivity <- length(which(x == 2)) / nPositive\n",
    "    specificity <- length(which(x == 0)) / nNegative\n",
    "    predResult2 <- rbind(\n",
    "        predResult2,\n",
    "        data.frame(\n",
    "            \"software\" = c(toolname, toolname),\n",
    "            \"rate\" = c(senstivity, specificity),\n",
    "            \"category\" = c(\"Senstivity\", \"Specificity\")\n",
    "        )\n",
    "    )\n",
    "}\n",
    "\n",
    "predResult2$software <- factor(predResult2$software, levels = names(PHYLO_TOOLS))"
   ]
  },
  {
   "cell_type": "code",
   "execution_count": 11,
   "metadata": {},
   "outputs": [
    {
     "data": {
      "image/png": "[encoded data removed]",
      "text/plain": [
       "plot without title"
      ]
     },
     "metadata": {
      "image/png": {
       "height": 420,
       "width": 420
      }
     },
     "output_type": "display_data"
    }
   ],
   "source": [
    "p <- ggplot(predResult2, aes(x = software, y = rate, fill = category)) +\n",
    "    geom_bar(stat = \"identity\", position = position_dodge()) +\n",
    "#     ylim(0, 1) +\n",
    "    scale_y_continuous(expand = c(0, 0), limits = c(0, 1.05)) +\n",
    "    labs(x = \"Software\", y = \"\", fill = \"Metric\") +\n",
    "    theme(\n",
    "        panel.background = element_rect(fill = \"transparent\", color = NA),\n",
    "        panel.border = element_rect(color = \"black\", fill = \"transparent\"),\n",
    "        panel.grid = element_blank(),\n",
    "        axis.text.x = element_text(angle = 45, hjust = 1)\n",
    "    )\n",
    "    \n",
    "p\n",
    "\n",
    "ggsave(\n",
    "    filename = file.path(OUTPUT_DIR, \"software.svg\"),\n",
    "    plot = p,\n",
    "    device = \"svg\",\n",
    "    width = 3.25, height = 2.4\n",
    ")"
   ]
  }
 ],
 "metadata": {
  "kernelspec": {
   "display_name": "R 4.1",
   "language": "R",
   "name": "ir41"
  },
  "language_info": {
   "codemirror_mode": "r",
   "file_extension": ".r",
   "mimetype": "text/x-r-source",
   "name": "R",
   "pygments_lexer": "r",
   "version": "4.1.0"
  }
 },
 "nbformat": 4,
 "nbformat_minor": 2
}
