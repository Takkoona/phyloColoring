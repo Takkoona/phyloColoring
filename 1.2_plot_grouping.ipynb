{
 "cells": [
  {
   "cell_type": "markdown",
   "metadata": {},
   "source": [
    "## Important\n",
    "`run_mafft.sh` and `run_raxml.sh` in `Trees/H3N2_HA1_pre2010` to build the tree beforehand."
   ]
  },
  {
   "cell_type": "code",
   "execution_count": 1,
   "metadata": {},
   "outputs": [],
   "source": [
    "library(RColorBrewer)\n",
    "library(ggplot2)\n",
    "suppressPackageStartupMessages(library(ggtree))\n",
    "\n",
    "CLUSTER_DIR <- \"Clustering\"\n",
    "TREES_DIR <- \"Trees\"\n",
    "PLOTS_DIR <- \"Plots\"\n",
    "\n",
    "H3N2_HA1_PRE2010 <- \"H3N2_HA1_pre2010\""
   ]
  },
  {
   "cell_type": "code",
   "execution_count": 2,
   "metadata": {},
   "outputs": [],
   "source": [
    "dir.create(PLOTS_DIR, showWarnings = FALSE)"
   ]
  },
  {
   "cell_type": "code",
   "execution_count": 3,
   "metadata": {},
   "outputs": [],
   "source": [
    "tree <- read.tree(file.path(TREES_DIR, H3N2_HA1_PRE2010, \"RAxML_bestTree.PROTGAMMAGTR\"))\n",
    "clusterInfo <- read.csv(file.path(CLUSTER_DIR, paste0(H3N2_HA1_PRE2010, \".csv\")), stringsAsFactors = FALSE)"
   ]
  },
  {
   "cell_type": "code",
   "execution_count": 4,
   "metadata": {},
   "outputs": [],
   "source": [
    "group <- split(clusterInfo[[\"id\"]], clusterInfo[[\"cluster\"]])"
   ]
  },
  {
   "cell_type": "code",
   "execution_count": 5,
   "metadata": {},
   "outputs": [
    {
     "data": {
      "image/png": "[encoded data removed]",
      "text/plain": [
       "plot without title"
      ]
     },
     "metadata": {
      "image/png": {
       "height": 420,
       "width": 420
      },
      "text/plain": {
       "height": 420,
       "width": 420
      }
     },
     "output_type": "display_data"
    }
   ],
   "source": [
    "groupColors <- colorRampPalette(brewer.pal(9, \"Set1\"))(length(group))\n",
    "names(groupColors) <- names(group)\n",
    "groupColors[\"0\"] <- \"#999999\"\n",
    "\n",
    "p <- ggtree(groupOTU(tree, group), aes(color = group)) +\n",
    "    theme(legend.position = \"left\") +\n",
    "    ggtitle(\"Antigenic grouping\") +\n",
    "    scale_color_manual(values = as.list(groupColors), limits = names(groupColors)) +\n",
    "    guides(\n",
    "      color = guide_legend(\n",
    "        override.aes = list(size = 3),\n",
    "        title = 'Groups'\n",
    "      )\n",
    "    )\n",
    "p\n",
    "ggsave(\n",
    "    filename = file.path(PLOTS_DIR, paste0(H3N2_HA1_PRE2010, \"_cluster.pdf\")), \n",
    "    plot = p, device = \"pdf\", width = 7, height = 10\n",
    ")"
   ]
  }
 ],
 "metadata": {
  "kernelspec": {
   "display_name": "R",
   "language": "R",
   "name": "ir"
  },
  "language_info": {
   "codemirror_mode": "r",
   "file_extension": ".r",
   "mimetype": "text/x-r-source",
   "name": "R",
   "pygments_lexer": "r",
   "version": "4.0.0"
  }
 },
 "nbformat": 4,
 "nbformat_minor": 2
}
