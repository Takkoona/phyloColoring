{
 "cells": [
  {
   "cell_type": "code",
   "execution_count": 1,
   "metadata": {},
   "outputs": [
    {
     "name": "stderr",
     "output_type": "stream",
     "text": [
      "Warning message:\n",
      "\"package 'sitePath' was built under R version 3.6.3\"\n"
     ]
    }
   ],
   "source": [
    "library(ape)\n",
    "library(sitePath)"
   ]
  },
  {
   "cell_type": "code",
   "execution_count": 2,
   "metadata": {},
   "outputs": [],
   "source": [
    "data(h3n2_align)\n",
    "data(h3n2_tree)"
   ]
  },
  {
   "cell_type": "code",
   "execution_count": 3,
   "metadata": {},
   "outputs": [],
   "source": [
    "tree <- addMSA(h3n2_tree, alignment = h3n2_align)"
   ]
  },
  {
   "cell_type": "code",
   "execution_count": 4,
   "metadata": {},
   "outputs": [],
   "source": [
    "paths <- lineagePath(tree, similarity = 0.023)"
   ]
  },
  {
   "cell_type": "code",
   "execution_count": 5,
   "metadata": {},
   "outputs": [
    {
     "data": {
      "image/png": "[encoded data removed]",
      "text/plain": [
       "plot without title"
      ]
     },
     "metadata": {
      "image/png": {
       "height": 420,
       "width": 420
      },
      "text/plain": {
       "height": 420,
       "width": 420
      }
     },
     "output_type": "display_data"
    }
   ],
   "source": [
    "plot(paths)"
   ]
  },
  {
   "cell_type": "code",
   "execution_count": 6,
   "metadata": {},
   "outputs": [],
   "source": [
    "fixationlineages <- function (paths,\n",
    "                              minEffectiveSize = NULL,\n",
    "                              searchDepth = 1,\n",
    "                              method = c(\"compare\", \"insert\", \"delete\"),\n",
    "                              ...) {\n",
    "    tree <- attr(paths, \"tree\")\n",
    "    nTips <- length(tree[[\"tip.label\"]])\n",
    "    align <- attr(paths, \"align\")\n",
    "    # Generate the site mapping from reference\n",
    "    reference <- attr(paths, \"reference\")\n",
    "    # Decide which miniminzing strategy\n",
    "    minimizeEntropy <- switch(\n",
    "        match.arg(method),\n",
    "        \"compare\" = sitePath:::minEntropyByComparing,\n",
    "        \"insert\" = sitePath:::minEntropyByInserting,\n",
    "        \"delete\" = sitePath:::minEntropyByDeleting\n",
    "    )\n",
    "    # Get the 'minEffectiveSize' for each fixation\n",
    "    if (is.null(minEffectiveSize)) {\n",
    "        minEffectiveSize <- nTips / length(unique(unlist(paths)))\n",
    "    } else if (!is.numeric(minEffectiveSize)) {\n",
    "        stop(\"\\\"minEffectiveSize\\\" only accepts numeric\")\n",
    "    }\n",
    "    minEffectiveSize <- ceiling(minEffectiveSize)\n",
    "    # Get the 'searchDepth' for heuristic search\n",
    "    if (searchDepth < 1) {\n",
    "        stop(\"\\\"searchDepth\\\" should be at least 1\")\n",
    "    } else {\n",
    "        searchDepth <- ceiling(searchDepth)\n",
    "    }\n",
    "    divNodes <- sitePath:::divergentNode(paths)\n",
    "    nodeAlign <- sitePath:::.tipSeqsAlongPathNodes(\n",
    "        paths = paths,\n",
    "        divNodes = divNodes,\n",
    "        tree = tree,\n",
    "        align = align\n",
    "    )\n",
    "    res <- sitePath:::.findFixationSite(\n",
    "        paths = paths,\n",
    "        tree = tree,\n",
    "        align = align,\n",
    "        nodeAlign = nodeAlign,\n",
    "        divNodes = divNodes,\n",
    "        reference = reference,\n",
    "        minimizeEntropy = minimizeEntropy,\n",
    "        minEffectiveSize = minEffectiveSize,\n",
    "        searchDepth = searchDepth\n",
    "    )\n",
    "    attr(res, \"paths\") <- paths\n",
    "    attr(res, \"reference\") <- reference\n",
    "    class(res) <- \"fixationSites\"\n",
    "    return(res)\n",
    "}"
   ]
  },
  {
   "cell_type": "code",
   "execution_count": 9,
   "metadata": {},
   "outputs": [],
   "source": [
    "mutations <- fixationlineages(paths)"
   ]
  },
  {
   "cell_type": "code",
   "execution_count": 11,
   "metadata": {},
   "outputs": [],
   "source": [
    "groupByPath <- lapply(paths, function (p) {\n",
    "    terminalTips <- sitePath:::.childrenTips(tree, p[length(p)])\n",
    "    group <- list()\n",
    "    for (sp in mutations) {\n",
    "        site <- attr(sp, \"site\")\n",
    "        for (mp in sp) {\n",
    "            tips <- mp[[length(mp)]]\n",
    "            if (all(terminalTips %in% tips)) {\n",
    "                toAdd <- lapply(mp, function (tips) {\n",
    "                    siteChar <- attr(tips, \"AA\")\n",
    "                    attributes(tips) <- NULL\n",
    "                    attr(tips, \"site\") <- site\n",
    "                    names(attr(tips, \"site\")) <- siteChar\n",
    "                    tips\n",
    "                })\n",
    "                group <- c(group, list(toAdd))\n",
    "            }\n",
    "        }\n",
    "    }\n",
    "    return(group)\n",
    "})"
   ]
  },
  {
   "cell_type": "code",
   "execution_count": 74,
   "metadata": {
    "scrolled": true
   },
   "outputs": [],
   "source": [
    "grouping <- lapply(groupByPath, function (paths) {\n",
    "    res <- paths[[1]]\n",
    "    for (p in paths[-1]) {\n",
    "        for (tips in p) {\n",
    "            site <- attr(tips, \"site\")\n",
    "            # Update grouping for each tips\n",
    "            newGrouping <- list()\n",
    "            for (i in seq_along(res)) {\n",
    "                gp <- res[[i]]\n",
    "                common <- sort(intersect(tips, gp))\n",
    "                if (length(common) == 0) {\n",
    "                    newGrouping <- res[1:i]\n",
    "                } else if (identical(sort(gp), sort(tips))) {\n",
    "                    attr(gp, \"site\") <- c(attr(gp, \"site\"), site)\n",
    "                    if (i + 1 <= length(res)) {\n",
    "                        trailing <- res[(i + 1):length(res)]\n",
    "                    } else {\n",
    "                        trailing <- list()\n",
    "                    }\n",
    "                    newGrouping <- c(newGrouping, list(gp), trailing)\n",
    "                    break\n",
    "                } else {\n",
    "                    if (identical(sort(gp), common)) {\n",
    "                        # The new coming tips includes the current group\n",
    "                        # The extra tips stay for the next loop\n",
    "                        tips <- setdiff(tips, gp)\n",
    "                        # Update the SNP site info for the current group\n",
    "                        attr(gp, \"site\") <- c(attr(gp, \"site\"), site)\n",
    "                        newGrouping <- c(newGrouping, list(gp))\n",
    "                    } else if (identical(sort(tips), common)) {\n",
    "                        # The new coming tips are included in the group (they are used up at this point)\n",
    "                        separate <- setdiff(gp, tips)\n",
    "                        attributes(separate) <- attributes(gp)\n",
    "                        attr(tips, \"site\") <- c(attr(gp, \"site\"), site)\n",
    "                        if (i + 1 <= length(res)) {\n",
    "                            trailing <- res[(i + 1):length(res)]\n",
    "                        } else {\n",
    "                            trailing <- list()\n",
    "                        }\n",
    "                        newGrouping <- c(newGrouping, list(tips), list(separate), trailing)\n",
    "                        # Go for the next new coming tips\n",
    "                        break\n",
    "                    } else {\n",
    "                        stop(\"Something's not right\")\n",
    "                    }\n",
    "                }\n",
    "            }\n",
    "            # The new coming tips are used up and update the grouping\n",
    "            res <- newGrouping\n",
    "        }\n",
    "    }\n",
    "    return(res)\n",
    "})"
   ]
  },
  {
   "cell_type": "code",
   "execution_count": 75,
   "metadata": {},
   "outputs": [
    {
     "name": "stdout",
     "output_type": "stream",
     "text": [
      "[[1]]\n",
      " [1] 40 40 40 40 40 40 40 40 40 40 40 40 40 40 40 40 40 40\n",
      "\n",
      "[[2]]\n",
      " [1] 49 49 49 49 49 49 49 49 49 49 49 49 49 49 49 49 49 49 49 49 49 49 49 49 49\n",
      "[26] 49 49 49\n",
      "\n",
      "[[3]]\n",
      " [1] 48 48 48 48 48 48 48 48 48 48 48 48 48 48 48 48 48 48 48 48 48 48 48 48 48\n",
      "[26] 48 48 48 48 48 48 48 48 48 48 48 48 48 48 48 48 48 48 48 48 48 48 48 48\n",
      "\n",
      "[[4]]\n",
      "[1] 58 58 58 58 58 58 58 58\n",
      "\n"
     ]
    }
   ],
   "source": [
    "print(lapply(grouping, function (gp) {\n",
    "    lengths(lapply(gp, attr, \"site\"))\n",
    "}))"
   ]
  }
 ],
 "metadata": {
  "kernelspec": {
   "display_name": "R",
   "language": "R",
   "name": "ir"
  },
  "language_info": {
   "codemirror_mode": "r",
   "file_extension": ".r",
   "mimetype": "text/x-r-source",
   "name": "R",
   "pygments_lexer": "r",
   "version": "3.6.1"
  }
 },
 "nbformat": 4,
 "nbformat_minor": 2
}
