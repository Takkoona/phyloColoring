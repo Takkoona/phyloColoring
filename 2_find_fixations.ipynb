{
 "cells": [
  {
   "cell_type": "markdown",
   "metadata": {},
   "source": [
    "## Important\n",
    "\n",
    "`run_mafft.sh` and `run_raxml.sh` in each subfoloder of `Trees` to build the trees beforehand."
   ]
  },
  {
   "cell_type": "code",
   "execution_count": 1,
   "metadata": {},
   "outputs": [
    {
     "name": "stderr",
     "output_type": "stream",
     "text": [
      "Warning message:\n",
      "\"package 'sitePath' was built under R version 3.6.3\"\n"
     ]
    }
   ],
   "source": [
    "library(ape)\n",
    "library(sitePath)\n",
    "\n",
    "TREES_DIR <- \"Trees\"\n",
    "PLOTS_DIR <- \"Plots\"\n",
    "\n",
    "H3N2_HA1_PRE2010 <- \"H3N2_HA1_pre2010\"\n",
    "ZIKV_POLYPROTEIN <- \"ZIKV_polyprotein\"\n",
    "SARS_COV_2_CDS <- \"SARS_CoV_2_cds\""
   ]
  },
  {
   "cell_type": "markdown",
   "metadata": {},
   "source": [
    "## 1. H3N2 HA before 2010"
   ]
  },
  {
   "cell_type": "code",
   "execution_count": 2,
   "metadata": {},
   "outputs": [],
   "source": [
    "dataDir <- file.path(TREES_DIR, H3N2_HA1_PRE2010)\n",
    "\n",
    "tree <- read.tree(file.path(dataDir, \"RAxML_bestTree.PROTGAMMAGTR\"))\n",
    "tree <- addMSA(tree, file.path(dataDir, \"aligned.fasta\"), \"fasta\")"
   ]
  },
  {
   "cell_type": "code",
   "execution_count": 3,
   "metadata": {},
   "outputs": [],
   "source": [
    "paths <- lineagePath(tree)\n",
    "mutations <- fixationSites(paths)"
   ]
  },
  {
   "cell_type": "code",
   "execution_count": 4,
   "metadata": {},
   "outputs": [
    {
     "data": {
      "image/png": "[encoded data removed]",
      "text/plain": [
       "plot without title"
      ]
     },
     "metadata": {
      "image/png": {
       "height": 420,
       "width": 420
      },
      "text/plain": {
       "height": 420,
       "width": 420
      }
     },
     "output_type": "display_data"
    }
   ],
   "source": [
    "plot(lineagePath(tree))"
   ]
  }
 ],
 "metadata": {
  "kernelspec": {
   "display_name": "R",
   "language": "R",
   "name": "ir"
  },
  "language_info": {
   "codemirror_mode": "r",
   "file_extension": ".r",
   "mimetype": "text/x-r-source",
   "name": "R",
   "pygments_lexer": "r",
   "version": "3.6.1"
  }
 },
 "nbformat": 4,
 "nbformat_minor": 2
}
