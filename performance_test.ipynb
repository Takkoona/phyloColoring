{
 "cells": [
  {
   "cell_type": "markdown",
   "metadata": {},
   "source": [
    "# Important\n",
    "\n",
    "Run `Scripts/get_template_data.R` and `Scripts/detect_sites_*.R` scripts in `Tests/` (`./Tests/` has to be the working directory for the scripts) before this notebook."
   ]
  },
  {
   "cell_type": "code",
   "execution_count": 1,
   "metadata": {},
   "outputs": [],
   "source": [
    "library(ggplot2)\n",
    "library(sitePath)"
   ]
  },
  {
   "cell_type": "code",
   "execution_count": 2,
   "metadata": {},
   "outputs": [],
   "source": [
    "mutations <- readRDS(file.path(\"Tests\", \"H3N2_HA\", \"mutations.rds\"))\n",
    "align <- attr(attr(mutations, \"paths\"), \"align\")\n",
    "\n",
    "loci <- which(vapply(\n",
    "    X = seq_along(attr(mutations, \"reference\")),\n",
    "    FUN = function(s) {\n",
    "        length(unique(substr(align, s, s))) > 1\n",
    "    },\n",
    "    FUN.VALUE = logical(1)\n",
    "))\n",
    "\n",
    "siteCategory <- data.frame(\n",
    "    \"site\" = integer(),\n",
    "    \"category\" = character(),\n",
    "    \"fixationSite\" = logical()\n",
    ")\n",
    "\n",
    "fixationSites <- c(\n",
    "    19, 42, 50, 62, 65, 67, 74, 92, 100, 138,\n",
    "    145, 148, 150, 154, 157, 159, 161, 162, 172, \n",
    "    173, 175, 176, 177, 188, 190, 203, 206, 209, \n",
    "    210, 213, 215, 219, 229, 239, 240, 242, 243,\n",
    "    244, 279, 293, 295, 328, 329, 378, 392, 403,\n",
    "    423, 467, 469, 501, 506, 547\n",
    ")\n",
    "siteCategory <- rbind(\n",
    "    siteCategory,\n",
    "    data.frame(\n",
    "        \"site\" = fixationSites,\n",
    "        \"category\" = rep(\"fixed\", length(fixationSites)),\n",
    "        \"fixationSite\" = rep(TRUE, length(fixationSites))\n",
    "    )\n",
    ")\n",
    "\n",
    "chaoticSites <- c(79, 111, 152, 189)\n",
    "siteCategory <- rbind(\n",
    "    siteCategory,\n",
    "    data.frame(\n",
    "        \"site\" = chaoticSites,\n",
    "        \"category\" = rep(\"dynamic\", length(chaoticSites)),\n",
    "        \"fixationSite\" = rep(FALSE, length(chaoticSites))\n",
    "    )\n",
    ")\n",
    "\n",
    "conservedSites <- setdiff(loci, c(fixationSites, chaoticSites))\n",
    "siteCategory <- rbind(\n",
    "    siteCategory,\n",
    "    data.frame(\n",
    "        \"site\" = conservedSites,\n",
    "        \"category\" = rep(\"conserved\", length(conservedSites)),\n",
    "        \"fixationSite\" = rep(FALSE, length(conservedSites))\n",
    "    )\n",
    ")\n",
    "\n",
    "siteCategory <- siteCategory[order(siteCategory[[\"site\"]]), ]\n",
    "row.names(siteCategory) <- NULL"
   ]
  },
  {
   "cell_type": "code",
   "execution_count": 3,
   "metadata": {},
   "outputs": [],
   "source": [
    "figureDirPath <- file.path(\"Figures\", \"Tests\")\n",
    "dir.create(figureDirPath, showWarnings = FALSE)\n",
    "\n",
    "nPositive <- sum(siteCategory[[\"fixationSite\"]] == TRUE)\n",
    "nNegative <- sum(siteCategory[[\"fixationSite\"]] == FALSE)"
   ]
  },
  {
   "cell_type": "markdown",
   "metadata": {},
   "source": [
    "## 1. Manually assess the results from `SamplingTimes` Test\n",
    "\n",
    "Save the visualized results in `Figures` folder and then manually assess each sites."
   ]
  },
  {
   "cell_type": "code",
   "execution_count": 4,
   "metadata": {
    "scrolled": false
   },
   "outputs": [
    {
     "data": {
      "image/png": "[encoded data removed]",
      "text/plain": [
       "plot without title"
      ]
     },
     "metadata": {},
     "output_type": "display_data"
    }
   ],
   "source": [
    "resultsDirPath <- file.path(\"Tests\", \"SamplingTimes\")\n",
    "\n",
    "predResult <- data.frame(\n",
    "    \"samplingTimes\" = integer(),\n",
    "    \"rate\" = double(),\n",
    "    \"category\" = character()\n",
    ")\n",
    "\n",
    "for (mutFile in dir(resultsDirPath)) {\n",
    "    mutations <- readRDS(file.path(resultsDirPath, mutFile))\n",
    "    paths <- attr(mutations, \"paths\")\n",
    "    nTip <- regmatches(mutFile, gregexpr(\"(?<=\\\\().*?(?=\\\\))\", mutFile, perl=T))[[1]]\n",
    "    \n",
    "    assessTable <- siteCategory\n",
    "    sites <- as.integer(names(mutations))\n",
    "    assessTable[[\"predFixed\"]] <- assessTable[[\"site\"]] %in% sites\n",
    "    x <- assessTable[[\"fixationSite\"]] + assessTable[[\"predFixed\"]]\n",
    "    senstivity <- length(which(x == 2)) / nPositive\n",
    "    specificity <- length(which(x == 0)) / nNegative\n",
    "    predResult <- rbind(\n",
    "        predResult,\n",
    "        data.frame(\n",
    "            \"samplingTimes\" = c(as.integer(nTip), as.integer(nTip)),\n",
    "            \"rate\" = c(senstivity, specificity),\n",
    "            \"category\" = c(\"Senstivity\", \"Specificity\")\n",
    "        )\n",
    "    )\n",
    "}\n",
    "predResult <- predResult[order(predResult[[\"samplingTimes\"]]), ]\n",
    "row.names(predResult) <- NULL\n",
    "\n",
    "p <- ggplot(predResult, aes(samplingTimes, rate)) +\n",
    "    geom_point(aes(color = factor(category))) + ylim(0, 1)\n",
    "p"
   ]
  },
  {
   "cell_type": "markdown",
   "metadata": {},
   "source": [
    "## 2. Manually assess the results from `SamplingSize` Test\n",
    "\n",
    "Save the visualized results in `Figures` folder and then manually assess each sites."
   ]
  },
  {
   "cell_type": "code",
   "execution_count": 5,
   "metadata": {
    "scrolled": false
   },
   "outputs": [],
   "source": [
    "resultsDirPath <- file.path(\"Tests\", \"SamplingSize\")\n",
    "\n",
    "predResult <- data.frame(\n",
    "    \"samplingSize\" = integer(),\n",
    "    \"rate\" = double(),\n",
    "    \"category\" = character()\n",
    ")\n",
    "\n",
    "totalTips <- length(attr(attr(mutations, \"paths\"), \"tree\")$tip.label)\n",
    "\n",
    "for (mutFile in dir(resultsDirPath)) {\n",
    "    mutations <- readRDS(file.path(resultsDirPath, mutFile))\n",
    "    paths <- attr(mutations, \"paths\")\n",
    "    nTip <- gsub(\"[\\\\(\\\\)]\", \"\", regmatches(mutFile, gregexpr(\"\\\\(.*?\\\\)\", mutFile))[[1]])\n",
    "    \n",
    "    assessTable <- siteCategory\n",
    "    sites <- as.integer(names(mutations))\n",
    "    assessTable[[\"predFixed\"]] <- assessTable[[\"site\"]] %in% sites\n",
    "    x <- assessTable[[\"fixationSite\"]] + assessTable[[\"predFixed\"]]\n",
    "    senstivity <- length(which(x == 2)) / nPositive\n",
    "    specificity <- length(which(x == 0)) / nNegative\n",
    "    predResult <- rbind(\n",
    "        predResult,\n",
    "        data.frame(\n",
    "            \"samplingSize\" = c(as.integer(nTip), as.integer(nTip)) / totalTips,\n",
    "            \"rate\" = c(senstivity, specificity),\n",
    "            \"category\" = c(\"Senstivity\", \"Specificity\")\n",
    "        )\n",
    "    )\n",
    "}\n",
    "predResult <- predResult[order(predResult[[\"samplingSize\"]]), ]\n",
    "row.names(predResult) <- NULL"
   ]
  },
  {
   "cell_type": "code",
   "execution_count": 6,
   "metadata": {},
   "outputs": [
    {
     "data": {
      "image/png": "[encoded data removed]",
      "text/plain": [
       "plot without title"
      ]
     },
     "metadata": {},
     "output_type": "display_data"
    }
   ],
   "source": [
    "p <- ggplot(predResult, aes(samplingSize, rate)) +\n",
    "    geom_point(aes(color = category)) + \n",
    "    ylim(0, 1) +\n",
    "    labs(x = \"Sample size (against total)\", y = \"\", color = NULL)\n",
    "p\n",
    "\n",
    "ggsave(\n",
    "    filename = file.path(figureDirPath, \"samplingSize.pdf\"),\n",
    "    plot = p,\n",
    "    device = \"pdf\",\n",
    "    width = 3.25, height = 2\n",
    ")"
   ]
  },
  {
   "cell_type": "markdown",
   "metadata": {},
   "source": [
    "## 3. Manually assess the results from `minEffectiveSize` Test\n",
    "\n",
    "Save the visualized results in `Figures` folder and then manually assess each sites."
   ]
  },
  {
   "cell_type": "code",
   "execution_count": 7,
   "metadata": {},
   "outputs": [],
   "source": [
    "resultsDirPath <- file.path(\"Tests\", \"minEffectiveSize\")\n",
    "\n",
    "predResult <- data.frame(\n",
    "    \"minEffectiveSize\" = double(),\n",
    "    \"rate\" = double(),\n",
    "    \"category\" = character()\n",
    ")\n",
    "\n",
    "for (mutFile in dir(resultsDirPath)) {\n",
    "    mutations <- readRDS(file.path(resultsDirPath, mutFile))\n",
    "    paths <- attr(mutations, \"paths\")\n",
    "    \n",
    "    minEffectiveSize <- regmatches(mutFile, gregexpr(\"(?<=\\\\().*?(?=\\\\))\", mutFile, perl=T))[[1]]\n",
    "    minEffectiveSize <- ceiling(as.integer(minEffectiveSize))\n",
    "    \n",
    "    assessTable <- siteCategory\n",
    "    sites <- as.integer(names(mutations))\n",
    "    assessTable[[\"predFixed\"]] <- assessTable[[\"site\"]] %in% sites\n",
    "    x <- assessTable[[\"fixationSite\"]] + assessTable[[\"predFixed\"]]\n",
    "    senstivity <- length(which(x == 2)) / nPositive\n",
    "    specificity <- length(which(x == 0)) / nNegative\n",
    "    predResult <- rbind(\n",
    "        predResult,\n",
    "        data.frame(\n",
    "            \"minEffectiveSize\" = c(minEffectiveSize, minEffectiveSize),\n",
    "            \"rate\" = c(senstivity, specificity),\n",
    "            \"category\" = c(\"Senstivity\", \"Specificity\")\n",
    "        )\n",
    "    )\n",
    "}\n",
    "\n",
    "predResult <- predResult[order(predResult[[\"minEffectiveSize\"]]), ]\n",
    "row.names(predResult) <- NULL"
   ]
  },
  {
   "cell_type": "code",
   "execution_count": 8,
   "metadata": {
    "scrolled": false
   },
   "outputs": [
    {
     "data": {
      "image/png": "[encoded data removed]",
      "text/plain": [
       "plot without title"
      ]
     },
     "metadata": {},
     "output_type": "display_data"
    }
   ],
   "source": [
    "p <- ggplot(predResult, aes(minEffectiveSize, rate)) +\n",
    "    geom_point(aes(color = category)) + \n",
    "    ylim(0, 1) +\n",
    "    labs(x = \"Minimum fixation tips\", y = \"\", color = NULL)\n",
    "p\n",
    "\n",
    "ggsave(\n",
    "    filename = file.path(figureDirPath, \"minEffectiveSize.pdf\"),\n",
    "    plot = p,\n",
    "    device = \"pdf\",\n",
    "    width = 3.25, height = 2\n",
    ")"
   ]
  }
 ],
 "metadata": {
  "kernelspec": {
   "display_name": "R 4.1",
   "language": "R",
   "name": "ir41"
  },
  "language_info": {
   "codemirror_mode": "r",
   "file_extension": ".r",
   "mimetype": "text/x-r-source",
   "name": "R",
   "pygments_lexer": "r",
   "version": "4.1.0"
  }
 },
 "nbformat": 4,
 "nbformat_minor": 2
}
